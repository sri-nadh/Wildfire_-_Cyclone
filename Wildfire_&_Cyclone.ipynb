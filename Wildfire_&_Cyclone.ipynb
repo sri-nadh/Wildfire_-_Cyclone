{
 "cells": [
  {
   "cell_type": "code",
   "execution_count": 5,
   "id": "baad3f36",
   "metadata": {},
   "outputs": [
    {
     "name": "stdout",
     "output_type": "stream",
     "text": [
      "Collecting ultralytics\n",
      "  Using cached ultralytics-8.1.28-py3-none-any.whl (721 kB)\n",
      "Collecting torch>=1.8.0\n",
      "  Downloading torch-2.2.1-cp310-none-macosx_11_0_arm64.whl (59.7 MB)\n",
      "\u001b[2K     \u001b[90m━━━━━━━━━━━━━━━━━━━━━━━━━━━━━━━━━━━━━━━━\u001b[0m \u001b[32m59.7/59.7 MB\u001b[0m \u001b[31m10.4 MB/s\u001b[0m eta \u001b[36m0:00:00\u001b[0m00:01\u001b[0m00:01\u001b[0m\n",
      "\u001b[?25hCollecting tqdm>=4.64.0\n",
      "  Using cached tqdm-4.66.2-py3-none-any.whl (78 kB)\n",
      "Collecting thop>=0.1.1\n",
      "  Using cached thop-0.1.1.post2209072238-py3-none-any.whl (15 kB)\n",
      "Requirement already satisfied: requests>=2.23.0 in /opt/homebrew/lib/python3.10/site-packages (from ultralytics) (2.31.0)\n",
      "Requirement already satisfied: scipy>=1.4.1 in /opt/homebrew/lib/python3.10/site-packages (from ultralytics) (1.9.1)\n",
      "Collecting py-cpuinfo\n",
      "  Using cached py_cpuinfo-9.0.0-py3-none-any.whl (22 kB)\n",
      "Collecting torchvision>=0.9.0\n",
      "  Downloading torchvision-0.17.1-cp310-cp310-macosx_11_0_arm64.whl (1.6 MB)\n",
      "\u001b[2K     \u001b[90m━━━━━━━━━━━━━━━━━━━━━━━━━━━━━━━━━━━━━━━━\u001b[0m \u001b[32m1.6/1.6 MB\u001b[0m \u001b[31m11.9 MB/s\u001b[0m eta \u001b[36m0:00:00\u001b[0m00:01\u001b[0m00:01\u001b[0m\n",
      "\u001b[?25hCollecting pyyaml>=5.3.1\n",
      "  Downloading PyYAML-6.0.1-cp310-cp310-macosx_11_0_arm64.whl (169 kB)\n",
      "\u001b[2K     \u001b[90m━━━━━━━━━━━━━━━━━━━━━━━━━━━━━━━━━━━━━━━\u001b[0m \u001b[32m169.3/169.3 kB\u001b[0m \u001b[31m9.8 MB/s\u001b[0m eta \u001b[36m0:00:00\u001b[0m\n",
      "\u001b[?25hRequirement already satisfied: pillow>=7.1.2 in /opt/homebrew/lib/python3.10/site-packages (from ultralytics) (9.2.0)\n",
      "Requirement already satisfied: psutil in /opt/homebrew/lib/python3.10/site-packages (from ultralytics) (5.9.1)\n",
      "Requirement already satisfied: pandas>=1.1.4 in /opt/homebrew/lib/python3.10/site-packages (from ultralytics) (1.4.3)\n",
      "Requirement already satisfied: matplotlib>=3.3.0 in /opt/homebrew/lib/python3.10/site-packages (from ultralytics) (3.5.3)\n",
      "Collecting opencv-python>=4.6.0\n",
      "  Using cached opencv_python-4.9.0.80-cp37-abi3-macosx_11_0_arm64.whl (35.4 MB)\n",
      "Requirement already satisfied: seaborn>=0.11.0 in /opt/homebrew/lib/python3.10/site-packages (from ultralytics) (0.12.1)\n",
      "Requirement already satisfied: packaging>=20.0 in /opt/homebrew/lib/python3.10/site-packages (from matplotlib>=3.3.0->ultralytics) (21.3)\n",
      "Requirement already satisfied: numpy>=1.17 in /opt/homebrew/lib/python3.10/site-packages (from matplotlib>=3.3.0->ultralytics) (1.23.2)\n",
      "Requirement already satisfied: python-dateutil>=2.7 in /opt/homebrew/lib/python3.10/site-packages (from matplotlib>=3.3.0->ultralytics) (2.8.2)\n",
      "Requirement already satisfied: fonttools>=4.22.0 in /opt/homebrew/lib/python3.10/site-packages (from matplotlib>=3.3.0->ultralytics) (4.37.1)\n",
      "Requirement already satisfied: kiwisolver>=1.0.1 in /opt/homebrew/lib/python3.10/site-packages (from matplotlib>=3.3.0->ultralytics) (1.4.4)\n",
      "Requirement already satisfied: cycler>=0.10 in /opt/homebrew/lib/python3.10/site-packages (from matplotlib>=3.3.0->ultralytics) (0.11.0)\n",
      "Requirement already satisfied: pyparsing>=2.2.1 in /opt/homebrew/lib/python3.10/site-packages (from matplotlib>=3.3.0->ultralytics) (3.0.9)\n",
      "Requirement already satisfied: pytz>=2020.1 in /opt/homebrew/lib/python3.10/site-packages (from pandas>=1.1.4->ultralytics) (2022.2.1)\n",
      "Requirement already satisfied: charset-normalizer<4,>=2 in /opt/homebrew/lib/python3.10/site-packages (from requests>=2.23.0->ultralytics) (3.2.0)\n",
      "Requirement already satisfied: idna<4,>=2.5 in /opt/homebrew/lib/python3.10/site-packages (from requests>=2.23.0->ultralytics) (3.4)\n",
      "Requirement already satisfied: urllib3<3,>=1.21.1 in /opt/homebrew/lib/python3.10/site-packages (from requests>=2.23.0->ultralytics) (2.0.4)\n",
      "Requirement already satisfied: certifi>=2017.4.17 in /opt/homebrew/lib/python3.10/site-packages (from requests>=2.23.0->ultralytics) (2023.7.22)\n",
      "Requirement already satisfied: jinja2 in /opt/homebrew/lib/python3.10/site-packages (from torch>=1.8.0->ultralytics) (3.1.2)\n",
      "Collecting networkx\n",
      "  Using cached networkx-3.2.1-py3-none-any.whl (1.6 MB)\n",
      "Collecting fsspec\n",
      "  Using cached fsspec-2024.2.0-py3-none-any.whl (170 kB)\n",
      "Collecting filelock\n",
      "  Using cached filelock-3.13.1-py3-none-any.whl (11 kB)\n",
      "Collecting sympy\n",
      "  Using cached sympy-1.12-py3-none-any.whl (5.7 MB)\n",
      "Collecting typing-extensions>=4.8.0\n",
      "  Using cached typing_extensions-4.10.0-py3-none-any.whl (33 kB)\n",
      "Requirement already satisfied: six>=1.5 in /opt/homebrew/lib/python3.10/site-packages (from python-dateutil>=2.7->matplotlib>=3.3.0->ultralytics) (1.16.0)\n",
      "Requirement already satisfied: MarkupSafe>=2.0 in /opt/homebrew/lib/python3.10/site-packages (from jinja2->torch>=1.8.0->ultralytics) (2.1.1)\n",
      "Collecting mpmath>=0.19\n",
      "  Using cached mpmath-1.3.0-py3-none-any.whl (536 kB)\n",
      "Installing collected packages: py-cpuinfo, mpmath, typing-extensions, tqdm, sympy, pyyaml, opencv-python, networkx, fsspec, filelock, torch, torchvision, thop, ultralytics\n",
      "Successfully installed filelock-3.13.1 fsspec-2024.2.0 mpmath-1.3.0 networkx-3.2.1 opencv-python-4.9.0.80 py-cpuinfo-9.0.0 pyyaml-6.0.1 sympy-1.12 thop-0.1.1.post2209072238 torch-2.2.1 torchvision-0.17.1 tqdm-4.66.2 typing-extensions-4.10.0 ultralytics-8.1.28\n",
      "\n",
      "\u001b[1m[\u001b[0m\u001b[34;49mnotice\u001b[0m\u001b[1;39;49m]\u001b[0m\u001b[39;49m A new release of pip is available: \u001b[0m\u001b[31;49m23.0.1\u001b[0m\u001b[39;49m -> \u001b[0m\u001b[32;49m24.0\u001b[0m\n",
      "\u001b[1m[\u001b[0m\u001b[34;49mnotice\u001b[0m\u001b[1;39;49m]\u001b[0m\u001b[39;49m To update, run: \u001b[0m\u001b[32;49mpython3.10 -m pip install --upgrade pip\u001b[0m\n",
      "Note: you may need to restart the kernel to use updated packages.\n"
     ]
    }
   ],
   "source": [
    "pip install ultralytics"
   ]
  },
  {
   "cell_type": "code",
   "execution_count": 1,
   "id": "4b9ad061",
   "metadata": {},
   "outputs": [
    {
     "name": "stdout",
     "output_type": "stream",
     "text": [
      "Ultralytics YOLOv8.1.28 🚀 Python-3.10.12 torch-2.2.1 CPU (Apple M1)\n",
      "\u001b[34m\u001b[1mengine/trainer: \u001b[0mtask=detect, mode=train, model=yolov8n.pt, data=data.yaml, epochs=30, time=None, patience=100, batch=16, imgsz=640, save=True, save_period=-1, cache=False, device=None, workers=8, project=None, name=train14, exist_ok=False, pretrained=True, optimizer=auto, verbose=True, seed=0, deterministic=True, single_cls=False, rect=False, cos_lr=False, close_mosaic=10, resume=False, amp=True, fraction=1.0, profile=False, freeze=None, multi_scale=False, overlap_mask=True, mask_ratio=4, dropout=0.0, val=True, split=val, save_json=False, save_hybrid=False, conf=None, iou=0.7, max_det=300, half=False, dnn=False, plots=True, source=None, vid_stride=1, stream_buffer=False, visualize=False, augment=False, agnostic_nms=False, classes=None, retina_masks=False, embed=None, show=False, save_frames=False, save_txt=False, save_conf=False, save_crop=False, show_labels=True, show_conf=True, show_boxes=True, line_width=None, format=torchscript, keras=False, optimize=False, int8=False, dynamic=False, simplify=False, opset=None, workspace=4, nms=False, lr0=0.01, lrf=0.01, momentum=0.937, weight_decay=0.0005, warmup_epochs=3.0, warmup_momentum=0.8, warmup_bias_lr=0.1, box=7.5, cls=0.5, dfl=1.5, pose=12.0, kobj=1.0, label_smoothing=0.0, nbs=64, hsv_h=0.015, hsv_s=0.7, hsv_v=0.4, degrees=0.0, translate=0.1, scale=0.5, shear=0.0, perspective=0.0, flipud=0.0, fliplr=0.5, mosaic=1.0, mixup=0.0, copy_paste=0.0, auto_augment=randaugment, erasing=0.4, crop_fraction=1.0, cfg=None, tracker=botsort.yaml, save_dir=/opt/homebrew/runs/detect/train14\n",
      "Overriding model.yaml nc=80 with nc=2\n",
      "\n",
      "                   from  n    params  module                                       arguments                     \n",
      "  0                  -1  1       464  ultralytics.nn.modules.conv.Conv             [3, 16, 3, 2]                 \n",
      "  1                  -1  1      4672  ultralytics.nn.modules.conv.Conv             [16, 32, 3, 2]                \n",
      "  2                  -1  1      7360  ultralytics.nn.modules.block.C2f             [32, 32, 1, True]             \n",
      "  3                  -1  1     18560  ultralytics.nn.modules.conv.Conv             [32, 64, 3, 2]                \n",
      "  4                  -1  2     49664  ultralytics.nn.modules.block.C2f             [64, 64, 2, True]             \n",
      "  5                  -1  1     73984  ultralytics.nn.modules.conv.Conv             [64, 128, 3, 2]               \n",
      "  6                  -1  2    197632  ultralytics.nn.modules.block.C2f             [128, 128, 2, True]           \n",
      "  7                  -1  1    295424  ultralytics.nn.modules.conv.Conv             [128, 256, 3, 2]              \n",
      "  8                  -1  1    460288  ultralytics.nn.modules.block.C2f             [256, 256, 1, True]           \n",
      "  9                  -1  1    164608  ultralytics.nn.modules.block.SPPF            [256, 256, 5]                 \n",
      " 10                  -1  1         0  torch.nn.modules.upsampling.Upsample         [None, 2, 'nearest']          \n",
      " 11             [-1, 6]  1         0  ultralytics.nn.modules.conv.Concat           [1]                           \n",
      " 12                  -1  1    148224  ultralytics.nn.modules.block.C2f             [384, 128, 1]                 \n",
      " 13                  -1  1         0  torch.nn.modules.upsampling.Upsample         [None, 2, 'nearest']          \n",
      " 14             [-1, 4]  1         0  ultralytics.nn.modules.conv.Concat           [1]                           \n",
      " 15                  -1  1     37248  ultralytics.nn.modules.block.C2f             [192, 64, 1]                  \n",
      " 16                  -1  1     36992  ultralytics.nn.modules.conv.Conv             [64, 64, 3, 2]                \n",
      " 17            [-1, 12]  1         0  ultralytics.nn.modules.conv.Concat           [1]                           \n",
      " 18                  -1  1    123648  ultralytics.nn.modules.block.C2f             [192, 128, 1]                 \n",
      " 19                  -1  1    147712  ultralytics.nn.modules.conv.Conv             [128, 128, 3, 2]              \n",
      " 20             [-1, 9]  1         0  ultralytics.nn.modules.conv.Concat           [1]                           \n",
      " 21                  -1  1    493056  ultralytics.nn.modules.block.C2f             [384, 256, 1]                 \n",
      " 22        [15, 18, 21]  1    751702  ultralytics.nn.modules.head.Detect           [2, [64, 128, 256]]           \n",
      "Model summary: 225 layers, 3011238 parameters, 3011222 gradients, 8.2 GFLOPs\n",
      "\n",
      "Transferred 319/355 items from pretrained weights\n",
      "Freezing layer 'model.22.dfl.conv.weight'\n"
     ]
    },
    {
     "name": "stderr",
     "output_type": "stream",
     "text": [
      "\u001b[34m\u001b[1mtrain: \u001b[0mScanning /Users/sreenadh/yolov8_env/satellite_dataset_1/train/labels... 4\u001b[0m\n"
     ]
    },
    {
     "name": "stdout",
     "output_type": "stream",
     "text": [
      "\u001b[34m\u001b[1mtrain: \u001b[0mWARNING ⚠️ /Users/sreenadh/yolov8_env/satellite_dataset_1/train/images/4657.jpg: 2 duplicate labels removed\n",
      "\u001b[34m\u001b[1mtrain: \u001b[0mWARNING ⚠️ /Users/sreenadh/yolov8_env/satellite_dataset_1/train/images/4658.jpg: 2 duplicate labels removed\n",
      "\u001b[34m\u001b[1mtrain: \u001b[0mWARNING ⚠️ /Users/sreenadh/yolov8_env/satellite_dataset_1/train/images/4721.jpg: 2 duplicate labels removed\n",
      "\u001b[34m\u001b[1mtrain: \u001b[0mWARNING ⚠️ /Users/sreenadh/yolov8_env/satellite_dataset_1/train/images/4722.jpg: 2 duplicate labels removed\n",
      "\u001b[34m\u001b[1mtrain: \u001b[0mWARNING ⚠️ /Users/sreenadh/yolov8_env/satellite_dataset_1/train/images/4723.jpg: 2 duplicate labels removed\n",
      "\u001b[34m\u001b[1mtrain: \u001b[0mWARNING ⚠️ /Users/sreenadh/yolov8_env/satellite_dataset_1/train/images/4724.jpg: 2 duplicate labels removed\n",
      "\u001b[34m\u001b[1mtrain: \u001b[0mWARNING ⚠️ /Users/sreenadh/yolov8_env/satellite_dataset_1/train/images/4867.jpg: 2 duplicate labels removed\n",
      "\u001b[34m\u001b[1mtrain: \u001b[0mWARNING ⚠️ /Users/sreenadh/yolov8_env/satellite_dataset_1/train/images/4868.jpg: 2 duplicate labels removed\n",
      "\u001b[34m\u001b[1mtrain: \u001b[0mWARNING ⚠️ /Users/sreenadh/yolov8_env/satellite_dataset_1/train/images/4895.jpg: 2 duplicate labels removed\n",
      "\u001b[34m\u001b[1mtrain: \u001b[0mWARNING ⚠️ /Users/sreenadh/yolov8_env/satellite_dataset_1/train/images/4896.jpg: 2 duplicate labels removed\n",
      "\u001b[34m\u001b[1mtrain: \u001b[0mWARNING ⚠️ /Users/sreenadh/yolov8_env/satellite_dataset_1/train/images/4967.jpg: 2 duplicate labels removed\n",
      "\u001b[34m\u001b[1mtrain: \u001b[0mWARNING ⚠️ /Users/sreenadh/yolov8_env/satellite_dataset_1/train/images/4968.jpg: 2 duplicate labels removed\n",
      "\u001b[34m\u001b[1mtrain: \u001b[0mWARNING ⚠️ /Users/sreenadh/yolov8_env/satellite_dataset_1/train/images/4995.jpg: 2 duplicate labels removed\n",
      "\u001b[34m\u001b[1mtrain: \u001b[0mWARNING ⚠️ /Users/sreenadh/yolov8_env/satellite_dataset_1/train/images/4996.jpg: 2 duplicate labels removed\n",
      "\u001b[34m\u001b[1mtrain: \u001b[0mWARNING ⚠️ /Users/sreenadh/yolov8_env/satellite_dataset_1/train/images/5077.jpg: 2 duplicate labels removed\n",
      "\u001b[34m\u001b[1mtrain: \u001b[0mWARNING ⚠️ /Users/sreenadh/yolov8_env/satellite_dataset_1/train/images/5078.jpg: 2 duplicate labels removed\n",
      "\u001b[34m\u001b[1mtrain: \u001b[0mWARNING ⚠️ /Users/sreenadh/yolov8_env/satellite_dataset_1/train/images/5079.jpg: 2 duplicate labels removed\n",
      "\u001b[34m\u001b[1mtrain: \u001b[0mWARNING ⚠️ /Users/sreenadh/yolov8_env/satellite_dataset_1/train/images/5080.jpg: 2 duplicate labels removed\n",
      "\u001b[34m\u001b[1mtrain: \u001b[0mWARNING ⚠️ /Users/sreenadh/yolov8_env/satellite_dataset_1/train/images/5295.jpg: 2 duplicate labels removed\n",
      "\u001b[34m\u001b[1mtrain: \u001b[0mWARNING ⚠️ /Users/sreenadh/yolov8_env/satellite_dataset_1/train/images/5296.jpg: 2 duplicate labels removed\n",
      "\u001b[34m\u001b[1mtrain: \u001b[0mWARNING ⚠️ /Users/sreenadh/yolov8_env/satellite_dataset_1/train/images/5419.jpg: 2 duplicate labels removed\n",
      "\u001b[34m\u001b[1mtrain: \u001b[0mWARNING ⚠️ /Users/sreenadh/yolov8_env/satellite_dataset_1/train/images/5420.jpg: 2 duplicate labels removed\n",
      "\u001b[34m\u001b[1mtrain: \u001b[0mWARNING ⚠️ /Users/sreenadh/yolov8_env/satellite_dataset_1/train/images/5491.jpg: 2 duplicate labels removed\n",
      "\u001b[34m\u001b[1mtrain: \u001b[0mWARNING ⚠️ /Users/sreenadh/yolov8_env/satellite_dataset_1/train/images/5492.jpg: 2 duplicate labels removed\n",
      "\u001b[34m\u001b[1mtrain: \u001b[0mWARNING ⚠️ /Users/sreenadh/yolov8_env/satellite_dataset_1/train/images/5529.jpg: 2 duplicate labels removed\n",
      "\u001b[34m\u001b[1mtrain: \u001b[0mWARNING ⚠️ /Users/sreenadh/yolov8_env/satellite_dataset_1/train/images/5530.jpg: 2 duplicate labels removed\n",
      "\u001b[34m\u001b[1mtrain: \u001b[0mWARNING ⚠️ /Users/sreenadh/yolov8_env/satellite_dataset_1/train/images/5563.jpg: 2 duplicate labels removed\n",
      "\u001b[34m\u001b[1mtrain: \u001b[0mWARNING ⚠️ /Users/sreenadh/yolov8_env/satellite_dataset_1/train/images/5564.jpg: 2 duplicate labels removed\n",
      "\u001b[34m\u001b[1mtrain: \u001b[0mWARNING ⚠️ /Users/sreenadh/yolov8_env/satellite_dataset_1/train/images/5737.jpg: 2 duplicate labels removed\n",
      "\u001b[34m\u001b[1mtrain: \u001b[0mWARNING ⚠️ /Users/sreenadh/yolov8_env/satellite_dataset_1/train/images/5738.jpg: 2 duplicate labels removed\n",
      "\u001b[34m\u001b[1mtrain: \u001b[0mNew cache created: /Users/sreenadh/yolov8_env/satellite_dataset_1/train/labels.cache\n"
     ]
    },
    {
     "name": "stderr",
     "output_type": "stream",
     "text": [
      "\u001b[34m\u001b[1mval: \u001b[0mScanning /Users/sreenadh/yolov8_env/satellite_dataset_1/valid/labels... 700\u001b[0m"
     ]
    },
    {
     "name": "stdout",
     "output_type": "stream",
     "text": [
      "\u001b[34m\u001b[1mval: \u001b[0mWARNING ⚠️ /Users/sreenadh/yolov8_env/satellite_dataset_1/valid/images/431.jpg: 2 duplicate labels removed\n",
      "\u001b[34m\u001b[1mval: \u001b[0mWARNING ⚠️ /Users/sreenadh/yolov8_env/satellite_dataset_1/valid/images/625.jpg: 2 duplicate labels removed\n",
      "\u001b[34m\u001b[1mval: \u001b[0mWARNING ⚠️ /Users/sreenadh/yolov8_env/satellite_dataset_1/valid/images/633.jpg: 2 duplicate labels removed\n",
      "\u001b[34m\u001b[1mval: \u001b[0mWARNING ⚠️ /Users/sreenadh/yolov8_env/satellite_dataset_1/valid/images/664.jpg: 2 duplicate labels removed\n",
      "\u001b[34m\u001b[1mval: \u001b[0mWARNING ⚠️ /Users/sreenadh/yolov8_env/satellite_dataset_1/valid/images/674.jpg: 2 duplicate labels removed\n",
      "\u001b[34m\u001b[1mval: \u001b[0mNew cache created: /Users/sreenadh/yolov8_env/satellite_dataset_1/valid/labels.cache\n"
     ]
    },
    {
     "name": "stderr",
     "output_type": "stream",
     "text": [
      "\n"
     ]
    },
    {
     "name": "stdout",
     "output_type": "stream",
     "text": [
      "Plotting labels to /opt/homebrew/runs/detect/train14/labels.jpg... \n",
      "\u001b[34m\u001b[1moptimizer:\u001b[0m 'optimizer=auto' found, ignoring 'lr0=0.01' and 'momentum=0.937' and determining best 'optimizer', 'lr0' and 'momentum' automatically... \n",
      "\u001b[34m\u001b[1moptimizer:\u001b[0m AdamW(lr=0.001667, momentum=0.9) with parameter groups 57 weight(decay=0.0), 64 weight(decay=0.0005), 63 bias(decay=0.0)\n",
      "Image sizes 640 train, 640 val\n",
      "Using 0 dataloader workers\n",
      "Logging results to \u001b[1m/opt/homebrew/runs/detect/train14\u001b[0m\n",
      "Starting training for 30 epochs...\n",
      "\n",
      "      Epoch    GPU_mem   box_loss   cls_loss   dfl_loss  Instances       Size\n"
     ]
    },
    {
     "name": "stderr",
     "output_type": "stream",
     "text": [
      "       1/30         0G      1.698      2.608      1.604         61        640: 1\n",
      "                 Class     Images  Instances      Box(P          R      mAP50  m"
     ]
    },
    {
     "name": "stdout",
     "output_type": "stream",
     "text": [
      "                   all        700       1102      0.444      0.378      0.384      0.251\n"
     ]
    },
    {
     "name": "stderr",
     "output_type": "stream",
     "text": [
      "\n"
     ]
    },
    {
     "name": "stdout",
     "output_type": "stream",
     "text": [
      "\n",
      "      Epoch    GPU_mem   box_loss   cls_loss   dfl_loss  Instances       Size\n"
     ]
    },
    {
     "name": "stderr",
     "output_type": "stream",
     "text": [
      "       2/30         0G      1.494      1.823      1.454         49        640: 1\n",
      "                 Class     Images  Instances      Box(P          R      mAP50  m"
     ]
    },
    {
     "name": "stdout",
     "output_type": "stream",
     "text": [
      "                   all        700       1102      0.421      0.381       0.36      0.193\n"
     ]
    },
    {
     "name": "stderr",
     "output_type": "stream",
     "text": [
      "\n"
     ]
    },
    {
     "name": "stdout",
     "output_type": "stream",
     "text": [
      "\n",
      "      Epoch    GPU_mem   box_loss   cls_loss   dfl_loss  Instances       Size\n"
     ]
    },
    {
     "name": "stderr",
     "output_type": "stream",
     "text": [
      "       3/30         0G      1.436      1.635      1.426         29        640: 1\n",
      "                 Class     Images  Instances      Box(P          R      mAP50  m"
     ]
    },
    {
     "name": "stdout",
     "output_type": "stream",
     "text": [
      "                   all        700       1102     0.0513     0.0626     0.0214    0.00604\n"
     ]
    },
    {
     "name": "stderr",
     "output_type": "stream",
     "text": [
      "\n"
     ]
    },
    {
     "name": "stdout",
     "output_type": "stream",
     "text": [
      "\n",
      "      Epoch    GPU_mem   box_loss   cls_loss   dfl_loss  Instances       Size\n"
     ]
    },
    {
     "name": "stderr",
     "output_type": "stream",
     "text": [
      "       4/30         0G      1.375      1.525      1.388         31        640: 1\n",
      "                 Class     Images  Instances      Box(P          R      mAP50  m"
     ]
    },
    {
     "name": "stdout",
     "output_type": "stream",
     "text": [
      "                   all        700       1102       0.46      0.379      0.403      0.258\n"
     ]
    },
    {
     "name": "stderr",
     "output_type": "stream",
     "text": [
      "\n"
     ]
    },
    {
     "name": "stdout",
     "output_type": "stream",
     "text": [
      "\n",
      "      Epoch    GPU_mem   box_loss   cls_loss   dfl_loss  Instances       Size\n"
     ]
    },
    {
     "name": "stderr",
     "output_type": "stream",
     "text": [
      "       5/30         0G      1.328      1.413      1.359         39        640: 1\n",
      "                 Class     Images  Instances      Box(P          R      mAP50  m"
     ]
    },
    {
     "name": "stdout",
     "output_type": "stream",
     "text": [
      "                   all        700       1102      0.537      0.458      0.461      0.297\n"
     ]
    },
    {
     "name": "stderr",
     "output_type": "stream",
     "text": [
      "\n"
     ]
    },
    {
     "name": "stdout",
     "output_type": "stream",
     "text": [
      "\n",
      "      Epoch    GPU_mem   box_loss   cls_loss   dfl_loss  Instances       Size\n"
     ]
    },
    {
     "name": "stderr",
     "output_type": "stream",
     "text": [
      "       6/30         0G       1.26      1.325      1.319         43        640: 1\n",
      "                 Class     Images  Instances      Box(P          R      mAP50  m"
     ]
    },
    {
     "name": "stdout",
     "output_type": "stream",
     "text": [
      "                   all        700       1102      0.483      0.492      0.466      0.328\n"
     ]
    },
    {
     "name": "stderr",
     "output_type": "stream",
     "text": [
      "\n"
     ]
    },
    {
     "name": "stdout",
     "output_type": "stream",
     "text": [
      "\n",
      "      Epoch    GPU_mem   box_loss   cls_loss   dfl_loss  Instances       Size\n"
     ]
    },
    {
     "name": "stderr",
     "output_type": "stream",
     "text": [
      "       7/30         0G      1.219      1.257      1.296         40        640: 1\n",
      "                 Class     Images  Instances      Box(P          R      mAP50  m"
     ]
    },
    {
     "name": "stdout",
     "output_type": "stream",
     "text": [
      "                   all        700       1102      0.433      0.423      0.371      0.087\n"
     ]
    },
    {
     "name": "stderr",
     "output_type": "stream",
     "text": [
      "\n"
     ]
    },
    {
     "name": "stdout",
     "output_type": "stream",
     "text": [
      "\n",
      "      Epoch    GPU_mem   box_loss   cls_loss   dfl_loss  Instances       Size\n"
     ]
    },
    {
     "name": "stderr",
     "output_type": "stream",
     "text": [
      "       8/30         0G      1.183      1.184      1.273         34        640: 1\n",
      "                 Class     Images  Instances      Box(P          R      mAP50  m"
     ]
    },
    {
     "name": "stdout",
     "output_type": "stream",
     "text": [
      "                   all        700       1102      0.507      0.486       0.47      0.173\n"
     ]
    },
    {
     "name": "stderr",
     "output_type": "stream",
     "text": [
      "\n"
     ]
    },
    {
     "name": "stdout",
     "output_type": "stream",
     "text": [
      "\n",
      "      Epoch    GPU_mem   box_loss   cls_loss   dfl_loss  Instances       Size\n"
     ]
    },
    {
     "name": "stderr",
     "output_type": "stream",
     "text": [
      "       9/30         0G      1.159       1.15      1.264         24        640: 1\n",
      "                 Class     Images  Instances      Box(P          R      mAP50  m"
     ]
    },
    {
     "name": "stdout",
     "output_type": "stream",
     "text": [
      "                   all        700       1102      0.438      0.491      0.453       0.25\n"
     ]
    },
    {
     "name": "stderr",
     "output_type": "stream",
     "text": [
      "\n"
     ]
    },
    {
     "name": "stdout",
     "output_type": "stream",
     "text": [
      "\n",
      "      Epoch    GPU_mem   box_loss   cls_loss   dfl_loss  Instances       Size\n"
     ]
    },
    {
     "name": "stderr",
     "output_type": "stream",
     "text": [
      "      10/30         0G      1.136      1.105      1.247         49        640: 1\n",
      "                 Class     Images  Instances      Box(P          R      mAP50  m"
     ]
    },
    {
     "name": "stdout",
     "output_type": "stream",
     "text": [
      "                   all        700       1102      0.534      0.544      0.517       0.35\n"
     ]
    },
    {
     "name": "stderr",
     "output_type": "stream",
     "text": [
      "\n"
     ]
    },
    {
     "name": "stdout",
     "output_type": "stream",
     "text": [
      "\n",
      "      Epoch    GPU_mem   box_loss   cls_loss   dfl_loss  Instances       Size\n"
     ]
    },
    {
     "name": "stderr",
     "output_type": "stream",
     "text": [
      "      11/30         0G      1.102      1.071      1.225         46        640: 1\n",
      "                 Class     Images  Instances      Box(P          R      mAP50  m"
     ]
    },
    {
     "name": "stdout",
     "output_type": "stream",
     "text": [
      "                   all        700       1102      0.537      0.519      0.503      0.187\n"
     ]
    },
    {
     "name": "stderr",
     "output_type": "stream",
     "text": [
      "\n"
     ]
    },
    {
     "name": "stdout",
     "output_type": "stream",
     "text": [
      "\n",
      "      Epoch    GPU_mem   box_loss   cls_loss   dfl_loss  Instances       Size\n"
     ]
    },
    {
     "name": "stderr",
     "output_type": "stream",
     "text": [
      "      12/30         0G      1.089      1.035      1.222         40        640: 1\n",
      "                 Class     Images  Instances      Box(P          R      mAP50  m"
     ]
    },
    {
     "name": "stdout",
     "output_type": "stream",
     "text": [
      "                   all        700       1102      0.522      0.566      0.532      0.316\n"
     ]
    },
    {
     "name": "stderr",
     "output_type": "stream",
     "text": [
      "\n"
     ]
    },
    {
     "name": "stdout",
     "output_type": "stream",
     "text": [
      "\n",
      "      Epoch    GPU_mem   box_loss   cls_loss   dfl_loss  Instances       Size\n"
     ]
    },
    {
     "name": "stderr",
     "output_type": "stream",
     "text": [
      "      13/30         0G      1.047      1.013      1.198         36        640: 1\n",
      "                 Class     Images  Instances      Box(P          R      mAP50  m"
     ]
    },
    {
     "name": "stdout",
     "output_type": "stream",
     "text": [
      "                   all        700       1102      0.569      0.552      0.539      0.324\n"
     ]
    },
    {
     "name": "stderr",
     "output_type": "stream",
     "text": [
      "\n"
     ]
    },
    {
     "name": "stdout",
     "output_type": "stream",
     "text": [
      "\n",
      "      Epoch    GPU_mem   box_loss   cls_loss   dfl_loss  Instances       Size\n"
     ]
    },
    {
     "name": "stderr",
     "output_type": "stream",
     "text": [
      "      14/30         0G      1.038     0.9812      1.194         44        640: 1\n",
      "                 Class     Images  Instances      Box(P          R      mAP50  m"
     ]
    },
    {
     "name": "stdout",
     "output_type": "stream",
     "text": [
      "                   all        700       1102      0.556      0.551       0.54      0.353\n"
     ]
    },
    {
     "name": "stderr",
     "output_type": "stream",
     "text": [
      "\n"
     ]
    },
    {
     "name": "stdout",
     "output_type": "stream",
     "text": [
      "\n",
      "      Epoch    GPU_mem   box_loss   cls_loss   dfl_loss  Instances       Size\n"
     ]
    },
    {
     "name": "stderr",
     "output_type": "stream",
     "text": [
      "      15/30         0G      1.013     0.9535      1.177         59        640: 1\n",
      "                 Class     Images  Instances      Box(P          R      mAP50  m"
     ]
    },
    {
     "name": "stdout",
     "output_type": "stream",
     "text": [
      "                   all        700       1102      0.513      0.576      0.531      0.236\n"
     ]
    },
    {
     "name": "stderr",
     "output_type": "stream",
     "text": [
      "\n"
     ]
    },
    {
     "name": "stdout",
     "output_type": "stream",
     "text": [
      "\n",
      "      Epoch    GPU_mem   box_loss   cls_loss   dfl_loss  Instances       Size\n"
     ]
    },
    {
     "name": "stderr",
     "output_type": "stream",
     "text": [
      "      16/30         0G      1.003     0.9361      1.164         46        640: 1\n",
      "                 Class     Images  Instances      Box(P          R      mAP50  m"
     ]
    },
    {
     "name": "stdout",
     "output_type": "stream",
     "text": [
      "                   all        700       1102      0.572      0.571      0.544      0.379\n"
     ]
    },
    {
     "name": "stderr",
     "output_type": "stream",
     "text": [
      "\n"
     ]
    },
    {
     "name": "stdout",
     "output_type": "stream",
     "text": [
      "\n",
      "      Epoch    GPU_mem   box_loss   cls_loss   dfl_loss  Instances       Size\n"
     ]
    },
    {
     "name": "stderr",
     "output_type": "stream",
     "text": [
      "      17/30         0G     0.9864     0.9077      1.162         40        640: 1\n",
      "                 Class     Images  Instances      Box(P          R      mAP50  m"
     ]
    },
    {
     "name": "stdout",
     "output_type": "stream",
     "text": [
      "                   all        700       1102      0.519      0.517      0.487      0.121\n"
     ]
    },
    {
     "name": "stderr",
     "output_type": "stream",
     "text": [
      "\n"
     ]
    },
    {
     "name": "stdout",
     "output_type": "stream",
     "text": [
      "\n",
      "      Epoch    GPU_mem   box_loss   cls_loss   dfl_loss  Instances       Size\n"
     ]
    },
    {
     "name": "stderr",
     "output_type": "stream",
     "text": [
      "      18/30         0G     0.9772     0.8966      1.156         41        640: 1\n",
      "                 Class     Images  Instances      Box(P          R      mAP50  m"
     ]
    },
    {
     "name": "stdout",
     "output_type": "stream",
     "text": [
      "                   all        700       1102      0.478      0.526      0.494      0.141\n"
     ]
    },
    {
     "name": "stderr",
     "output_type": "stream",
     "text": [
      "\n"
     ]
    },
    {
     "name": "stdout",
     "output_type": "stream",
     "text": [
      "\n",
      "      Epoch    GPU_mem   box_loss   cls_loss   dfl_loss  Instances       Size\n"
     ]
    },
    {
     "name": "stderr",
     "output_type": "stream",
     "text": [
      "      19/30         0G     0.9456     0.8754      1.134         29        640: 1\n",
      "                 Class     Images  Instances      Box(P          R      mAP50  m"
     ]
    },
    {
     "name": "stdout",
     "output_type": "stream",
     "text": [
      "                   all        700       1102      0.561      0.562      0.528      0.226\n"
     ]
    },
    {
     "name": "stderr",
     "output_type": "stream",
     "text": [
      "\n"
     ]
    },
    {
     "name": "stdout",
     "output_type": "stream",
     "text": [
      "\n",
      "      Epoch    GPU_mem   box_loss   cls_loss   dfl_loss  Instances       Size\n"
     ]
    },
    {
     "name": "stderr",
     "output_type": "stream",
     "text": [
      "      20/30         0G     0.9214     0.8534      1.124         53        640: 1\n",
      "                 Class     Images  Instances      Box(P          R      mAP50  m"
     ]
    },
    {
     "name": "stdout",
     "output_type": "stream",
     "text": [
      "                   all        700       1102      0.601      0.586      0.569      0.297\n"
     ]
    },
    {
     "name": "stderr",
     "output_type": "stream",
     "text": [
      "\n"
     ]
    },
    {
     "name": "stdout",
     "output_type": "stream",
     "text": [
      "Closing dataloader mosaic\n",
      "\n",
      "      Epoch    GPU_mem   box_loss   cls_loss   dfl_loss  Instances       Size\n"
     ]
    },
    {
     "name": "stderr",
     "output_type": "stream",
     "text": [
      "      21/30         0G     0.8471      0.732      1.081         20        640: 1\n",
      "                 Class     Images  Instances      Box(P          R      mAP50  m"
     ]
    },
    {
     "name": "stdout",
     "output_type": "stream",
     "text": [
      "                   all        700       1102      0.547      0.579      0.543      0.239\n"
     ]
    },
    {
     "name": "stderr",
     "output_type": "stream",
     "text": [
      "\n"
     ]
    },
    {
     "name": "stdout",
     "output_type": "stream",
     "text": [
      "\n",
      "      Epoch    GPU_mem   box_loss   cls_loss   dfl_loss  Instances       Size\n"
     ]
    },
    {
     "name": "stderr",
     "output_type": "stream",
     "text": [
      "      22/30         0G      0.791     0.6723      1.046         22        640: 1\n",
      "                 Class     Images  Instances      Box(P          R      mAP50  m"
     ]
    },
    {
     "name": "stdout",
     "output_type": "stream",
     "text": [
      "                   all        700       1102      0.584      0.581      0.572      0.308\n"
     ]
    },
    {
     "name": "stderr",
     "output_type": "stream",
     "text": [
      "\n"
     ]
    },
    {
     "name": "stdout",
     "output_type": "stream",
     "text": [
      "\n",
      "      Epoch    GPU_mem   box_loss   cls_loss   dfl_loss  Instances       Size\n"
     ]
    },
    {
     "name": "stderr",
     "output_type": "stream",
     "text": [
      "      23/30         0G       0.77     0.6526      1.038         21        640: 1\n",
      "                 Class     Images  Instances      Box(P          R      mAP50  m"
     ]
    },
    {
     "name": "stdout",
     "output_type": "stream",
     "text": [
      "                   all        700       1102      0.577      0.585      0.573      0.353\n"
     ]
    },
    {
     "name": "stderr",
     "output_type": "stream",
     "text": [
      "\n"
     ]
    },
    {
     "name": "stdout",
     "output_type": "stream",
     "text": [
      "\n",
      "      Epoch    GPU_mem   box_loss   cls_loss   dfl_loss  Instances       Size\n"
     ]
    },
    {
     "name": "stderr",
     "output_type": "stream",
     "text": [
      "      24/30         0G     0.7556      0.633      1.023         27        640: 1\n",
      "                 Class     Images  Instances      Box(P          R      mAP50  m"
     ]
    },
    {
     "name": "stdout",
     "output_type": "stream",
     "text": [
      "                   all        700       1102       0.56      0.582      0.564      0.329\n"
     ]
    },
    {
     "name": "stderr",
     "output_type": "stream",
     "text": [
      "\n"
     ]
    },
    {
     "name": "stdout",
     "output_type": "stream",
     "text": [
      "\n",
      "      Epoch    GPU_mem   box_loss   cls_loss   dfl_loss  Instances       Size\n"
     ]
    },
    {
     "name": "stderr",
     "output_type": "stream",
     "text": [
      "      25/30         0G     0.7323     0.6124      1.013         16        640: 1\n",
      "                 Class     Images  Instances      Box(P          R      mAP50  m"
     ]
    },
    {
     "name": "stdout",
     "output_type": "stream",
     "text": [
      "                   all        700       1102      0.572      0.601      0.583      0.359\n"
     ]
    },
    {
     "name": "stderr",
     "output_type": "stream",
     "text": [
      "\n"
     ]
    },
    {
     "name": "stdout",
     "output_type": "stream",
     "text": [
      "\n",
      "      Epoch    GPU_mem   box_loss   cls_loss   dfl_loss  Instances       Size\n"
     ]
    },
    {
     "name": "stderr",
     "output_type": "stream",
     "text": [
      "      26/30         0G      0.711     0.5993      1.003         23        640: 1\n",
      "                 Class     Images  Instances      Box(P          R      mAP50  m"
     ]
    },
    {
     "name": "stdout",
     "output_type": "stream",
     "text": [
      "                   all        700       1102      0.568      0.592      0.583      0.333\n"
     ]
    },
    {
     "name": "stderr",
     "output_type": "stream",
     "text": [
      "\n"
     ]
    },
    {
     "name": "stdout",
     "output_type": "stream",
     "text": [
      "\n",
      "      Epoch    GPU_mem   box_loss   cls_loss   dfl_loss  Instances       Size\n"
     ]
    },
    {
     "name": "stderr",
     "output_type": "stream",
     "text": [
      "      27/30         0G      0.704     0.5792      1.004         28        640: 1\n",
      "                 Class     Images  Instances      Box(P          R      mAP50  m"
     ]
    },
    {
     "name": "stdout",
     "output_type": "stream",
     "text": [
      "                   all        700       1102      0.569      0.575      0.567      0.338\n"
     ]
    },
    {
     "name": "stderr",
     "output_type": "stream",
     "text": [
      "\n"
     ]
    },
    {
     "name": "stdout",
     "output_type": "stream",
     "text": [
      "\n",
      "      Epoch    GPU_mem   box_loss   cls_loss   dfl_loss  Instances       Size\n"
     ]
    },
    {
     "name": "stderr",
     "output_type": "stream",
     "text": [
      "      28/30         0G     0.6791     0.5679     0.9907         15        640: 1\n",
      "                 Class     Images  Instances      Box(P          R      mAP50  m"
     ]
    },
    {
     "name": "stdout",
     "output_type": "stream",
     "text": [
      "                   all        700       1102      0.617      0.602      0.596      0.368\n"
     ]
    },
    {
     "name": "stderr",
     "output_type": "stream",
     "text": [
      "\n"
     ]
    },
    {
     "name": "stdout",
     "output_type": "stream",
     "text": [
      "\n",
      "      Epoch    GPU_mem   box_loss   cls_loss   dfl_loss  Instances       Size\n"
     ]
    },
    {
     "name": "stderr",
     "output_type": "stream",
     "text": [
      "      29/30         0G      0.664     0.5456      0.981         28        640: 1\n",
      "                 Class     Images  Instances      Box(P          R      mAP50  m"
     ]
    },
    {
     "name": "stdout",
     "output_type": "stream",
     "text": [
      "                   all        700       1102      0.606      0.608      0.601      0.386\n"
     ]
    },
    {
     "name": "stderr",
     "output_type": "stream",
     "text": [
      "\n"
     ]
    },
    {
     "name": "stdout",
     "output_type": "stream",
     "text": [
      "\n",
      "      Epoch    GPU_mem   box_loss   cls_loss   dfl_loss  Instances       Size\n"
     ]
    },
    {
     "name": "stderr",
     "output_type": "stream",
     "text": [
      "      30/30         0G     0.6482     0.5311      0.973         37        640: 1\n",
      "                 Class     Images  Instances      Box(P          R      mAP50  m"
     ]
    },
    {
     "name": "stdout",
     "output_type": "stream",
     "text": [
      "                   all        700       1102      0.615        0.6      0.597      0.345\n"
     ]
    },
    {
     "name": "stderr",
     "output_type": "stream",
     "text": [
      "\n"
     ]
    },
    {
     "name": "stdout",
     "output_type": "stream",
     "text": [
      "\n",
      "30 epochs completed in 25.432 hours.\n",
      "Optimizer stripped from /opt/homebrew/runs/detect/train14/weights/last.pt, 6.2MB\n",
      "Optimizer stripped from /opt/homebrew/runs/detect/train14/weights/best.pt, 6.2MB\n",
      "\n",
      "Validating /opt/homebrew/runs/detect/train14/weights/best.pt...\n",
      "Ultralytics YOLOv8.1.28 🚀 Python-3.10.12 torch-2.2.1 CPU (Apple M1)\n",
      "Model summary (fused): 168 layers, 3006038 parameters, 0 gradients, 8.1 GFLOPs\n"
     ]
    },
    {
     "name": "stderr",
     "output_type": "stream",
     "text": [
      "                 Class     Images  Instances      Box(P          R      mAP50  m\n"
     ]
    },
    {
     "name": "stdout",
     "output_type": "stream",
     "text": [
      "                   all        700       1102      0.606      0.608      0.601      0.386\n",
      "              Wildfire        700        605      0.378      0.321       0.29      0.138\n",
      "               Cyclone        700        497      0.834      0.895      0.912      0.634\n",
      "Speed: 1.7ms preprocess, 224.4ms inference, 0.0ms loss, 0.7ms postprocess per image\n",
      "Results saved to \u001b[1m/opt/homebrew/runs/detect/train14\u001b[0m\n"
     ]
    },
    {
     "data": {
      "text/plain": [
       "ultralytics.utils.metrics.DetMetrics object with attributes:\n",
       "\n",
       "ap_class_index: array([0, 1])\n",
       "box: ultralytics.utils.metrics.Metric object\n",
       "confusion_matrix: <ultralytics.utils.metrics.ConfusionMatrix object at 0x299cbce50>\n",
       "curves: ['Precision-Recall(B)', 'F1-Confidence(B)', 'Precision-Confidence(B)', 'Recall-Confidence(B)']\n",
       "curves_results: [[array([          0,    0.001001,    0.002002,    0.003003,    0.004004,    0.005005,    0.006006,    0.007007,    0.008008,    0.009009,     0.01001,    0.011011,    0.012012,    0.013013,    0.014014,    0.015015,    0.016016,    0.017017,    0.018018,    0.019019,     0.02002,    0.021021,    0.022022,    0.023023,\n",
       "          0.024024,    0.025025,    0.026026,    0.027027,    0.028028,    0.029029,     0.03003,    0.031031,    0.032032,    0.033033,    0.034034,    0.035035,    0.036036,    0.037037,    0.038038,    0.039039,     0.04004,    0.041041,    0.042042,    0.043043,    0.044044,    0.045045,    0.046046,    0.047047,\n",
       "          0.048048,    0.049049,     0.05005,    0.051051,    0.052052,    0.053053,    0.054054,    0.055055,    0.056056,    0.057057,    0.058058,    0.059059,     0.06006,    0.061061,    0.062062,    0.063063,    0.064064,    0.065065,    0.066066,    0.067067,    0.068068,    0.069069,     0.07007,    0.071071,\n",
       "          0.072072,    0.073073,    0.074074,    0.075075,    0.076076,    0.077077,    0.078078,    0.079079,     0.08008,    0.081081,    0.082082,    0.083083,    0.084084,    0.085085,    0.086086,    0.087087,    0.088088,    0.089089,     0.09009,    0.091091,    0.092092,    0.093093,    0.094094,    0.095095,\n",
       "          0.096096,    0.097097,    0.098098,    0.099099,      0.1001,      0.1011,      0.1021,      0.1031,      0.1041,     0.10511,     0.10611,     0.10711,     0.10811,     0.10911,     0.11011,     0.11111,     0.11211,     0.11311,     0.11411,     0.11512,     0.11612,     0.11712,     0.11812,     0.11912,\n",
       "           0.12012,     0.12112,     0.12212,     0.12312,     0.12412,     0.12513,     0.12613,     0.12713,     0.12813,     0.12913,     0.13013,     0.13113,     0.13213,     0.13313,     0.13413,     0.13514,     0.13614,     0.13714,     0.13814,     0.13914,     0.14014,     0.14114,     0.14214,     0.14314,\n",
       "           0.14414,     0.14515,     0.14615,     0.14715,     0.14815,     0.14915,     0.15015,     0.15115,     0.15215,     0.15315,     0.15415,     0.15516,     0.15616,     0.15716,     0.15816,     0.15916,     0.16016,     0.16116,     0.16216,     0.16316,     0.16416,     0.16517,     0.16617,     0.16717,\n",
       "           0.16817,     0.16917,     0.17017,     0.17117,     0.17217,     0.17317,     0.17417,     0.17518,     0.17618,     0.17718,     0.17818,     0.17918,     0.18018,     0.18118,     0.18218,     0.18318,     0.18418,     0.18519,     0.18619,     0.18719,     0.18819,     0.18919,     0.19019,     0.19119,\n",
       "           0.19219,     0.19319,     0.19419,      0.1952,      0.1962,      0.1972,      0.1982,      0.1992,      0.2002,      0.2012,      0.2022,      0.2032,      0.2042,     0.20521,     0.20621,     0.20721,     0.20821,     0.20921,     0.21021,     0.21121,     0.21221,     0.21321,     0.21421,     0.21522,\n",
       "           0.21622,     0.21722,     0.21822,     0.21922,     0.22022,     0.22122,     0.22222,     0.22322,     0.22422,     0.22523,     0.22623,     0.22723,     0.22823,     0.22923,     0.23023,     0.23123,     0.23223,     0.23323,     0.23423,     0.23524,     0.23624,     0.23724,     0.23824,     0.23924,\n",
       "           0.24024,     0.24124,     0.24224,     0.24324,     0.24424,     0.24525,     0.24625,     0.24725,     0.24825,     0.24925,     0.25025,     0.25125,     0.25225,     0.25325,     0.25425,     0.25526,     0.25626,     0.25726,     0.25826,     0.25926,     0.26026,     0.26126,     0.26226,     0.26326,\n",
       "           0.26426,     0.26527,     0.26627,     0.26727,     0.26827,     0.26927,     0.27027,     0.27127,     0.27227,     0.27327,     0.27427,     0.27528,     0.27628,     0.27728,     0.27828,     0.27928,     0.28028,     0.28128,     0.28228,     0.28328,     0.28428,     0.28529,     0.28629,     0.28729,\n",
       "           0.28829,     0.28929,     0.29029,     0.29129,     0.29229,     0.29329,     0.29429,      0.2953,      0.2963,      0.2973,      0.2983,      0.2993,      0.3003,      0.3013,      0.3023,      0.3033,      0.3043,     0.30531,     0.30631,     0.30731,     0.30831,     0.30931,     0.31031,     0.31131,\n",
       "           0.31231,     0.31331,     0.31431,     0.31532,     0.31632,     0.31732,     0.31832,     0.31932,     0.32032,     0.32132,     0.32232,     0.32332,     0.32432,     0.32533,     0.32633,     0.32733,     0.32833,     0.32933,     0.33033,     0.33133,     0.33233,     0.33333,     0.33433,     0.33534,\n",
       "           0.33634,     0.33734,     0.33834,     0.33934,     0.34034,     0.34134,     0.34234,     0.34334,     0.34434,     0.34535,     0.34635,     0.34735,     0.34835,     0.34935,     0.35035,     0.35135,     0.35235,     0.35335,     0.35435,     0.35536,     0.35636,     0.35736,     0.35836,     0.35936,\n",
       "           0.36036,     0.36136,     0.36236,     0.36336,     0.36436,     0.36537,     0.36637,     0.36737,     0.36837,     0.36937,     0.37037,     0.37137,     0.37237,     0.37337,     0.37437,     0.37538,     0.37638,     0.37738,     0.37838,     0.37938,     0.38038,     0.38138,     0.38238,     0.38338,\n",
       "           0.38438,     0.38539,     0.38639,     0.38739,     0.38839,     0.38939,     0.39039,     0.39139,     0.39239,     0.39339,     0.39439,      0.3954,      0.3964,      0.3974,      0.3984,      0.3994,      0.4004,      0.4014,      0.4024,      0.4034,      0.4044,     0.40541,     0.40641,     0.40741,\n",
       "           0.40841,     0.40941,     0.41041,     0.41141,     0.41241,     0.41341,     0.41441,     0.41542,     0.41642,     0.41742,     0.41842,     0.41942,     0.42042,     0.42142,     0.42242,     0.42342,     0.42442,     0.42543,     0.42643,     0.42743,     0.42843,     0.42943,     0.43043,     0.43143,\n",
       "           0.43243,     0.43343,     0.43443,     0.43544,     0.43644,     0.43744,     0.43844,     0.43944,     0.44044,     0.44144,     0.44244,     0.44344,     0.44444,     0.44545,     0.44645,     0.44745,     0.44845,     0.44945,     0.45045,     0.45145,     0.45245,     0.45345,     0.45445,     0.45546,\n",
       "           0.45646,     0.45746,     0.45846,     0.45946,     0.46046,     0.46146,     0.46246,     0.46346,     0.46446,     0.46547,     0.46647,     0.46747,     0.46847,     0.46947,     0.47047,     0.47147,     0.47247,     0.47347,     0.47447,     0.47548,     0.47648,     0.47748,     0.47848,     0.47948,\n",
       "           0.48048,     0.48148,     0.48248,     0.48348,     0.48448,     0.48549,     0.48649,     0.48749,     0.48849,     0.48949,     0.49049,     0.49149,     0.49249,     0.49349,     0.49449,      0.4955,      0.4965,      0.4975,      0.4985,      0.4995,      0.5005,      0.5015,      0.5025,      0.5035,\n",
       "            0.5045,     0.50551,     0.50651,     0.50751,     0.50851,     0.50951,     0.51051,     0.51151,     0.51251,     0.51351,     0.51451,     0.51552,     0.51652,     0.51752,     0.51852,     0.51952,     0.52052,     0.52152,     0.52252,     0.52352,     0.52452,     0.52553,     0.52653,     0.52753,\n",
       "           0.52853,     0.52953,     0.53053,     0.53153,     0.53253,     0.53353,     0.53453,     0.53554,     0.53654,     0.53754,     0.53854,     0.53954,     0.54054,     0.54154,     0.54254,     0.54354,     0.54454,     0.54555,     0.54655,     0.54755,     0.54855,     0.54955,     0.55055,     0.55155,\n",
       "           0.55255,     0.55355,     0.55455,     0.55556,     0.55656,     0.55756,     0.55856,     0.55956,     0.56056,     0.56156,     0.56256,     0.56356,     0.56456,     0.56557,     0.56657,     0.56757,     0.56857,     0.56957,     0.57057,     0.57157,     0.57257,     0.57357,     0.57457,     0.57558,\n",
       "           0.57658,     0.57758,     0.57858,     0.57958,     0.58058,     0.58158,     0.58258,     0.58358,     0.58458,     0.58559,     0.58659,     0.58759,     0.58859,     0.58959,     0.59059,     0.59159,     0.59259,     0.59359,     0.59459,      0.5956,      0.5966,      0.5976,      0.5986,      0.5996,\n",
       "            0.6006,      0.6016,      0.6026,      0.6036,      0.6046,     0.60561,     0.60661,     0.60761,     0.60861,     0.60961,     0.61061,     0.61161,     0.61261,     0.61361,     0.61461,     0.61562,     0.61662,     0.61762,     0.61862,     0.61962,     0.62062,     0.62162,     0.62262,     0.62362,\n",
       "           0.62462,     0.62563,     0.62663,     0.62763,     0.62863,     0.62963,     0.63063,     0.63163,     0.63263,     0.63363,     0.63463,     0.63564,     0.63664,     0.63764,     0.63864,     0.63964,     0.64064,     0.64164,     0.64264,     0.64364,     0.64464,     0.64565,     0.64665,     0.64765,\n",
       "           0.64865,     0.64965,     0.65065,     0.65165,     0.65265,     0.65365,     0.65465,     0.65566,     0.65666,     0.65766,     0.65866,     0.65966,     0.66066,     0.66166,     0.66266,     0.66366,     0.66466,     0.66567,     0.66667,     0.66767,     0.66867,     0.66967,     0.67067,     0.67167,\n",
       "           0.67267,     0.67367,     0.67467,     0.67568,     0.67668,     0.67768,     0.67868,     0.67968,     0.68068,     0.68168,     0.68268,     0.68368,     0.68468,     0.68569,     0.68669,     0.68769,     0.68869,     0.68969,     0.69069,     0.69169,     0.69269,     0.69369,     0.69469,      0.6957,\n",
       "            0.6967,      0.6977,      0.6987,      0.6997,      0.7007,      0.7017,      0.7027,      0.7037,      0.7047,     0.70571,     0.70671,     0.70771,     0.70871,     0.70971,     0.71071,     0.71171,     0.71271,     0.71371,     0.71471,     0.71572,     0.71672,     0.71772,     0.71872,     0.71972,\n",
       "           0.72072,     0.72172,     0.72272,     0.72372,     0.72472,     0.72573,     0.72673,     0.72773,     0.72873,     0.72973,     0.73073,     0.73173,     0.73273,     0.73373,     0.73473,     0.73574,     0.73674,     0.73774,     0.73874,     0.73974,     0.74074,     0.74174,     0.74274,     0.74374,\n",
       "           0.74474,     0.74575,     0.74675,     0.74775,     0.74875,     0.74975,     0.75075,     0.75175,     0.75275,     0.75375,     0.75475,     0.75576,     0.75676,     0.75776,     0.75876,     0.75976,     0.76076,     0.76176,     0.76276,     0.76376,     0.76476,     0.76577,     0.76677,     0.76777,\n",
       "           0.76877,     0.76977,     0.77077,     0.77177,     0.77277,     0.77377,     0.77477,     0.77578,     0.77678,     0.77778,     0.77878,     0.77978,     0.78078,     0.78178,     0.78278,     0.78378,     0.78478,     0.78579,     0.78679,     0.78779,     0.78879,     0.78979,     0.79079,     0.79179,\n",
       "           0.79279,     0.79379,     0.79479,      0.7958,      0.7968,      0.7978,      0.7988,      0.7998,      0.8008,      0.8018,      0.8028,      0.8038,      0.8048,     0.80581,     0.80681,     0.80781,     0.80881,     0.80981,     0.81081,     0.81181,     0.81281,     0.81381,     0.81481,     0.81582,\n",
       "           0.81682,     0.81782,     0.81882,     0.81982,     0.82082,     0.82182,     0.82282,     0.82382,     0.82482,     0.82583,     0.82683,     0.82783,     0.82883,     0.82983,     0.83083,     0.83183,     0.83283,     0.83383,     0.83483,     0.83584,     0.83684,     0.83784,     0.83884,     0.83984,\n",
       "           0.84084,     0.84184,     0.84284,     0.84384,     0.84484,     0.84585,     0.84685,     0.84785,     0.84885,     0.84985,     0.85085,     0.85185,     0.85285,     0.85385,     0.85485,     0.85586,     0.85686,     0.85786,     0.85886,     0.85986,     0.86086,     0.86186,     0.86286,     0.86386,\n",
       "           0.86486,     0.86587,     0.86687,     0.86787,     0.86887,     0.86987,     0.87087,     0.87187,     0.87287,     0.87387,     0.87487,     0.87588,     0.87688,     0.87788,     0.87888,     0.87988,     0.88088,     0.88188,     0.88288,     0.88388,     0.88488,     0.88589,     0.88689,     0.88789,\n",
       "           0.88889,     0.88989,     0.89089,     0.89189,     0.89289,     0.89389,     0.89489,      0.8959,      0.8969,      0.8979,      0.8989,      0.8999,      0.9009,      0.9019,      0.9029,      0.9039,      0.9049,     0.90591,     0.90691,     0.90791,     0.90891,     0.90991,     0.91091,     0.91191,\n",
       "           0.91291,     0.91391,     0.91491,     0.91592,     0.91692,     0.91792,     0.91892,     0.91992,     0.92092,     0.92192,     0.92292,     0.92392,     0.92492,     0.92593,     0.92693,     0.92793,     0.92893,     0.92993,     0.93093,     0.93193,     0.93293,     0.93393,     0.93493,     0.93594,\n",
       "           0.93694,     0.93794,     0.93894,     0.93994,     0.94094,     0.94194,     0.94294,     0.94394,     0.94494,     0.94595,     0.94695,     0.94795,     0.94895,     0.94995,     0.95095,     0.95195,     0.95295,     0.95395,     0.95495,     0.95596,     0.95696,     0.95796,     0.95896,     0.95996,\n",
       "           0.96096,     0.96196,     0.96296,     0.96396,     0.96496,     0.96597,     0.96697,     0.96797,     0.96897,     0.96997,     0.97097,     0.97197,     0.97297,     0.97397,     0.97497,     0.97598,     0.97698,     0.97798,     0.97898,     0.97998,     0.98098,     0.98198,     0.98298,     0.98398,\n",
       "           0.98498,     0.98599,     0.98699,     0.98799,     0.98899,     0.98999,     0.99099,     0.99199,     0.99299,     0.99399,     0.99499,       0.996,       0.997,       0.998,       0.999,           1]), array([[          1,           1,           1, ...,  0.00013754,   6.877e-05,           0],\n",
       "       [          1,           1,           1, ...,     0.01513,   0.0075651,           0]]), 'Recall', 'Precision'], [array([          0,    0.001001,    0.002002,    0.003003,    0.004004,    0.005005,    0.006006,    0.007007,    0.008008,    0.009009,     0.01001,    0.011011,    0.012012,    0.013013,    0.014014,    0.015015,    0.016016,    0.017017,    0.018018,    0.019019,     0.02002,    0.021021,    0.022022,    0.023023,\n",
       "          0.024024,    0.025025,    0.026026,    0.027027,    0.028028,    0.029029,     0.03003,    0.031031,    0.032032,    0.033033,    0.034034,    0.035035,    0.036036,    0.037037,    0.038038,    0.039039,     0.04004,    0.041041,    0.042042,    0.043043,    0.044044,    0.045045,    0.046046,    0.047047,\n",
       "          0.048048,    0.049049,     0.05005,    0.051051,    0.052052,    0.053053,    0.054054,    0.055055,    0.056056,    0.057057,    0.058058,    0.059059,     0.06006,    0.061061,    0.062062,    0.063063,    0.064064,    0.065065,    0.066066,    0.067067,    0.068068,    0.069069,     0.07007,    0.071071,\n",
       "          0.072072,    0.073073,    0.074074,    0.075075,    0.076076,    0.077077,    0.078078,    0.079079,     0.08008,    0.081081,    0.082082,    0.083083,    0.084084,    0.085085,    0.086086,    0.087087,    0.088088,    0.089089,     0.09009,    0.091091,    0.092092,    0.093093,    0.094094,    0.095095,\n",
       "          0.096096,    0.097097,    0.098098,    0.099099,      0.1001,      0.1011,      0.1021,      0.1031,      0.1041,     0.10511,     0.10611,     0.10711,     0.10811,     0.10911,     0.11011,     0.11111,     0.11211,     0.11311,     0.11411,     0.11512,     0.11612,     0.11712,     0.11812,     0.11912,\n",
       "           0.12012,     0.12112,     0.12212,     0.12312,     0.12412,     0.12513,     0.12613,     0.12713,     0.12813,     0.12913,     0.13013,     0.13113,     0.13213,     0.13313,     0.13413,     0.13514,     0.13614,     0.13714,     0.13814,     0.13914,     0.14014,     0.14114,     0.14214,     0.14314,\n",
       "           0.14414,     0.14515,     0.14615,     0.14715,     0.14815,     0.14915,     0.15015,     0.15115,     0.15215,     0.15315,     0.15415,     0.15516,     0.15616,     0.15716,     0.15816,     0.15916,     0.16016,     0.16116,     0.16216,     0.16316,     0.16416,     0.16517,     0.16617,     0.16717,\n",
       "           0.16817,     0.16917,     0.17017,     0.17117,     0.17217,     0.17317,     0.17417,     0.17518,     0.17618,     0.17718,     0.17818,     0.17918,     0.18018,     0.18118,     0.18218,     0.18318,     0.18418,     0.18519,     0.18619,     0.18719,     0.18819,     0.18919,     0.19019,     0.19119,\n",
       "           0.19219,     0.19319,     0.19419,      0.1952,      0.1962,      0.1972,      0.1982,      0.1992,      0.2002,      0.2012,      0.2022,      0.2032,      0.2042,     0.20521,     0.20621,     0.20721,     0.20821,     0.20921,     0.21021,     0.21121,     0.21221,     0.21321,     0.21421,     0.21522,\n",
       "           0.21622,     0.21722,     0.21822,     0.21922,     0.22022,     0.22122,     0.22222,     0.22322,     0.22422,     0.22523,     0.22623,     0.22723,     0.22823,     0.22923,     0.23023,     0.23123,     0.23223,     0.23323,     0.23423,     0.23524,     0.23624,     0.23724,     0.23824,     0.23924,\n",
       "           0.24024,     0.24124,     0.24224,     0.24324,     0.24424,     0.24525,     0.24625,     0.24725,     0.24825,     0.24925,     0.25025,     0.25125,     0.25225,     0.25325,     0.25425,     0.25526,     0.25626,     0.25726,     0.25826,     0.25926,     0.26026,     0.26126,     0.26226,     0.26326,\n",
       "           0.26426,     0.26527,     0.26627,     0.26727,     0.26827,     0.26927,     0.27027,     0.27127,     0.27227,     0.27327,     0.27427,     0.27528,     0.27628,     0.27728,     0.27828,     0.27928,     0.28028,     0.28128,     0.28228,     0.28328,     0.28428,     0.28529,     0.28629,     0.28729,\n",
       "           0.28829,     0.28929,     0.29029,     0.29129,     0.29229,     0.29329,     0.29429,      0.2953,      0.2963,      0.2973,      0.2983,      0.2993,      0.3003,      0.3013,      0.3023,      0.3033,      0.3043,     0.30531,     0.30631,     0.30731,     0.30831,     0.30931,     0.31031,     0.31131,\n",
       "           0.31231,     0.31331,     0.31431,     0.31532,     0.31632,     0.31732,     0.31832,     0.31932,     0.32032,     0.32132,     0.32232,     0.32332,     0.32432,     0.32533,     0.32633,     0.32733,     0.32833,     0.32933,     0.33033,     0.33133,     0.33233,     0.33333,     0.33433,     0.33534,\n",
       "           0.33634,     0.33734,     0.33834,     0.33934,     0.34034,     0.34134,     0.34234,     0.34334,     0.34434,     0.34535,     0.34635,     0.34735,     0.34835,     0.34935,     0.35035,     0.35135,     0.35235,     0.35335,     0.35435,     0.35536,     0.35636,     0.35736,     0.35836,     0.35936,\n",
       "           0.36036,     0.36136,     0.36236,     0.36336,     0.36436,     0.36537,     0.36637,     0.36737,     0.36837,     0.36937,     0.37037,     0.37137,     0.37237,     0.37337,     0.37437,     0.37538,     0.37638,     0.37738,     0.37838,     0.37938,     0.38038,     0.38138,     0.38238,     0.38338,\n",
       "           0.38438,     0.38539,     0.38639,     0.38739,     0.38839,     0.38939,     0.39039,     0.39139,     0.39239,     0.39339,     0.39439,      0.3954,      0.3964,      0.3974,      0.3984,      0.3994,      0.4004,      0.4014,      0.4024,      0.4034,      0.4044,     0.40541,     0.40641,     0.40741,\n",
       "           0.40841,     0.40941,     0.41041,     0.41141,     0.41241,     0.41341,     0.41441,     0.41542,     0.41642,     0.41742,     0.41842,     0.41942,     0.42042,     0.42142,     0.42242,     0.42342,     0.42442,     0.42543,     0.42643,     0.42743,     0.42843,     0.42943,     0.43043,     0.43143,\n",
       "           0.43243,     0.43343,     0.43443,     0.43544,     0.43644,     0.43744,     0.43844,     0.43944,     0.44044,     0.44144,     0.44244,     0.44344,     0.44444,     0.44545,     0.44645,     0.44745,     0.44845,     0.44945,     0.45045,     0.45145,     0.45245,     0.45345,     0.45445,     0.45546,\n",
       "           0.45646,     0.45746,     0.45846,     0.45946,     0.46046,     0.46146,     0.46246,     0.46346,     0.46446,     0.46547,     0.46647,     0.46747,     0.46847,     0.46947,     0.47047,     0.47147,     0.47247,     0.47347,     0.47447,     0.47548,     0.47648,     0.47748,     0.47848,     0.47948,\n",
       "           0.48048,     0.48148,     0.48248,     0.48348,     0.48448,     0.48549,     0.48649,     0.48749,     0.48849,     0.48949,     0.49049,     0.49149,     0.49249,     0.49349,     0.49449,      0.4955,      0.4965,      0.4975,      0.4985,      0.4995,      0.5005,      0.5015,      0.5025,      0.5035,\n",
       "            0.5045,     0.50551,     0.50651,     0.50751,     0.50851,     0.50951,     0.51051,     0.51151,     0.51251,     0.51351,     0.51451,     0.51552,     0.51652,     0.51752,     0.51852,     0.51952,     0.52052,     0.52152,     0.52252,     0.52352,     0.52452,     0.52553,     0.52653,     0.52753,\n",
       "           0.52853,     0.52953,     0.53053,     0.53153,     0.53253,     0.53353,     0.53453,     0.53554,     0.53654,     0.53754,     0.53854,     0.53954,     0.54054,     0.54154,     0.54254,     0.54354,     0.54454,     0.54555,     0.54655,     0.54755,     0.54855,     0.54955,     0.55055,     0.55155,\n",
       "           0.55255,     0.55355,     0.55455,     0.55556,     0.55656,     0.55756,     0.55856,     0.55956,     0.56056,     0.56156,     0.56256,     0.56356,     0.56456,     0.56557,     0.56657,     0.56757,     0.56857,     0.56957,     0.57057,     0.57157,     0.57257,     0.57357,     0.57457,     0.57558,\n",
       "           0.57658,     0.57758,     0.57858,     0.57958,     0.58058,     0.58158,     0.58258,     0.58358,     0.58458,     0.58559,     0.58659,     0.58759,     0.58859,     0.58959,     0.59059,     0.59159,     0.59259,     0.59359,     0.59459,      0.5956,      0.5966,      0.5976,      0.5986,      0.5996,\n",
       "            0.6006,      0.6016,      0.6026,      0.6036,      0.6046,     0.60561,     0.60661,     0.60761,     0.60861,     0.60961,     0.61061,     0.61161,     0.61261,     0.61361,     0.61461,     0.61562,     0.61662,     0.61762,     0.61862,     0.61962,     0.62062,     0.62162,     0.62262,     0.62362,\n",
       "           0.62462,     0.62563,     0.62663,     0.62763,     0.62863,     0.62963,     0.63063,     0.63163,     0.63263,     0.63363,     0.63463,     0.63564,     0.63664,     0.63764,     0.63864,     0.63964,     0.64064,     0.64164,     0.64264,     0.64364,     0.64464,     0.64565,     0.64665,     0.64765,\n",
       "           0.64865,     0.64965,     0.65065,     0.65165,     0.65265,     0.65365,     0.65465,     0.65566,     0.65666,     0.65766,     0.65866,     0.65966,     0.66066,     0.66166,     0.66266,     0.66366,     0.66466,     0.66567,     0.66667,     0.66767,     0.66867,     0.66967,     0.67067,     0.67167,\n",
       "           0.67267,     0.67367,     0.67467,     0.67568,     0.67668,     0.67768,     0.67868,     0.67968,     0.68068,     0.68168,     0.68268,     0.68368,     0.68468,     0.68569,     0.68669,     0.68769,     0.68869,     0.68969,     0.69069,     0.69169,     0.69269,     0.69369,     0.69469,      0.6957,\n",
       "            0.6967,      0.6977,      0.6987,      0.6997,      0.7007,      0.7017,      0.7027,      0.7037,      0.7047,     0.70571,     0.70671,     0.70771,     0.70871,     0.70971,     0.71071,     0.71171,     0.71271,     0.71371,     0.71471,     0.71572,     0.71672,     0.71772,     0.71872,     0.71972,\n",
       "           0.72072,     0.72172,     0.72272,     0.72372,     0.72472,     0.72573,     0.72673,     0.72773,     0.72873,     0.72973,     0.73073,     0.73173,     0.73273,     0.73373,     0.73473,     0.73574,     0.73674,     0.73774,     0.73874,     0.73974,     0.74074,     0.74174,     0.74274,     0.74374,\n",
       "           0.74474,     0.74575,     0.74675,     0.74775,     0.74875,     0.74975,     0.75075,     0.75175,     0.75275,     0.75375,     0.75475,     0.75576,     0.75676,     0.75776,     0.75876,     0.75976,     0.76076,     0.76176,     0.76276,     0.76376,     0.76476,     0.76577,     0.76677,     0.76777,\n",
       "           0.76877,     0.76977,     0.77077,     0.77177,     0.77277,     0.77377,     0.77477,     0.77578,     0.77678,     0.77778,     0.77878,     0.77978,     0.78078,     0.78178,     0.78278,     0.78378,     0.78478,     0.78579,     0.78679,     0.78779,     0.78879,     0.78979,     0.79079,     0.79179,\n",
       "           0.79279,     0.79379,     0.79479,      0.7958,      0.7968,      0.7978,      0.7988,      0.7998,      0.8008,      0.8018,      0.8028,      0.8038,      0.8048,     0.80581,     0.80681,     0.80781,     0.80881,     0.80981,     0.81081,     0.81181,     0.81281,     0.81381,     0.81481,     0.81582,\n",
       "           0.81682,     0.81782,     0.81882,     0.81982,     0.82082,     0.82182,     0.82282,     0.82382,     0.82482,     0.82583,     0.82683,     0.82783,     0.82883,     0.82983,     0.83083,     0.83183,     0.83283,     0.83383,     0.83483,     0.83584,     0.83684,     0.83784,     0.83884,     0.83984,\n",
       "           0.84084,     0.84184,     0.84284,     0.84384,     0.84484,     0.84585,     0.84685,     0.84785,     0.84885,     0.84985,     0.85085,     0.85185,     0.85285,     0.85385,     0.85485,     0.85586,     0.85686,     0.85786,     0.85886,     0.85986,     0.86086,     0.86186,     0.86286,     0.86386,\n",
       "           0.86486,     0.86587,     0.86687,     0.86787,     0.86887,     0.86987,     0.87087,     0.87187,     0.87287,     0.87387,     0.87487,     0.87588,     0.87688,     0.87788,     0.87888,     0.87988,     0.88088,     0.88188,     0.88288,     0.88388,     0.88488,     0.88589,     0.88689,     0.88789,\n",
       "           0.88889,     0.88989,     0.89089,     0.89189,     0.89289,     0.89389,     0.89489,      0.8959,      0.8969,      0.8979,      0.8989,      0.8999,      0.9009,      0.9019,      0.9029,      0.9039,      0.9049,     0.90591,     0.90691,     0.90791,     0.90891,     0.90991,     0.91091,     0.91191,\n",
       "           0.91291,     0.91391,     0.91491,     0.91592,     0.91692,     0.91792,     0.91892,     0.91992,     0.92092,     0.92192,     0.92292,     0.92392,     0.92492,     0.92593,     0.92693,     0.92793,     0.92893,     0.92993,     0.93093,     0.93193,     0.93293,     0.93393,     0.93493,     0.93594,\n",
       "           0.93694,     0.93794,     0.93894,     0.93994,     0.94094,     0.94194,     0.94294,     0.94394,     0.94494,     0.94595,     0.94695,     0.94795,     0.94895,     0.94995,     0.95095,     0.95195,     0.95295,     0.95395,     0.95495,     0.95596,     0.95696,     0.95796,     0.95896,     0.95996,\n",
       "           0.96096,     0.96196,     0.96296,     0.96396,     0.96496,     0.96597,     0.96697,     0.96797,     0.96897,     0.96997,     0.97097,     0.97197,     0.97297,     0.97397,     0.97497,     0.97598,     0.97698,     0.97798,     0.97898,     0.97998,     0.98098,     0.98198,     0.98298,     0.98398,\n",
       "           0.98498,     0.98599,     0.98699,     0.98799,     0.98899,     0.98999,     0.99099,     0.99199,     0.99299,     0.99399,     0.99499,       0.996,       0.997,       0.998,       0.999,           1]), array([[   0.015533,     0.01554,    0.021309, ...,           0,           0,           0],\n",
       "       [    0.42635,     0.42635,     0.53539, ...,           0,           0,           0]]), 'Confidence', 'F1'], [array([          0,    0.001001,    0.002002,    0.003003,    0.004004,    0.005005,    0.006006,    0.007007,    0.008008,    0.009009,     0.01001,    0.011011,    0.012012,    0.013013,    0.014014,    0.015015,    0.016016,    0.017017,    0.018018,    0.019019,     0.02002,    0.021021,    0.022022,    0.023023,\n",
       "          0.024024,    0.025025,    0.026026,    0.027027,    0.028028,    0.029029,     0.03003,    0.031031,    0.032032,    0.033033,    0.034034,    0.035035,    0.036036,    0.037037,    0.038038,    0.039039,     0.04004,    0.041041,    0.042042,    0.043043,    0.044044,    0.045045,    0.046046,    0.047047,\n",
       "          0.048048,    0.049049,     0.05005,    0.051051,    0.052052,    0.053053,    0.054054,    0.055055,    0.056056,    0.057057,    0.058058,    0.059059,     0.06006,    0.061061,    0.062062,    0.063063,    0.064064,    0.065065,    0.066066,    0.067067,    0.068068,    0.069069,     0.07007,    0.071071,\n",
       "          0.072072,    0.073073,    0.074074,    0.075075,    0.076076,    0.077077,    0.078078,    0.079079,     0.08008,    0.081081,    0.082082,    0.083083,    0.084084,    0.085085,    0.086086,    0.087087,    0.088088,    0.089089,     0.09009,    0.091091,    0.092092,    0.093093,    0.094094,    0.095095,\n",
       "          0.096096,    0.097097,    0.098098,    0.099099,      0.1001,      0.1011,      0.1021,      0.1031,      0.1041,     0.10511,     0.10611,     0.10711,     0.10811,     0.10911,     0.11011,     0.11111,     0.11211,     0.11311,     0.11411,     0.11512,     0.11612,     0.11712,     0.11812,     0.11912,\n",
       "           0.12012,     0.12112,     0.12212,     0.12312,     0.12412,     0.12513,     0.12613,     0.12713,     0.12813,     0.12913,     0.13013,     0.13113,     0.13213,     0.13313,     0.13413,     0.13514,     0.13614,     0.13714,     0.13814,     0.13914,     0.14014,     0.14114,     0.14214,     0.14314,\n",
       "           0.14414,     0.14515,     0.14615,     0.14715,     0.14815,     0.14915,     0.15015,     0.15115,     0.15215,     0.15315,     0.15415,     0.15516,     0.15616,     0.15716,     0.15816,     0.15916,     0.16016,     0.16116,     0.16216,     0.16316,     0.16416,     0.16517,     0.16617,     0.16717,\n",
       "           0.16817,     0.16917,     0.17017,     0.17117,     0.17217,     0.17317,     0.17417,     0.17518,     0.17618,     0.17718,     0.17818,     0.17918,     0.18018,     0.18118,     0.18218,     0.18318,     0.18418,     0.18519,     0.18619,     0.18719,     0.18819,     0.18919,     0.19019,     0.19119,\n",
       "           0.19219,     0.19319,     0.19419,      0.1952,      0.1962,      0.1972,      0.1982,      0.1992,      0.2002,      0.2012,      0.2022,      0.2032,      0.2042,     0.20521,     0.20621,     0.20721,     0.20821,     0.20921,     0.21021,     0.21121,     0.21221,     0.21321,     0.21421,     0.21522,\n",
       "           0.21622,     0.21722,     0.21822,     0.21922,     0.22022,     0.22122,     0.22222,     0.22322,     0.22422,     0.22523,     0.22623,     0.22723,     0.22823,     0.22923,     0.23023,     0.23123,     0.23223,     0.23323,     0.23423,     0.23524,     0.23624,     0.23724,     0.23824,     0.23924,\n",
       "           0.24024,     0.24124,     0.24224,     0.24324,     0.24424,     0.24525,     0.24625,     0.24725,     0.24825,     0.24925,     0.25025,     0.25125,     0.25225,     0.25325,     0.25425,     0.25526,     0.25626,     0.25726,     0.25826,     0.25926,     0.26026,     0.26126,     0.26226,     0.26326,\n",
       "           0.26426,     0.26527,     0.26627,     0.26727,     0.26827,     0.26927,     0.27027,     0.27127,     0.27227,     0.27327,     0.27427,     0.27528,     0.27628,     0.27728,     0.27828,     0.27928,     0.28028,     0.28128,     0.28228,     0.28328,     0.28428,     0.28529,     0.28629,     0.28729,\n",
       "           0.28829,     0.28929,     0.29029,     0.29129,     0.29229,     0.29329,     0.29429,      0.2953,      0.2963,      0.2973,      0.2983,      0.2993,      0.3003,      0.3013,      0.3023,      0.3033,      0.3043,     0.30531,     0.30631,     0.30731,     0.30831,     0.30931,     0.31031,     0.31131,\n",
       "           0.31231,     0.31331,     0.31431,     0.31532,     0.31632,     0.31732,     0.31832,     0.31932,     0.32032,     0.32132,     0.32232,     0.32332,     0.32432,     0.32533,     0.32633,     0.32733,     0.32833,     0.32933,     0.33033,     0.33133,     0.33233,     0.33333,     0.33433,     0.33534,\n",
       "           0.33634,     0.33734,     0.33834,     0.33934,     0.34034,     0.34134,     0.34234,     0.34334,     0.34434,     0.34535,     0.34635,     0.34735,     0.34835,     0.34935,     0.35035,     0.35135,     0.35235,     0.35335,     0.35435,     0.35536,     0.35636,     0.35736,     0.35836,     0.35936,\n",
       "           0.36036,     0.36136,     0.36236,     0.36336,     0.36436,     0.36537,     0.36637,     0.36737,     0.36837,     0.36937,     0.37037,     0.37137,     0.37237,     0.37337,     0.37437,     0.37538,     0.37638,     0.37738,     0.37838,     0.37938,     0.38038,     0.38138,     0.38238,     0.38338,\n",
       "           0.38438,     0.38539,     0.38639,     0.38739,     0.38839,     0.38939,     0.39039,     0.39139,     0.39239,     0.39339,     0.39439,      0.3954,      0.3964,      0.3974,      0.3984,      0.3994,      0.4004,      0.4014,      0.4024,      0.4034,      0.4044,     0.40541,     0.40641,     0.40741,\n",
       "           0.40841,     0.40941,     0.41041,     0.41141,     0.41241,     0.41341,     0.41441,     0.41542,     0.41642,     0.41742,     0.41842,     0.41942,     0.42042,     0.42142,     0.42242,     0.42342,     0.42442,     0.42543,     0.42643,     0.42743,     0.42843,     0.42943,     0.43043,     0.43143,\n",
       "           0.43243,     0.43343,     0.43443,     0.43544,     0.43644,     0.43744,     0.43844,     0.43944,     0.44044,     0.44144,     0.44244,     0.44344,     0.44444,     0.44545,     0.44645,     0.44745,     0.44845,     0.44945,     0.45045,     0.45145,     0.45245,     0.45345,     0.45445,     0.45546,\n",
       "           0.45646,     0.45746,     0.45846,     0.45946,     0.46046,     0.46146,     0.46246,     0.46346,     0.46446,     0.46547,     0.46647,     0.46747,     0.46847,     0.46947,     0.47047,     0.47147,     0.47247,     0.47347,     0.47447,     0.47548,     0.47648,     0.47748,     0.47848,     0.47948,\n",
       "           0.48048,     0.48148,     0.48248,     0.48348,     0.48448,     0.48549,     0.48649,     0.48749,     0.48849,     0.48949,     0.49049,     0.49149,     0.49249,     0.49349,     0.49449,      0.4955,      0.4965,      0.4975,      0.4985,      0.4995,      0.5005,      0.5015,      0.5025,      0.5035,\n",
       "            0.5045,     0.50551,     0.50651,     0.50751,     0.50851,     0.50951,     0.51051,     0.51151,     0.51251,     0.51351,     0.51451,     0.51552,     0.51652,     0.51752,     0.51852,     0.51952,     0.52052,     0.52152,     0.52252,     0.52352,     0.52452,     0.52553,     0.52653,     0.52753,\n",
       "           0.52853,     0.52953,     0.53053,     0.53153,     0.53253,     0.53353,     0.53453,     0.53554,     0.53654,     0.53754,     0.53854,     0.53954,     0.54054,     0.54154,     0.54254,     0.54354,     0.54454,     0.54555,     0.54655,     0.54755,     0.54855,     0.54955,     0.55055,     0.55155,\n",
       "           0.55255,     0.55355,     0.55455,     0.55556,     0.55656,     0.55756,     0.55856,     0.55956,     0.56056,     0.56156,     0.56256,     0.56356,     0.56456,     0.56557,     0.56657,     0.56757,     0.56857,     0.56957,     0.57057,     0.57157,     0.57257,     0.57357,     0.57457,     0.57558,\n",
       "           0.57658,     0.57758,     0.57858,     0.57958,     0.58058,     0.58158,     0.58258,     0.58358,     0.58458,     0.58559,     0.58659,     0.58759,     0.58859,     0.58959,     0.59059,     0.59159,     0.59259,     0.59359,     0.59459,      0.5956,      0.5966,      0.5976,      0.5986,      0.5996,\n",
       "            0.6006,      0.6016,      0.6026,      0.6036,      0.6046,     0.60561,     0.60661,     0.60761,     0.60861,     0.60961,     0.61061,     0.61161,     0.61261,     0.61361,     0.61461,     0.61562,     0.61662,     0.61762,     0.61862,     0.61962,     0.62062,     0.62162,     0.62262,     0.62362,\n",
       "           0.62462,     0.62563,     0.62663,     0.62763,     0.62863,     0.62963,     0.63063,     0.63163,     0.63263,     0.63363,     0.63463,     0.63564,     0.63664,     0.63764,     0.63864,     0.63964,     0.64064,     0.64164,     0.64264,     0.64364,     0.64464,     0.64565,     0.64665,     0.64765,\n",
       "           0.64865,     0.64965,     0.65065,     0.65165,     0.65265,     0.65365,     0.65465,     0.65566,     0.65666,     0.65766,     0.65866,     0.65966,     0.66066,     0.66166,     0.66266,     0.66366,     0.66466,     0.66567,     0.66667,     0.66767,     0.66867,     0.66967,     0.67067,     0.67167,\n",
       "           0.67267,     0.67367,     0.67467,     0.67568,     0.67668,     0.67768,     0.67868,     0.67968,     0.68068,     0.68168,     0.68268,     0.68368,     0.68468,     0.68569,     0.68669,     0.68769,     0.68869,     0.68969,     0.69069,     0.69169,     0.69269,     0.69369,     0.69469,      0.6957,\n",
       "            0.6967,      0.6977,      0.6987,      0.6997,      0.7007,      0.7017,      0.7027,      0.7037,      0.7047,     0.70571,     0.70671,     0.70771,     0.70871,     0.70971,     0.71071,     0.71171,     0.71271,     0.71371,     0.71471,     0.71572,     0.71672,     0.71772,     0.71872,     0.71972,\n",
       "           0.72072,     0.72172,     0.72272,     0.72372,     0.72472,     0.72573,     0.72673,     0.72773,     0.72873,     0.72973,     0.73073,     0.73173,     0.73273,     0.73373,     0.73473,     0.73574,     0.73674,     0.73774,     0.73874,     0.73974,     0.74074,     0.74174,     0.74274,     0.74374,\n",
       "           0.74474,     0.74575,     0.74675,     0.74775,     0.74875,     0.74975,     0.75075,     0.75175,     0.75275,     0.75375,     0.75475,     0.75576,     0.75676,     0.75776,     0.75876,     0.75976,     0.76076,     0.76176,     0.76276,     0.76376,     0.76476,     0.76577,     0.76677,     0.76777,\n",
       "           0.76877,     0.76977,     0.77077,     0.77177,     0.77277,     0.77377,     0.77477,     0.77578,     0.77678,     0.77778,     0.77878,     0.77978,     0.78078,     0.78178,     0.78278,     0.78378,     0.78478,     0.78579,     0.78679,     0.78779,     0.78879,     0.78979,     0.79079,     0.79179,\n",
       "           0.79279,     0.79379,     0.79479,      0.7958,      0.7968,      0.7978,      0.7988,      0.7998,      0.8008,      0.8018,      0.8028,      0.8038,      0.8048,     0.80581,     0.80681,     0.80781,     0.80881,     0.80981,     0.81081,     0.81181,     0.81281,     0.81381,     0.81481,     0.81582,\n",
       "           0.81682,     0.81782,     0.81882,     0.81982,     0.82082,     0.82182,     0.82282,     0.82382,     0.82482,     0.82583,     0.82683,     0.82783,     0.82883,     0.82983,     0.83083,     0.83183,     0.83283,     0.83383,     0.83483,     0.83584,     0.83684,     0.83784,     0.83884,     0.83984,\n",
       "           0.84084,     0.84184,     0.84284,     0.84384,     0.84484,     0.84585,     0.84685,     0.84785,     0.84885,     0.84985,     0.85085,     0.85185,     0.85285,     0.85385,     0.85485,     0.85586,     0.85686,     0.85786,     0.85886,     0.85986,     0.86086,     0.86186,     0.86286,     0.86386,\n",
       "           0.86486,     0.86587,     0.86687,     0.86787,     0.86887,     0.86987,     0.87087,     0.87187,     0.87287,     0.87387,     0.87487,     0.87588,     0.87688,     0.87788,     0.87888,     0.87988,     0.88088,     0.88188,     0.88288,     0.88388,     0.88488,     0.88589,     0.88689,     0.88789,\n",
       "           0.88889,     0.88989,     0.89089,     0.89189,     0.89289,     0.89389,     0.89489,      0.8959,      0.8969,      0.8979,      0.8989,      0.8999,      0.9009,      0.9019,      0.9029,      0.9039,      0.9049,     0.90591,     0.90691,     0.90791,     0.90891,     0.90991,     0.91091,     0.91191,\n",
       "           0.91291,     0.91391,     0.91491,     0.91592,     0.91692,     0.91792,     0.91892,     0.91992,     0.92092,     0.92192,     0.92292,     0.92392,     0.92492,     0.92593,     0.92693,     0.92793,     0.92893,     0.92993,     0.93093,     0.93193,     0.93293,     0.93393,     0.93493,     0.93594,\n",
       "           0.93694,     0.93794,     0.93894,     0.93994,     0.94094,     0.94194,     0.94294,     0.94394,     0.94494,     0.94595,     0.94695,     0.94795,     0.94895,     0.94995,     0.95095,     0.95195,     0.95295,     0.95395,     0.95495,     0.95596,     0.95696,     0.95796,     0.95896,     0.95996,\n",
       "           0.96096,     0.96196,     0.96296,     0.96396,     0.96496,     0.96597,     0.96697,     0.96797,     0.96897,     0.96997,     0.97097,     0.97197,     0.97297,     0.97397,     0.97497,     0.97598,     0.97698,     0.97798,     0.97898,     0.97998,     0.98098,     0.98198,     0.98298,     0.98398,\n",
       "           0.98498,     0.98599,     0.98699,     0.98799,     0.98899,     0.98999,     0.99099,     0.99199,     0.99299,     0.99399,     0.99499,       0.996,       0.997,       0.998,       0.999,           1]), array([[  0.0078353,   0.0078388,    0.010787, ...,           1,           1,           1],\n",
       "       [    0.27371,     0.27371,     0.37125, ...,           1,           1,           1]]), 'Confidence', 'Precision'], [array([          0,    0.001001,    0.002002,    0.003003,    0.004004,    0.005005,    0.006006,    0.007007,    0.008008,    0.009009,     0.01001,    0.011011,    0.012012,    0.013013,    0.014014,    0.015015,    0.016016,    0.017017,    0.018018,    0.019019,     0.02002,    0.021021,    0.022022,    0.023023,\n",
       "          0.024024,    0.025025,    0.026026,    0.027027,    0.028028,    0.029029,     0.03003,    0.031031,    0.032032,    0.033033,    0.034034,    0.035035,    0.036036,    0.037037,    0.038038,    0.039039,     0.04004,    0.041041,    0.042042,    0.043043,    0.044044,    0.045045,    0.046046,    0.047047,\n",
       "          0.048048,    0.049049,     0.05005,    0.051051,    0.052052,    0.053053,    0.054054,    0.055055,    0.056056,    0.057057,    0.058058,    0.059059,     0.06006,    0.061061,    0.062062,    0.063063,    0.064064,    0.065065,    0.066066,    0.067067,    0.068068,    0.069069,     0.07007,    0.071071,\n",
       "          0.072072,    0.073073,    0.074074,    0.075075,    0.076076,    0.077077,    0.078078,    0.079079,     0.08008,    0.081081,    0.082082,    0.083083,    0.084084,    0.085085,    0.086086,    0.087087,    0.088088,    0.089089,     0.09009,    0.091091,    0.092092,    0.093093,    0.094094,    0.095095,\n",
       "          0.096096,    0.097097,    0.098098,    0.099099,      0.1001,      0.1011,      0.1021,      0.1031,      0.1041,     0.10511,     0.10611,     0.10711,     0.10811,     0.10911,     0.11011,     0.11111,     0.11211,     0.11311,     0.11411,     0.11512,     0.11612,     0.11712,     0.11812,     0.11912,\n",
       "           0.12012,     0.12112,     0.12212,     0.12312,     0.12412,     0.12513,     0.12613,     0.12713,     0.12813,     0.12913,     0.13013,     0.13113,     0.13213,     0.13313,     0.13413,     0.13514,     0.13614,     0.13714,     0.13814,     0.13914,     0.14014,     0.14114,     0.14214,     0.14314,\n",
       "           0.14414,     0.14515,     0.14615,     0.14715,     0.14815,     0.14915,     0.15015,     0.15115,     0.15215,     0.15315,     0.15415,     0.15516,     0.15616,     0.15716,     0.15816,     0.15916,     0.16016,     0.16116,     0.16216,     0.16316,     0.16416,     0.16517,     0.16617,     0.16717,\n",
       "           0.16817,     0.16917,     0.17017,     0.17117,     0.17217,     0.17317,     0.17417,     0.17518,     0.17618,     0.17718,     0.17818,     0.17918,     0.18018,     0.18118,     0.18218,     0.18318,     0.18418,     0.18519,     0.18619,     0.18719,     0.18819,     0.18919,     0.19019,     0.19119,\n",
       "           0.19219,     0.19319,     0.19419,      0.1952,      0.1962,      0.1972,      0.1982,      0.1992,      0.2002,      0.2012,      0.2022,      0.2032,      0.2042,     0.20521,     0.20621,     0.20721,     0.20821,     0.20921,     0.21021,     0.21121,     0.21221,     0.21321,     0.21421,     0.21522,\n",
       "           0.21622,     0.21722,     0.21822,     0.21922,     0.22022,     0.22122,     0.22222,     0.22322,     0.22422,     0.22523,     0.22623,     0.22723,     0.22823,     0.22923,     0.23023,     0.23123,     0.23223,     0.23323,     0.23423,     0.23524,     0.23624,     0.23724,     0.23824,     0.23924,\n",
       "           0.24024,     0.24124,     0.24224,     0.24324,     0.24424,     0.24525,     0.24625,     0.24725,     0.24825,     0.24925,     0.25025,     0.25125,     0.25225,     0.25325,     0.25425,     0.25526,     0.25626,     0.25726,     0.25826,     0.25926,     0.26026,     0.26126,     0.26226,     0.26326,\n",
       "           0.26426,     0.26527,     0.26627,     0.26727,     0.26827,     0.26927,     0.27027,     0.27127,     0.27227,     0.27327,     0.27427,     0.27528,     0.27628,     0.27728,     0.27828,     0.27928,     0.28028,     0.28128,     0.28228,     0.28328,     0.28428,     0.28529,     0.28629,     0.28729,\n",
       "           0.28829,     0.28929,     0.29029,     0.29129,     0.29229,     0.29329,     0.29429,      0.2953,      0.2963,      0.2973,      0.2983,      0.2993,      0.3003,      0.3013,      0.3023,      0.3033,      0.3043,     0.30531,     0.30631,     0.30731,     0.30831,     0.30931,     0.31031,     0.31131,\n",
       "           0.31231,     0.31331,     0.31431,     0.31532,     0.31632,     0.31732,     0.31832,     0.31932,     0.32032,     0.32132,     0.32232,     0.32332,     0.32432,     0.32533,     0.32633,     0.32733,     0.32833,     0.32933,     0.33033,     0.33133,     0.33233,     0.33333,     0.33433,     0.33534,\n",
       "           0.33634,     0.33734,     0.33834,     0.33934,     0.34034,     0.34134,     0.34234,     0.34334,     0.34434,     0.34535,     0.34635,     0.34735,     0.34835,     0.34935,     0.35035,     0.35135,     0.35235,     0.35335,     0.35435,     0.35536,     0.35636,     0.35736,     0.35836,     0.35936,\n",
       "           0.36036,     0.36136,     0.36236,     0.36336,     0.36436,     0.36537,     0.36637,     0.36737,     0.36837,     0.36937,     0.37037,     0.37137,     0.37237,     0.37337,     0.37437,     0.37538,     0.37638,     0.37738,     0.37838,     0.37938,     0.38038,     0.38138,     0.38238,     0.38338,\n",
       "           0.38438,     0.38539,     0.38639,     0.38739,     0.38839,     0.38939,     0.39039,     0.39139,     0.39239,     0.39339,     0.39439,      0.3954,      0.3964,      0.3974,      0.3984,      0.3994,      0.4004,      0.4014,      0.4024,      0.4034,      0.4044,     0.40541,     0.40641,     0.40741,\n",
       "           0.40841,     0.40941,     0.41041,     0.41141,     0.41241,     0.41341,     0.41441,     0.41542,     0.41642,     0.41742,     0.41842,     0.41942,     0.42042,     0.42142,     0.42242,     0.42342,     0.42442,     0.42543,     0.42643,     0.42743,     0.42843,     0.42943,     0.43043,     0.43143,\n",
       "           0.43243,     0.43343,     0.43443,     0.43544,     0.43644,     0.43744,     0.43844,     0.43944,     0.44044,     0.44144,     0.44244,     0.44344,     0.44444,     0.44545,     0.44645,     0.44745,     0.44845,     0.44945,     0.45045,     0.45145,     0.45245,     0.45345,     0.45445,     0.45546,\n",
       "           0.45646,     0.45746,     0.45846,     0.45946,     0.46046,     0.46146,     0.46246,     0.46346,     0.46446,     0.46547,     0.46647,     0.46747,     0.46847,     0.46947,     0.47047,     0.47147,     0.47247,     0.47347,     0.47447,     0.47548,     0.47648,     0.47748,     0.47848,     0.47948,\n",
       "           0.48048,     0.48148,     0.48248,     0.48348,     0.48448,     0.48549,     0.48649,     0.48749,     0.48849,     0.48949,     0.49049,     0.49149,     0.49249,     0.49349,     0.49449,      0.4955,      0.4965,      0.4975,      0.4985,      0.4995,      0.5005,      0.5015,      0.5025,      0.5035,\n",
       "            0.5045,     0.50551,     0.50651,     0.50751,     0.50851,     0.50951,     0.51051,     0.51151,     0.51251,     0.51351,     0.51451,     0.51552,     0.51652,     0.51752,     0.51852,     0.51952,     0.52052,     0.52152,     0.52252,     0.52352,     0.52452,     0.52553,     0.52653,     0.52753,\n",
       "           0.52853,     0.52953,     0.53053,     0.53153,     0.53253,     0.53353,     0.53453,     0.53554,     0.53654,     0.53754,     0.53854,     0.53954,     0.54054,     0.54154,     0.54254,     0.54354,     0.54454,     0.54555,     0.54655,     0.54755,     0.54855,     0.54955,     0.55055,     0.55155,\n",
       "           0.55255,     0.55355,     0.55455,     0.55556,     0.55656,     0.55756,     0.55856,     0.55956,     0.56056,     0.56156,     0.56256,     0.56356,     0.56456,     0.56557,     0.56657,     0.56757,     0.56857,     0.56957,     0.57057,     0.57157,     0.57257,     0.57357,     0.57457,     0.57558,\n",
       "           0.57658,     0.57758,     0.57858,     0.57958,     0.58058,     0.58158,     0.58258,     0.58358,     0.58458,     0.58559,     0.58659,     0.58759,     0.58859,     0.58959,     0.59059,     0.59159,     0.59259,     0.59359,     0.59459,      0.5956,      0.5966,      0.5976,      0.5986,      0.5996,\n",
       "            0.6006,      0.6016,      0.6026,      0.6036,      0.6046,     0.60561,     0.60661,     0.60761,     0.60861,     0.60961,     0.61061,     0.61161,     0.61261,     0.61361,     0.61461,     0.61562,     0.61662,     0.61762,     0.61862,     0.61962,     0.62062,     0.62162,     0.62262,     0.62362,\n",
       "           0.62462,     0.62563,     0.62663,     0.62763,     0.62863,     0.62963,     0.63063,     0.63163,     0.63263,     0.63363,     0.63463,     0.63564,     0.63664,     0.63764,     0.63864,     0.63964,     0.64064,     0.64164,     0.64264,     0.64364,     0.64464,     0.64565,     0.64665,     0.64765,\n",
       "           0.64865,     0.64965,     0.65065,     0.65165,     0.65265,     0.65365,     0.65465,     0.65566,     0.65666,     0.65766,     0.65866,     0.65966,     0.66066,     0.66166,     0.66266,     0.66366,     0.66466,     0.66567,     0.66667,     0.66767,     0.66867,     0.66967,     0.67067,     0.67167,\n",
       "           0.67267,     0.67367,     0.67467,     0.67568,     0.67668,     0.67768,     0.67868,     0.67968,     0.68068,     0.68168,     0.68268,     0.68368,     0.68468,     0.68569,     0.68669,     0.68769,     0.68869,     0.68969,     0.69069,     0.69169,     0.69269,     0.69369,     0.69469,      0.6957,\n",
       "            0.6967,      0.6977,      0.6987,      0.6997,      0.7007,      0.7017,      0.7027,      0.7037,      0.7047,     0.70571,     0.70671,     0.70771,     0.70871,     0.70971,     0.71071,     0.71171,     0.71271,     0.71371,     0.71471,     0.71572,     0.71672,     0.71772,     0.71872,     0.71972,\n",
       "           0.72072,     0.72172,     0.72272,     0.72372,     0.72472,     0.72573,     0.72673,     0.72773,     0.72873,     0.72973,     0.73073,     0.73173,     0.73273,     0.73373,     0.73473,     0.73574,     0.73674,     0.73774,     0.73874,     0.73974,     0.74074,     0.74174,     0.74274,     0.74374,\n",
       "           0.74474,     0.74575,     0.74675,     0.74775,     0.74875,     0.74975,     0.75075,     0.75175,     0.75275,     0.75375,     0.75475,     0.75576,     0.75676,     0.75776,     0.75876,     0.75976,     0.76076,     0.76176,     0.76276,     0.76376,     0.76476,     0.76577,     0.76677,     0.76777,\n",
       "           0.76877,     0.76977,     0.77077,     0.77177,     0.77277,     0.77377,     0.77477,     0.77578,     0.77678,     0.77778,     0.77878,     0.77978,     0.78078,     0.78178,     0.78278,     0.78378,     0.78478,     0.78579,     0.78679,     0.78779,     0.78879,     0.78979,     0.79079,     0.79179,\n",
       "           0.79279,     0.79379,     0.79479,      0.7958,      0.7968,      0.7978,      0.7988,      0.7998,      0.8008,      0.8018,      0.8028,      0.8038,      0.8048,     0.80581,     0.80681,     0.80781,     0.80881,     0.80981,     0.81081,     0.81181,     0.81281,     0.81381,     0.81481,     0.81582,\n",
       "           0.81682,     0.81782,     0.81882,     0.81982,     0.82082,     0.82182,     0.82282,     0.82382,     0.82482,     0.82583,     0.82683,     0.82783,     0.82883,     0.82983,     0.83083,     0.83183,     0.83283,     0.83383,     0.83483,     0.83584,     0.83684,     0.83784,     0.83884,     0.83984,\n",
       "           0.84084,     0.84184,     0.84284,     0.84384,     0.84484,     0.84585,     0.84685,     0.84785,     0.84885,     0.84985,     0.85085,     0.85185,     0.85285,     0.85385,     0.85485,     0.85586,     0.85686,     0.85786,     0.85886,     0.85986,     0.86086,     0.86186,     0.86286,     0.86386,\n",
       "           0.86486,     0.86587,     0.86687,     0.86787,     0.86887,     0.86987,     0.87087,     0.87187,     0.87287,     0.87387,     0.87487,     0.87588,     0.87688,     0.87788,     0.87888,     0.87988,     0.88088,     0.88188,     0.88288,     0.88388,     0.88488,     0.88589,     0.88689,     0.88789,\n",
       "           0.88889,     0.88989,     0.89089,     0.89189,     0.89289,     0.89389,     0.89489,      0.8959,      0.8969,      0.8979,      0.8989,      0.8999,      0.9009,      0.9019,      0.9029,      0.9039,      0.9049,     0.90591,     0.90691,     0.90791,     0.90891,     0.90991,     0.91091,     0.91191,\n",
       "           0.91291,     0.91391,     0.91491,     0.91592,     0.91692,     0.91792,     0.91892,     0.91992,     0.92092,     0.92192,     0.92292,     0.92392,     0.92492,     0.92593,     0.92693,     0.92793,     0.92893,     0.92993,     0.93093,     0.93193,     0.93293,     0.93393,     0.93493,     0.93594,\n",
       "           0.93694,     0.93794,     0.93894,     0.93994,     0.94094,     0.94194,     0.94294,     0.94394,     0.94494,     0.94595,     0.94695,     0.94795,     0.94895,     0.94995,     0.95095,     0.95195,     0.95295,     0.95395,     0.95495,     0.95596,     0.95696,     0.95796,     0.95896,     0.95996,\n",
       "           0.96096,     0.96196,     0.96296,     0.96396,     0.96496,     0.96597,     0.96697,     0.96797,     0.96897,     0.96997,     0.97097,     0.97197,     0.97297,     0.97397,     0.97497,     0.97598,     0.97698,     0.97798,     0.97898,     0.97998,     0.98098,     0.98198,     0.98298,     0.98398,\n",
       "           0.98498,     0.98599,     0.98699,     0.98799,     0.98899,     0.98999,     0.99099,     0.99199,     0.99299,     0.99399,     0.99499,       0.996,       0.997,       0.998,       0.999,           1]), array([[    0.88595,     0.88595,     0.86942, ...,           0,           0,           0],\n",
       "       [    0.96378,     0.96378,     0.95976, ...,           0,           0,           0]]), 'Confidence', 'Recall']]\n",
       "fitness: 0.4077083837213182\n",
       "keys: ['metrics/precision(B)', 'metrics/recall(B)', 'metrics/mAP50(B)', 'metrics/mAP50-95(B)']\n",
       "maps: array([    0.13831,     0.63414])\n",
       "names: {0: 'Wildfire', 1: 'Cyclone'}\n",
       "plot: True\n",
       "results_dict: {'metrics/precision(B)': 0.6057621291125987, 'metrics/recall(B)': 0.6080166952125978, 'metrics/mAP50(B)': 0.6010615648913514, 'metrics/mAP50-95(B)': 0.3862246969246478, 'fitness': 0.4077083837213182}\n",
       "save_dir: PosixPath('/opt/homebrew/runs/detect/train14')\n",
       "speed: {'preprocess': 1.6575462477547782, 'inference': 224.38409464699882, 'loss': 6.777899605887278e-05, 'postprocess': 0.6909063884190151}\n",
       "task: 'detect'"
      ]
     },
     "execution_count": 1,
     "metadata": {},
     "output_type": "execute_result"
    }
   ],
   "source": [
    "from ultralytics import YOLO\n",
    "\n",
    "model =YOLO(\"yolov8n.pt\")\n",
    "\n",
    "model.train(data=\"data.yaml\",epochs=30)\n"
   ]
  },
  {
   "cell_type": "code",
   "execution_count": 2,
   "id": "a53e8422",
   "metadata": {},
   "outputs": [
    {
     "name": "stdout",
     "output_type": "stream",
     "text": [
      "WARNING ⚠️ 'source' is missing. Using 'source=/opt/homebrew/lib/python3.10/site-packages/ultralytics/assets'.\n",
      "\n",
      "image 1/2 /opt/homebrew/lib/python3.10/site-packages/ultralytics/assets/bus.jpg: 640x480 11 Wildfires, 112.8ms\n",
      "image 2/2 /opt/homebrew/lib/python3.10/site-packages/ultralytics/assets/zidane.jpg: 384x640 (no detections), 84.6ms\n",
      "Speed: 6.2ms preprocess, 98.7ms inference, 6.5ms postprocess per image at shape (1, 3, 384, 640)\n"
     ]
    },
    {
     "data": {
      "text/plain": [
       "[ultralytics.engine.results.Results object with attributes:\n",
       " \n",
       " boxes: ultralytics.engine.results.Boxes object\n",
       " keypoints: None\n",
       " masks: None\n",
       " names: {0: 'Wildfire', 1: 'Cyclone'}\n",
       " obb: None\n",
       " orig_img: array([[[119, 146, 172],\n",
       "         [121, 148, 174],\n",
       "         [122, 152, 177],\n",
       "         ...,\n",
       "         [161, 171, 188],\n",
       "         [160, 170, 187],\n",
       "         [160, 170, 187]],\n",
       " \n",
       "        [[120, 147, 173],\n",
       "         [122, 149, 175],\n",
       "         [123, 153, 178],\n",
       "         ...,\n",
       "         [161, 171, 188],\n",
       "         [160, 170, 187],\n",
       "         [160, 170, 187]],\n",
       " \n",
       "        [[123, 150, 176],\n",
       "         [124, 151, 177],\n",
       "         [125, 155, 180],\n",
       "         ...,\n",
       "         [161, 171, 188],\n",
       "         [160, 170, 187],\n",
       "         [160, 170, 187]],\n",
       " \n",
       "        ...,\n",
       " \n",
       "        [[183, 182, 186],\n",
       "         [179, 178, 182],\n",
       "         [180, 179, 183],\n",
       "         ...,\n",
       "         [121, 111, 117],\n",
       "         [113, 103, 109],\n",
       "         [115, 105, 111]],\n",
       " \n",
       "        [[165, 164, 168],\n",
       "         [173, 172, 176],\n",
       "         [187, 186, 190],\n",
       "         ...,\n",
       "         [102,  92,  98],\n",
       "         [101,  91,  97],\n",
       "         [103,  93,  99]],\n",
       " \n",
       "        [[123, 122, 126],\n",
       "         [145, 144, 148],\n",
       "         [176, 175, 179],\n",
       "         ...,\n",
       "         [ 95,  85,  91],\n",
       "         [ 96,  86,  92],\n",
       "         [ 98,  88,  94]]], dtype=uint8)\n",
       " orig_shape: (1080, 810)\n",
       " path: '/opt/homebrew/lib/python3.10/site-packages/ultralytics/assets/bus.jpg'\n",
       " probs: None\n",
       " save_dir: '/opt/homebrew/runs/detect/train142'\n",
       " speed: {'preprocess': 10.425806045532227, 'inference': 112.78676986694336, 'postprocess': 12.742996215820312},\n",
       " ultralytics.engine.results.Results object with attributes:\n",
       " \n",
       " boxes: ultralytics.engine.results.Boxes object\n",
       " keypoints: None\n",
       " masks: None\n",
       " names: {0: 'Wildfire', 1: 'Cyclone'}\n",
       " obb: None\n",
       " orig_img: array([[[44, 51, 76],\n",
       "         [43, 50, 75],\n",
       "         [41, 48, 73],\n",
       "         ...,\n",
       "         [20, 18, 54],\n",
       "         [18, 16, 52],\n",
       "         [17, 15, 51]],\n",
       " \n",
       "        [[44, 51, 76],\n",
       "         [43, 50, 75],\n",
       "         [41, 48, 73],\n",
       "         ...,\n",
       "         [20, 18, 54],\n",
       "         [18, 16, 52],\n",
       "         [18, 16, 52]],\n",
       " \n",
       "        [[44, 51, 76],\n",
       "         [43, 50, 75],\n",
       "         [41, 48, 73],\n",
       "         ...,\n",
       "         [21, 18, 57],\n",
       "         [19, 16, 55],\n",
       "         [18, 15, 54]],\n",
       " \n",
       "        ...,\n",
       " \n",
       "        [[53, 44, 40],\n",
       "         [52, 43, 39],\n",
       "         [51, 42, 38],\n",
       "         ...,\n",
       "         [50, 50, 38],\n",
       "         [51, 51, 39],\n",
       "         [52, 52, 40]],\n",
       " \n",
       "        [[53, 44, 40],\n",
       "         [52, 43, 39],\n",
       "         [51, 42, 38],\n",
       "         ...,\n",
       "         [50, 50, 38],\n",
       "         [51, 51, 39],\n",
       "         [52, 52, 40]],\n",
       " \n",
       "        [[53, 44, 40],\n",
       "         [52, 43, 39],\n",
       "         [51, 42, 38],\n",
       "         ...,\n",
       "         [49, 49, 37],\n",
       "         [51, 51, 39],\n",
       "         [52, 52, 40]]], dtype=uint8)\n",
       " orig_shape: (720, 1280)\n",
       " path: '/opt/homebrew/lib/python3.10/site-packages/ultralytics/assets/zidane.jpg'\n",
       " probs: None\n",
       " save_dir: '/opt/homebrew/runs/detect/train142'\n",
       " speed: {'preprocess': 2.0689964294433594, 'inference': 84.60211753845215, 'postprocess': 0.23603439331054688}]"
      ]
     },
     "execution_count": 2,
     "metadata": {},
     "output_type": "execute_result"
    }
   ],
   "source": [
    "model.predict(data=\"data.yaml\")"
   ]
  },
  {
   "cell_type": "code",
   "execution_count": 6,
   "id": "ac170000",
   "metadata": {
    "scrolled": true
   },
   "outputs": [
    {
     "name": "stdout",
     "output_type": "stream",
     "text": [
      "Ultralytics YOLOv8.1.28 🚀 Python-3.10.12 torch-2.2.1 CPU (Apple M1)\n",
      "Model summary (fused): 168 layers, 3006038 parameters, 0 gradients, 8.1 GFLOPs\n",
      "\n",
      "image 1/620 /Users/sreenadh/yolov8_env/satellite_dataset_1/test/images/1.jpg: 640x640 1 Wildfire, 158.6ms\n",
      "image 2/620 /Users/sreenadh/yolov8_env/satellite_dataset_1/test/images/10.jpg: 640x640 2 Wildfires, 133.7ms\n",
      "image 3/620 /Users/sreenadh/yolov8_env/satellite_dataset_1/test/images/100.jpg: 640x640 (no detections), 115.6ms\n",
      "image 4/620 /Users/sreenadh/yolov8_env/satellite_dataset_1/test/images/101.jpg: 640x640 (no detections), 112.1ms\n",
      "image 5/620 /Users/sreenadh/yolov8_env/satellite_dataset_1/test/images/102.jpg: 640x640 1 Wildfire, 110.3ms\n",
      "image 6/620 /Users/sreenadh/yolov8_env/satellite_dataset_1/test/images/103.jpg: 640x640 2 Wildfires, 116.5ms\n",
      "image 7/620 /Users/sreenadh/yolov8_env/satellite_dataset_1/test/images/104.jpg: 640x640 3 Wildfires, 109.8ms\n",
      "image 8/620 /Users/sreenadh/yolov8_env/satellite_dataset_1/test/images/105.jpg: 640x640 (no detections), 110.5ms\n",
      "image 9/620 /Users/sreenadh/yolov8_env/satellite_dataset_1/test/images/106.jpg: 640x640 2 Wildfires, 129.5ms\n",
      "image 10/620 /Users/sreenadh/yolov8_env/satellite_dataset_1/test/images/107.jpg: 640x640 1 Wildfire, 127.5ms\n",
      "image 11/620 /Users/sreenadh/yolov8_env/satellite_dataset_1/test/images/108.jpg: 640x640 (no detections), 127.4ms\n",
      "image 12/620 /Users/sreenadh/yolov8_env/satellite_dataset_1/test/images/109.jpg: 640x640 1 Wildfire, 132.9ms\n",
      "image 13/620 /Users/sreenadh/yolov8_env/satellite_dataset_1/test/images/11.jpg: 640x640 4 Wildfires, 129.1ms\n",
      "image 14/620 /Users/sreenadh/yolov8_env/satellite_dataset_1/test/images/110.jpg: 640x640 (no detections), 120.0ms\n",
      "image 15/620 /Users/sreenadh/yolov8_env/satellite_dataset_1/test/images/111.jpg: 640x640 1 Wildfire, 114.4ms\n",
      "image 16/620 /Users/sreenadh/yolov8_env/satellite_dataset_1/test/images/112.jpg: 640x640 1 Wildfire, 110.0ms\n",
      "image 17/620 /Users/sreenadh/yolov8_env/satellite_dataset_1/test/images/113.jpg: 640x640 3 Wildfires, 110.5ms\n",
      "image 18/620 /Users/sreenadh/yolov8_env/satellite_dataset_1/test/images/114.jpg: 640x640 3 Wildfires, 107.7ms\n",
      "image 19/620 /Users/sreenadh/yolov8_env/satellite_dataset_1/test/images/115.jpg: 640x640 1 Wildfire, 109.4ms\n",
      "image 20/620 /Users/sreenadh/yolov8_env/satellite_dataset_1/test/images/116.jpg: 640x640 (no detections), 117.0ms\n",
      "image 21/620 /Users/sreenadh/yolov8_env/satellite_dataset_1/test/images/117.jpg: 640x640 2 Wildfires, 115.4ms\n",
      "image 22/620 /Users/sreenadh/yolov8_env/satellite_dataset_1/test/images/118.jpg: 640x640 3 Wildfires, 111.8ms\n",
      "image 23/620 /Users/sreenadh/yolov8_env/satellite_dataset_1/test/images/119.jpg: 640x640 2 Wildfires, 112.7ms\n",
      "image 24/620 /Users/sreenadh/yolov8_env/satellite_dataset_1/test/images/12.jpg: 640x640 2 Wildfires, 107.6ms\n",
      "image 25/620 /Users/sreenadh/yolov8_env/satellite_dataset_1/test/images/120.jpg: 640x640 2 Wildfires, 104.9ms\n",
      "image 26/620 /Users/sreenadh/yolov8_env/satellite_dataset_1/test/images/121.jpg: 640x640 1 Wildfire, 112.7ms\n",
      "image 27/620 /Users/sreenadh/yolov8_env/satellite_dataset_1/test/images/122.jpg: 640x640 (no detections), 107.2ms\n",
      "image 28/620 /Users/sreenadh/yolov8_env/satellite_dataset_1/test/images/123.jpg: 640x640 5 Wildfires, 115.2ms\n",
      "image 29/620 /Users/sreenadh/yolov8_env/satellite_dataset_1/test/images/124.jpg: 640x640 2 Wildfires, 144.7ms\n",
      "image 30/620 /Users/sreenadh/yolov8_env/satellite_dataset_1/test/images/125.jpg: 640x640 1 Wildfire, 123.6ms\n",
      "image 31/620 /Users/sreenadh/yolov8_env/satellite_dataset_1/test/images/126.jpg: 640x640 1 Wildfire, 123.4ms\n",
      "image 32/620 /Users/sreenadh/yolov8_env/satellite_dataset_1/test/images/127.jpg: 640x640 1 Wildfire, 126.8ms\n",
      "image 33/620 /Users/sreenadh/yolov8_env/satellite_dataset_1/test/images/128.jpg: 640x640 1 Wildfire, 117.5ms\n",
      "image 34/620 /Users/sreenadh/yolov8_env/satellite_dataset_1/test/images/129.jpg: 640x640 1 Wildfire, 112.6ms\n",
      "image 35/620 /Users/sreenadh/yolov8_env/satellite_dataset_1/test/images/13.jpg: 640x640 1 Wildfire, 113.8ms\n",
      "image 36/620 /Users/sreenadh/yolov8_env/satellite_dataset_1/test/images/130.jpg: 640x640 1 Wildfire, 114.8ms\n",
      "image 37/620 /Users/sreenadh/yolov8_env/satellite_dataset_1/test/images/131.jpg: 640x640 1 Wildfire, 114.8ms\n",
      "image 38/620 /Users/sreenadh/yolov8_env/satellite_dataset_1/test/images/132.jpg: 640x640 2 Wildfires, 109.2ms\n",
      "image 39/620 /Users/sreenadh/yolov8_env/satellite_dataset_1/test/images/133.jpg: 640x640 1 Wildfire, 114.4ms\n",
      "image 40/620 /Users/sreenadh/yolov8_env/satellite_dataset_1/test/images/134.jpg: 640x640 (no detections), 109.5ms\n",
      "image 41/620 /Users/sreenadh/yolov8_env/satellite_dataset_1/test/images/135.jpg: 640x640 (no detections), 114.9ms\n",
      "image 42/620 /Users/sreenadh/yolov8_env/satellite_dataset_1/test/images/136.jpg: 640x640 3 Wildfires, 112.9ms\n",
      "image 43/620 /Users/sreenadh/yolov8_env/satellite_dataset_1/test/images/137.jpg: 640x640 (no detections), 116.0ms\n",
      "image 44/620 /Users/sreenadh/yolov8_env/satellite_dataset_1/test/images/138.jpg: 640x640 (no detections), 113.9ms\n",
      "image 45/620 /Users/sreenadh/yolov8_env/satellite_dataset_1/test/images/139.jpg: 640x640 1 Wildfire, 111.1ms\n",
      "image 46/620 /Users/sreenadh/yolov8_env/satellite_dataset_1/test/images/14.jpg: 640x640 1 Wildfire, 110.7ms\n",
      "image 47/620 /Users/sreenadh/yolov8_env/satellite_dataset_1/test/images/140.jpg: 640x640 2 Wildfires, 117.8ms\n",
      "image 48/620 /Users/sreenadh/yolov8_env/satellite_dataset_1/test/images/141.jpg: 640x640 1 Wildfire, 119.0ms\n",
      "image 49/620 /Users/sreenadh/yolov8_env/satellite_dataset_1/test/images/142.jpg: 640x640 (no detections), 118.2ms\n",
      "image 50/620 /Users/sreenadh/yolov8_env/satellite_dataset_1/test/images/143.jpg: 640x640 3 Wildfires, 116.9ms\n",
      "image 51/620 /Users/sreenadh/yolov8_env/satellite_dataset_1/test/images/144.jpg: 640x640 2 Wildfires, 107.6ms\n",
      "image 52/620 /Users/sreenadh/yolov8_env/satellite_dataset_1/test/images/145.jpg: 640x640 (no detections), 135.2ms\n",
      "image 53/620 /Users/sreenadh/yolov8_env/satellite_dataset_1/test/images/146.jpg: 640x640 (no detections), 121.1ms\n",
      "image 54/620 /Users/sreenadh/yolov8_env/satellite_dataset_1/test/images/147.jpg: 640x640 1 Wildfire, 116.4ms\n",
      "image 55/620 /Users/sreenadh/yolov8_env/satellite_dataset_1/test/images/148.jpg: 640x640 1 Wildfire, 121.4ms\n",
      "image 56/620 /Users/sreenadh/yolov8_env/satellite_dataset_1/test/images/149.jpg: 640x640 1 Wildfire, 126.9ms\n",
      "image 57/620 /Users/sreenadh/yolov8_env/satellite_dataset_1/test/images/15.jpg: 640x640 (no detections), 123.4ms\n",
      "image 58/620 /Users/sreenadh/yolov8_env/satellite_dataset_1/test/images/150.jpg: 640x640 1 Wildfire, 123.5ms\n",
      "image 59/620 /Users/sreenadh/yolov8_env/satellite_dataset_1/test/images/151.jpg: 640x640 (no detections), 116.6ms\n",
      "image 60/620 /Users/sreenadh/yolov8_env/satellite_dataset_1/test/images/152.jpg: 640x640 1 Wildfire, 117.4ms\n",
      "image 61/620 /Users/sreenadh/yolov8_env/satellite_dataset_1/test/images/153.jpg: 640x640 1 Wildfire, 115.7ms\n",
      "image 62/620 /Users/sreenadh/yolov8_env/satellite_dataset_1/test/images/154.jpg: 640x640 (no detections), 113.1ms\n",
      "image 63/620 /Users/sreenadh/yolov8_env/satellite_dataset_1/test/images/155.jpg: 640x640 1 Wildfire, 113.7ms\n",
      "image 64/620 /Users/sreenadh/yolov8_env/satellite_dataset_1/test/images/156.jpg: 640x640 1 Wildfire, 114.2ms\n",
      "image 65/620 /Users/sreenadh/yolov8_env/satellite_dataset_1/test/images/157.jpg: 640x640 4 Wildfires, 115.7ms\n",
      "image 66/620 /Users/sreenadh/yolov8_env/satellite_dataset_1/test/images/158.jpg: 640x640 1 Wildfire, 115.6ms\n",
      "image 67/620 /Users/sreenadh/yolov8_env/satellite_dataset_1/test/images/159.jpg: 640x640 5 Wildfires, 113.1ms\n",
      "image 68/620 /Users/sreenadh/yolov8_env/satellite_dataset_1/test/images/16.jpg: 640x640 (no detections), 114.2ms\n",
      "image 69/620 /Users/sreenadh/yolov8_env/satellite_dataset_1/test/images/160.jpg: 640x640 2 Wildfires, 114.4ms\n",
      "image 70/620 /Users/sreenadh/yolov8_env/satellite_dataset_1/test/images/161.jpg: 640x640 1 Wildfire, 114.4ms\n",
      "image 71/620 /Users/sreenadh/yolov8_env/satellite_dataset_1/test/images/162.jpg: 640x640 4 Wildfires, 116.3ms\n",
      "image 72/620 /Users/sreenadh/yolov8_env/satellite_dataset_1/test/images/163.jpg: 640x640 4 Wildfires, 121.4ms\n",
      "image 73/620 /Users/sreenadh/yolov8_env/satellite_dataset_1/test/images/164.jpg: 640x640 1 Wildfire, 125.6ms\n"
     ]
    },
    {
     "name": "stdout",
     "output_type": "stream",
     "text": [
      "image 74/620 /Users/sreenadh/yolov8_env/satellite_dataset_1/test/images/165.jpg: 640x640 2 Wildfires, 145.9ms\n",
      "image 75/620 /Users/sreenadh/yolov8_env/satellite_dataset_1/test/images/166.jpg: 640x640 (no detections), 127.1ms\n",
      "image 76/620 /Users/sreenadh/yolov8_env/satellite_dataset_1/test/images/167.jpg: 640x640 2 Wildfires, 122.1ms\n",
      "image 77/620 /Users/sreenadh/yolov8_env/satellite_dataset_1/test/images/168.jpg: 640x640 1 Wildfire, 109.6ms\n",
      "image 78/620 /Users/sreenadh/yolov8_env/satellite_dataset_1/test/images/169.jpg: 640x640 3 Wildfires, 107.4ms\n",
      "image 79/620 /Users/sreenadh/yolov8_env/satellite_dataset_1/test/images/17.jpg: 640x640 1 Wildfire, 111.5ms\n",
      "image 80/620 /Users/sreenadh/yolov8_env/satellite_dataset_1/test/images/170.jpg: 640x640 (no detections), 109.0ms\n",
      "image 81/620 /Users/sreenadh/yolov8_env/satellite_dataset_1/test/images/171.jpg: 640x640 1 Wildfire, 111.0ms\n",
      "image 82/620 /Users/sreenadh/yolov8_env/satellite_dataset_1/test/images/172.jpg: 640x640 (no detections), 105.2ms\n",
      "image 83/620 /Users/sreenadh/yolov8_env/satellite_dataset_1/test/images/173.jpg: 640x640 4 Wildfires, 117.1ms\n",
      "image 84/620 /Users/sreenadh/yolov8_env/satellite_dataset_1/test/images/174.jpg: 640x640 1 Wildfire, 109.9ms\n",
      "image 85/620 /Users/sreenadh/yolov8_env/satellite_dataset_1/test/images/175.jpg: 640x640 (no detections), 111.7ms\n",
      "image 86/620 /Users/sreenadh/yolov8_env/satellite_dataset_1/test/images/176.jpg: 640x640 4 Wildfires, 114.7ms\n",
      "image 87/620 /Users/sreenadh/yolov8_env/satellite_dataset_1/test/images/177.jpg: 640x640 2 Wildfires, 119.7ms\n",
      "image 88/620 /Users/sreenadh/yolov8_env/satellite_dataset_1/test/images/178.jpg: 640x640 (no detections), 118.3ms\n",
      "image 89/620 /Users/sreenadh/yolov8_env/satellite_dataset_1/test/images/179.jpg: 640x640 3 Wildfires, 122.0ms\n",
      "image 90/620 /Users/sreenadh/yolov8_env/satellite_dataset_1/test/images/18.jpg: 640x640 1 Wildfire, 121.1ms\n",
      "image 91/620 /Users/sreenadh/yolov8_env/satellite_dataset_1/test/images/180.jpg: 640x640 2 Wildfires, 119.5ms\n",
      "image 92/620 /Users/sreenadh/yolov8_env/satellite_dataset_1/test/images/181.jpg: 640x640 1 Wildfire, 116.2ms\n",
      "image 93/620 /Users/sreenadh/yolov8_env/satellite_dataset_1/test/images/182.jpg: 640x640 2 Wildfires, 116.9ms\n",
      "image 94/620 /Users/sreenadh/yolov8_env/satellite_dataset_1/test/images/183.jpg: 640x640 2 Wildfires, 112.6ms\n",
      "image 95/620 /Users/sreenadh/yolov8_env/satellite_dataset_1/test/images/184.jpg: 640x640 1 Wildfire, 119.5ms\n",
      "image 96/620 /Users/sreenadh/yolov8_env/satellite_dataset_1/test/images/185.jpg: 640x640 1 Wildfire, 104.6ms\n",
      "image 97/620 /Users/sreenadh/yolov8_env/satellite_dataset_1/test/images/186.jpg: 640x640 5 Wildfires, 112.5ms\n",
      "image 98/620 /Users/sreenadh/yolov8_env/satellite_dataset_1/test/images/187.jpg: 640x640 (no detections), 118.3ms\n",
      "image 99/620 /Users/sreenadh/yolov8_env/satellite_dataset_1/test/images/188.jpg: 640x640 2 Wildfires, 118.2ms\n",
      "image 100/620 /Users/sreenadh/yolov8_env/satellite_dataset_1/test/images/189.jpg: 640x640 1 Wildfire, 119.4ms\n",
      "image 101/620 /Users/sreenadh/yolov8_env/satellite_dataset_1/test/images/19.jpg: 640x640 2 Wildfires, 120.2ms\n",
      "image 102/620 /Users/sreenadh/yolov8_env/satellite_dataset_1/test/images/190.jpg: 640x640 (no detections), 116.7ms\n",
      "image 103/620 /Users/sreenadh/yolov8_env/satellite_dataset_1/test/images/191.jpg: 640x640 1 Wildfire, 119.1ms\n",
      "image 104/620 /Users/sreenadh/yolov8_env/satellite_dataset_1/test/images/192.jpg: 640x640 4 Wildfires, 115.5ms\n",
      "image 105/620 /Users/sreenadh/yolov8_env/satellite_dataset_1/test/images/193.jpg: 640x640 1 Wildfire, 118.0ms\n",
      "image 106/620 /Users/sreenadh/yolov8_env/satellite_dataset_1/test/images/194.jpg: 640x640 (no detections), 118.8ms\n",
      "image 107/620 /Users/sreenadh/yolov8_env/satellite_dataset_1/test/images/195.jpg: 640x640 (no detections), 117.7ms\n",
      "image 108/620 /Users/sreenadh/yolov8_env/satellite_dataset_1/test/images/196.jpg: 640x640 3 Wildfires, 116.8ms\n",
      "image 109/620 /Users/sreenadh/yolov8_env/satellite_dataset_1/test/images/197.jpg: 640x640 3 Wildfires, 114.4ms\n",
      "image 110/620 /Users/sreenadh/yolov8_env/satellite_dataset_1/test/images/198.jpg: 640x640 2 Wildfires, 112.4ms\n",
      "image 111/620 /Users/sreenadh/yolov8_env/satellite_dataset_1/test/images/199.jpg: 640x640 2 Wildfires, 112.9ms\n",
      "image 112/620 /Users/sreenadh/yolov8_env/satellite_dataset_1/test/images/2.jpg: 640x640 1 Wildfire, 112.0ms\n",
      "image 113/620 /Users/sreenadh/yolov8_env/satellite_dataset_1/test/images/20.jpg: 640x640 (no detections), 115.8ms\n",
      "image 114/620 /Users/sreenadh/yolov8_env/satellite_dataset_1/test/images/200.jpg: 640x640 1 Wildfire, 120.4ms\n",
      "image 115/620 /Users/sreenadh/yolov8_env/satellite_dataset_1/test/images/201.jpg: 640x640 1 Wildfire, 116.7ms\n",
      "image 116/620 /Users/sreenadh/yolov8_env/satellite_dataset_1/test/images/202.jpg: 640x640 2 Wildfires, 120.2ms\n",
      "image 117/620 /Users/sreenadh/yolov8_env/satellite_dataset_1/test/images/203.jpg: 640x640 1 Wildfire, 117.3ms\n",
      "image 118/620 /Users/sreenadh/yolov8_env/satellite_dataset_1/test/images/204.jpg: 640x640 2 Wildfires, 119.7ms\n",
      "image 119/620 /Users/sreenadh/yolov8_env/satellite_dataset_1/test/images/205.jpg: 640x640 (no detections), 113.3ms\n",
      "image 120/620 /Users/sreenadh/yolov8_env/satellite_dataset_1/test/images/206.jpg: 640x640 1 Wildfire, 113.6ms\n",
      "image 121/620 /Users/sreenadh/yolov8_env/satellite_dataset_1/test/images/207.jpg: 640x640 1 Wildfire, 113.8ms\n",
      "image 122/620 /Users/sreenadh/yolov8_env/satellite_dataset_1/test/images/208.jpg: 640x640 1 Wildfire, 114.4ms\n",
      "image 123/620 /Users/sreenadh/yolov8_env/satellite_dataset_1/test/images/209.jpg: 640x640 1 Wildfire, 106.8ms\n",
      "image 124/620 /Users/sreenadh/yolov8_env/satellite_dataset_1/test/images/21.jpg: 640x640 (no detections), 113.9ms\n",
      "image 125/620 /Users/sreenadh/yolov8_env/satellite_dataset_1/test/images/210.jpg: 640x640 1 Wildfire, 110.4ms\n",
      "image 126/620 /Users/sreenadh/yolov8_env/satellite_dataset_1/test/images/211.jpg: 640x640 2 Wildfires, 113.9ms\n",
      "image 127/620 /Users/sreenadh/yolov8_env/satellite_dataset_1/test/images/212.jpg: 640x640 3 Wildfires, 117.4ms\n",
      "image 128/620 /Users/sreenadh/yolov8_env/satellite_dataset_1/test/images/213.jpg: 640x640 2 Wildfires, 111.0ms\n",
      "image 129/620 /Users/sreenadh/yolov8_env/satellite_dataset_1/test/images/214.jpg: 640x640 2 Wildfires, 110.9ms\n",
      "image 130/620 /Users/sreenadh/yolov8_env/satellite_dataset_1/test/images/215.jpg: 640x640 2 Wildfires, 108.9ms\n",
      "image 131/620 /Users/sreenadh/yolov8_env/satellite_dataset_1/test/images/216.jpg: 640x640 1 Wildfire, 107.8ms\n",
      "image 132/620 /Users/sreenadh/yolov8_env/satellite_dataset_1/test/images/217.jpg: 640x640 1 Wildfire, 109.0ms\n",
      "image 133/620 /Users/sreenadh/yolov8_env/satellite_dataset_1/test/images/218.jpg: 640x640 (no detections), 111.1ms\n",
      "image 134/620 /Users/sreenadh/yolov8_env/satellite_dataset_1/test/images/219.jpg: 640x640 (no detections), 112.7ms\n",
      "image 135/620 /Users/sreenadh/yolov8_env/satellite_dataset_1/test/images/22.jpg: 640x640 3 Wildfires, 109.6ms\n",
      "image 136/620 /Users/sreenadh/yolov8_env/satellite_dataset_1/test/images/220.jpg: 640x640 (no detections), 107.3ms\n",
      "image 137/620 /Users/sreenadh/yolov8_env/satellite_dataset_1/test/images/221.jpg: 640x640 (no detections), 114.2ms\n",
      "image 138/620 /Users/sreenadh/yolov8_env/satellite_dataset_1/test/images/222.jpg: 640x640 1 Wildfire, 112.5ms\n",
      "image 139/620 /Users/sreenadh/yolov8_env/satellite_dataset_1/test/images/223.jpg: 640x640 (no detections), 112.7ms\n",
      "image 140/620 /Users/sreenadh/yolov8_env/satellite_dataset_1/test/images/224.jpg: 640x640 3 Wildfires, 112.2ms\n",
      "image 141/620 /Users/sreenadh/yolov8_env/satellite_dataset_1/test/images/225.jpg: 640x640 (no detections), 115.2ms\n",
      "image 142/620 /Users/sreenadh/yolov8_env/satellite_dataset_1/test/images/226.jpg: 640x640 1 Wildfire, 112.4ms\n",
      "image 143/620 /Users/sreenadh/yolov8_env/satellite_dataset_1/test/images/227.jpg: 640x640 3 Wildfires, 115.1ms\n",
      "image 144/620 /Users/sreenadh/yolov8_env/satellite_dataset_1/test/images/228.jpg: 640x640 2 Wildfires, 110.3ms\n",
      "image 145/620 /Users/sreenadh/yolov8_env/satellite_dataset_1/test/images/229.jpg: 640x640 4 Wildfires, 109.9ms\n",
      "image 146/620 /Users/sreenadh/yolov8_env/satellite_dataset_1/test/images/23.jpg: 640x640 1 Wildfire, 111.0ms\n",
      "image 147/620 /Users/sreenadh/yolov8_env/satellite_dataset_1/test/images/230.jpg: 640x640 1 Wildfire, 108.5ms\n"
     ]
    },
    {
     "name": "stdout",
     "output_type": "stream",
     "text": [
      "image 148/620 /Users/sreenadh/yolov8_env/satellite_dataset_1/test/images/231.jpg: 640x640 5 Wildfires, 110.3ms\n",
      "image 149/620 /Users/sreenadh/yolov8_env/satellite_dataset_1/test/images/232.jpg: 640x640 1 Wildfire, 109.8ms\n",
      "image 150/620 /Users/sreenadh/yolov8_env/satellite_dataset_1/test/images/233.jpg: 640x640 (no detections), 107.9ms\n",
      "image 151/620 /Users/sreenadh/yolov8_env/satellite_dataset_1/test/images/234.jpg: 640x640 2 Wildfires, 109.8ms\n",
      "image 152/620 /Users/sreenadh/yolov8_env/satellite_dataset_1/test/images/235.jpg: 640x640 (no detections), 108.7ms\n",
      "image 153/620 /Users/sreenadh/yolov8_env/satellite_dataset_1/test/images/236.jpg: 640x640 5 Wildfires, 104.1ms\n",
      "image 154/620 /Users/sreenadh/yolov8_env/satellite_dataset_1/test/images/237.jpg: 640x640 3 Wildfires, 107.5ms\n",
      "image 155/620 /Users/sreenadh/yolov8_env/satellite_dataset_1/test/images/238.jpg: 640x640 (no detections), 101.3ms\n",
      "image 156/620 /Users/sreenadh/yolov8_env/satellite_dataset_1/test/images/239.jpg: 640x640 5 Wildfires, 110.1ms\n",
      "image 157/620 /Users/sreenadh/yolov8_env/satellite_dataset_1/test/images/24.jpg: 640x640 1 Wildfire, 119.6ms\n",
      "image 158/620 /Users/sreenadh/yolov8_env/satellite_dataset_1/test/images/240.jpg: 640x640 6 Wildfires, 112.5ms\n",
      "image 159/620 /Users/sreenadh/yolov8_env/satellite_dataset_1/test/images/241.jpg: 640x640 1 Wildfire, 110.5ms\n",
      "image 160/620 /Users/sreenadh/yolov8_env/satellite_dataset_1/test/images/242.jpg: 640x640 1 Wildfire, 108.3ms\n",
      "image 161/620 /Users/sreenadh/yolov8_env/satellite_dataset_1/test/images/243.jpg: 640x640 (no detections), 108.0ms\n",
      "image 162/620 /Users/sreenadh/yolov8_env/satellite_dataset_1/test/images/244.jpg: 640x640 1 Wildfire, 109.0ms\n",
      "image 163/620 /Users/sreenadh/yolov8_env/satellite_dataset_1/test/images/245.jpg: 640x640 (no detections), 106.5ms\n",
      "image 164/620 /Users/sreenadh/yolov8_env/satellite_dataset_1/test/images/246.jpg: 640x640 (no detections), 106.8ms\n",
      "image 165/620 /Users/sreenadh/yolov8_env/satellite_dataset_1/test/images/247.jpg: 640x640 1 Wildfire, 109.2ms\n",
      "image 166/620 /Users/sreenadh/yolov8_env/satellite_dataset_1/test/images/248.jpg: 640x640 2 Wildfires, 107.5ms\n",
      "image 167/620 /Users/sreenadh/yolov8_env/satellite_dataset_1/test/images/249.jpg: 640x640 1 Wildfire, 108.6ms\n",
      "image 168/620 /Users/sreenadh/yolov8_env/satellite_dataset_1/test/images/25.jpg: 640x640 1 Wildfire, 111.7ms\n",
      "image 169/620 /Users/sreenadh/yolov8_env/satellite_dataset_1/test/images/250.jpg: 640x640 (no detections), 105.1ms\n",
      "image 170/620 /Users/sreenadh/yolov8_env/satellite_dataset_1/test/images/251.jpg: 640x640 4 Wildfires, 107.1ms\n",
      "image 171/620 /Users/sreenadh/yolov8_env/satellite_dataset_1/test/images/252.jpg: 640x640 (no detections), 105.0ms\n",
      "image 172/620 /Users/sreenadh/yolov8_env/satellite_dataset_1/test/images/253.jpg: 640x640 1 Wildfire, 107.0ms\n",
      "image 173/620 /Users/sreenadh/yolov8_env/satellite_dataset_1/test/images/254.jpg: 640x640 1 Wildfire, 107.9ms\n",
      "image 174/620 /Users/sreenadh/yolov8_env/satellite_dataset_1/test/images/255.jpg: 640x640 2 Wildfires, 109.1ms\n",
      "image 175/620 /Users/sreenadh/yolov8_env/satellite_dataset_1/test/images/256.jpg: 640x640 2 Wildfires, 109.0ms\n",
      "image 176/620 /Users/sreenadh/yolov8_env/satellite_dataset_1/test/images/257.jpg: 640x640 1 Wildfire, 108.4ms\n",
      "image 177/620 /Users/sreenadh/yolov8_env/satellite_dataset_1/test/images/258.jpg: 640x640 3 Wildfires, 107.3ms\n",
      "image 178/620 /Users/sreenadh/yolov8_env/satellite_dataset_1/test/images/259.jpg: 640x640 3 Wildfires, 110.4ms\n",
      "image 179/620 /Users/sreenadh/yolov8_env/satellite_dataset_1/test/images/26.jpg: 640x640 (no detections), 108.1ms\n",
      "image 180/620 /Users/sreenadh/yolov8_env/satellite_dataset_1/test/images/260.jpg: 640x640 (no detections), 107.4ms\n",
      "image 181/620 /Users/sreenadh/yolov8_env/satellite_dataset_1/test/images/261.jpg: 640x640 2 Wildfires, 110.9ms\n",
      "image 182/620 /Users/sreenadh/yolov8_env/satellite_dataset_1/test/images/262.jpg: 640x640 1 Wildfire, 111.0ms\n",
      "image 183/620 /Users/sreenadh/yolov8_env/satellite_dataset_1/test/images/263.jpg: 640x640 (no detections), 110.2ms\n",
      "image 184/620 /Users/sreenadh/yolov8_env/satellite_dataset_1/test/images/264.jpg: 640x640 2 Wildfires, 104.9ms\n",
      "image 185/620 /Users/sreenadh/yolov8_env/satellite_dataset_1/test/images/265.jpg: 640x640 1 Wildfire, 110.5ms\n",
      "image 186/620 /Users/sreenadh/yolov8_env/satellite_dataset_1/test/images/266.jpg: 640x640 4 Wildfires, 111.3ms\n",
      "image 187/620 /Users/sreenadh/yolov8_env/satellite_dataset_1/test/images/267.jpg: 640x640 1 Wildfire, 113.4ms\n",
      "image 188/620 /Users/sreenadh/yolov8_env/satellite_dataset_1/test/images/268.jpg: 640x640 (no detections), 108.3ms\n",
      "image 189/620 /Users/sreenadh/yolov8_env/satellite_dataset_1/test/images/269.jpg: 640x640 1 Wildfire, 106.7ms\n",
      "image 190/620 /Users/sreenadh/yolov8_env/satellite_dataset_1/test/images/27.jpg: 640x640 1 Wildfire, 107.1ms\n",
      "image 191/620 /Users/sreenadh/yolov8_env/satellite_dataset_1/test/images/270.jpg: 640x640 2 Wildfires, 107.1ms\n",
      "image 192/620 /Users/sreenadh/yolov8_env/satellite_dataset_1/test/images/271.jpg: 640x640 (no detections), 109.3ms\n",
      "image 193/620 /Users/sreenadh/yolov8_env/satellite_dataset_1/test/images/272.jpg: 640x640 4 Wildfires, 114.5ms\n",
      "image 194/620 /Users/sreenadh/yolov8_env/satellite_dataset_1/test/images/273.jpg: 640x640 2 Wildfires, 108.7ms\n",
      "image 195/620 /Users/sreenadh/yolov8_env/satellite_dataset_1/test/images/274.jpg: 640x640 1 Wildfire, 110.8ms\n",
      "image 196/620 /Users/sreenadh/yolov8_env/satellite_dataset_1/test/images/275.jpg: 640x640 1 Wildfire, 107.5ms\n",
      "image 197/620 /Users/sreenadh/yolov8_env/satellite_dataset_1/test/images/276.jpg: 640x640 1 Wildfire, 109.6ms\n",
      "image 198/620 /Users/sreenadh/yolov8_env/satellite_dataset_1/test/images/277.jpg: 640x640 1 Wildfire, 114.6ms\n",
      "image 199/620 /Users/sreenadh/yolov8_env/satellite_dataset_1/test/images/278.jpg: 640x640 (no detections), 108.7ms\n",
      "image 200/620 /Users/sreenadh/yolov8_env/satellite_dataset_1/test/images/279.jpg: 640x640 1 Wildfire, 106.1ms\n",
      "image 201/620 /Users/sreenadh/yolov8_env/satellite_dataset_1/test/images/28.jpg: 640x640 2 Wildfires, 107.0ms\n",
      "image 202/620 /Users/sreenadh/yolov8_env/satellite_dataset_1/test/images/280.jpg: 640x640 4 Wildfires, 106.8ms\n",
      "image 203/620 /Users/sreenadh/yolov8_env/satellite_dataset_1/test/images/281.jpg: 640x640 (no detections), 108.4ms\n",
      "image 204/620 /Users/sreenadh/yolov8_env/satellite_dataset_1/test/images/282.jpg: 640x640 (no detections), 109.2ms\n",
      "image 205/620 /Users/sreenadh/yolov8_env/satellite_dataset_1/test/images/283.jpg: 640x640 (no detections), 113.6ms\n",
      "image 206/620 /Users/sreenadh/yolov8_env/satellite_dataset_1/test/images/284.jpg: 640x640 3 Wildfires, 106.7ms\n",
      "image 207/620 /Users/sreenadh/yolov8_env/satellite_dataset_1/test/images/285.jpg: 640x640 6 Wildfires, 108.3ms\n",
      "image 208/620 /Users/sreenadh/yolov8_env/satellite_dataset_1/test/images/286.jpg: 640x640 1 Wildfire, 104.5ms\n",
      "image 209/620 /Users/sreenadh/yolov8_env/satellite_dataset_1/test/images/287.jpg: 640x640 4 Wildfires, 104.0ms\n",
      "image 210/620 /Users/sreenadh/yolov8_env/satellite_dataset_1/test/images/288.jpg: 640x640 (no detections), 111.4ms\n",
      "image 211/620 /Users/sreenadh/yolov8_env/satellite_dataset_1/test/images/289.jpg: 640x640 3 Wildfires, 111.2ms\n",
      "image 212/620 /Users/sreenadh/yolov8_env/satellite_dataset_1/test/images/29.jpg: 640x640 (no detections), 114.3ms\n",
      "image 213/620 /Users/sreenadh/yolov8_env/satellite_dataset_1/test/images/290.jpg: 640x640 1 Wildfire, 112.6ms\n",
      "image 214/620 /Users/sreenadh/yolov8_env/satellite_dataset_1/test/images/291.jpg: 640x640 1 Wildfire, 109.9ms\n",
      "image 215/620 /Users/sreenadh/yolov8_env/satellite_dataset_1/test/images/292.jpg: 640x640 2 Wildfires, 111.9ms\n",
      "image 216/620 /Users/sreenadh/yolov8_env/satellite_dataset_1/test/images/293.jpg: 640x640 (no detections), 110.2ms\n",
      "image 217/620 /Users/sreenadh/yolov8_env/satellite_dataset_1/test/images/294.jpg: 640x640 4 Wildfires, 112.4ms\n",
      "image 218/620 /Users/sreenadh/yolov8_env/satellite_dataset_1/test/images/295.jpg: 640x640 (no detections), 106.9ms\n",
      "image 219/620 /Users/sreenadh/yolov8_env/satellite_dataset_1/test/images/296.jpg: 640x640 (no detections), 104.9ms\n",
      "image 220/620 /Users/sreenadh/yolov8_env/satellite_dataset_1/test/images/297.jpg: 640x640 (no detections), 108.5ms\n",
      "image 221/620 /Users/sreenadh/yolov8_env/satellite_dataset_1/test/images/298.jpg: 640x640 4 Wildfires, 110.8ms\n"
     ]
    },
    {
     "name": "stdout",
     "output_type": "stream",
     "text": [
      "image 222/620 /Users/sreenadh/yolov8_env/satellite_dataset_1/test/images/299.jpg: 640x640 1 Wildfire, 107.6ms\n",
      "image 223/620 /Users/sreenadh/yolov8_env/satellite_dataset_1/test/images/3.jpg: 640x640 2 Wildfires, 109.0ms\n",
      "image 224/620 /Users/sreenadh/yolov8_env/satellite_dataset_1/test/images/30.jpg: 640x640 4 Wildfires, 107.1ms\n",
      "image 225/620 /Users/sreenadh/yolov8_env/satellite_dataset_1/test/images/300.jpg: 640x640 1 Wildfire, 106.8ms\n",
      "image 226/620 /Users/sreenadh/yolov8_env/satellite_dataset_1/test/images/301.jpg: 640x640 2 Wildfires, 114.8ms\n",
      "image 227/620 /Users/sreenadh/yolov8_env/satellite_dataset_1/test/images/302.jpg: 640x640 1 Wildfire, 108.5ms\n",
      "image 228/620 /Users/sreenadh/yolov8_env/satellite_dataset_1/test/images/303.jpg: 640x640 1 Wildfire, 105.7ms\n",
      "image 229/620 /Users/sreenadh/yolov8_env/satellite_dataset_1/test/images/304.jpg: 640x640 3 Wildfires, 109.6ms\n",
      "image 230/620 /Users/sreenadh/yolov8_env/satellite_dataset_1/test/images/305.jpg: 640x640 (no detections), 108.0ms\n",
      "image 231/620 /Users/sreenadh/yolov8_env/satellite_dataset_1/test/images/306.jpg: 640x640 1 Wildfire, 107.2ms\n",
      "image 232/620 /Users/sreenadh/yolov8_env/satellite_dataset_1/test/images/307.jpg: 640x640 (no detections), 108.0ms\n",
      "image 233/620 /Users/sreenadh/yolov8_env/satellite_dataset_1/test/images/308.jpg: 640x640 1 Cyclone, 108.0ms\n",
      "image 234/620 /Users/sreenadh/yolov8_env/satellite_dataset_1/test/images/309.jpg: 640x640 1 Cyclone, 109.9ms\n",
      "image 235/620 /Users/sreenadh/yolov8_env/satellite_dataset_1/test/images/31.jpg: 640x640 5 Wildfires, 109.5ms\n",
      "image 236/620 /Users/sreenadh/yolov8_env/satellite_dataset_1/test/images/310.jpg: 640x640 1 Cyclone, 106.2ms\n",
      "image 237/620 /Users/sreenadh/yolov8_env/satellite_dataset_1/test/images/311.jpg: 640x640 1 Cyclone, 107.3ms\n",
      "image 238/620 /Users/sreenadh/yolov8_env/satellite_dataset_1/test/images/312.jpg: 640x640 (no detections), 106.7ms\n",
      "image 239/620 /Users/sreenadh/yolov8_env/satellite_dataset_1/test/images/313.jpg: 640x640 (no detections), 110.1ms\n",
      "image 240/620 /Users/sreenadh/yolov8_env/satellite_dataset_1/test/images/314.jpg: 640x640 1 Cyclone, 110.3ms\n",
      "image 241/620 /Users/sreenadh/yolov8_env/satellite_dataset_1/test/images/315.jpg: 640x640 1 Cyclone, 107.1ms\n",
      "image 242/620 /Users/sreenadh/yolov8_env/satellite_dataset_1/test/images/316.jpg: 640x640 3 Cyclones, 107.0ms\n",
      "image 243/620 /Users/sreenadh/yolov8_env/satellite_dataset_1/test/images/317.jpg: 640x640 2 Cyclones, 109.4ms\n",
      "image 244/620 /Users/sreenadh/yolov8_env/satellite_dataset_1/test/images/318.jpg: 640x640 1 Cyclone, 108.8ms\n",
      "image 245/620 /Users/sreenadh/yolov8_env/satellite_dataset_1/test/images/319.jpg: 640x640 2 Cyclones, 109.8ms\n",
      "image 246/620 /Users/sreenadh/yolov8_env/satellite_dataset_1/test/images/32.jpg: 640x640 3 Wildfires, 112.7ms\n",
      "image 247/620 /Users/sreenadh/yolov8_env/satellite_dataset_1/test/images/320.jpg: 640x640 2 Cyclones, 106.1ms\n",
      "image 248/620 /Users/sreenadh/yolov8_env/satellite_dataset_1/test/images/321.jpg: 640x640 1 Cyclone, 107.7ms\n",
      "image 249/620 /Users/sreenadh/yolov8_env/satellite_dataset_1/test/images/322.jpg: 640x640 (no detections), 107.2ms\n",
      "image 250/620 /Users/sreenadh/yolov8_env/satellite_dataset_1/test/images/323.jpg: 640x640 1 Cyclone, 106.1ms\n",
      "image 251/620 /Users/sreenadh/yolov8_env/satellite_dataset_1/test/images/324.jpg: 640x640 1 Cyclone, 108.7ms\n",
      "image 252/620 /Users/sreenadh/yolov8_env/satellite_dataset_1/test/images/325.jpg: 640x640 1 Cyclone, 109.5ms\n",
      "image 253/620 /Users/sreenadh/yolov8_env/satellite_dataset_1/test/images/326.jpg: 640x640 1 Cyclone, 106.3ms\n",
      "image 254/620 /Users/sreenadh/yolov8_env/satellite_dataset_1/test/images/327.jpg: 640x640 2 Cyclones, 107.6ms\n",
      "image 255/620 /Users/sreenadh/yolov8_env/satellite_dataset_1/test/images/328.jpg: 640x640 1 Cyclone, 106.2ms\n",
      "image 256/620 /Users/sreenadh/yolov8_env/satellite_dataset_1/test/images/329.jpg: 640x640 1 Cyclone, 107.0ms\n",
      "image 257/620 /Users/sreenadh/yolov8_env/satellite_dataset_1/test/images/33.jpg: 640x640 1 Wildfire, 113.7ms\n",
      "image 258/620 /Users/sreenadh/yolov8_env/satellite_dataset_1/test/images/330.jpg: 640x640 2 Cyclones, 107.2ms\n",
      "image 259/620 /Users/sreenadh/yolov8_env/satellite_dataset_1/test/images/331.jpg: 640x640 2 Cyclones, 106.5ms\n",
      "image 260/620 /Users/sreenadh/yolov8_env/satellite_dataset_1/test/images/332.jpg: 640x640 1 Cyclone, 107.0ms\n",
      "image 261/620 /Users/sreenadh/yolov8_env/satellite_dataset_1/test/images/333.jpg: 640x640 (no detections), 113.5ms\n",
      "image 262/620 /Users/sreenadh/yolov8_env/satellite_dataset_1/test/images/334.jpg: 640x640 3 Cyclones, 118.1ms\n",
      "image 263/620 /Users/sreenadh/yolov8_env/satellite_dataset_1/test/images/335.jpg: 640x640 2 Cyclones, 107.5ms\n",
      "image 264/620 /Users/sreenadh/yolov8_env/satellite_dataset_1/test/images/336.jpg: 640x640 2 Cyclones, 107.6ms\n",
      "image 265/620 /Users/sreenadh/yolov8_env/satellite_dataset_1/test/images/337.jpg: 640x640 1 Cyclone, 106.1ms\n",
      "image 266/620 /Users/sreenadh/yolov8_env/satellite_dataset_1/test/images/338.jpg: 640x640 1 Cyclone, 106.4ms\n",
      "image 267/620 /Users/sreenadh/yolov8_env/satellite_dataset_1/test/images/339.jpg: 640x640 2 Cyclones, 105.2ms\n",
      "image 268/620 /Users/sreenadh/yolov8_env/satellite_dataset_1/test/images/34.jpg: 640x640 (no detections), 110.6ms\n",
      "image 269/620 /Users/sreenadh/yolov8_env/satellite_dataset_1/test/images/340.jpg: 640x640 2 Cyclones, 111.2ms\n",
      "image 270/620 /Users/sreenadh/yolov8_env/satellite_dataset_1/test/images/341.jpg: 640x640 2 Cyclones, 106.5ms\n",
      "image 271/620 /Users/sreenadh/yolov8_env/satellite_dataset_1/test/images/342.jpg: 640x640 1 Cyclone, 109.9ms\n",
      "image 272/620 /Users/sreenadh/yolov8_env/satellite_dataset_1/test/images/343.jpg: 640x640 1 Cyclone, 112.6ms\n",
      "image 273/620 /Users/sreenadh/yolov8_env/satellite_dataset_1/test/images/344.jpg: 640x640 1 Cyclone, 107.9ms\n",
      "image 274/620 /Users/sreenadh/yolov8_env/satellite_dataset_1/test/images/345.jpg: 640x640 1 Cyclone, 113.5ms\n",
      "image 275/620 /Users/sreenadh/yolov8_env/satellite_dataset_1/test/images/346.jpg: 640x640 (no detections), 110.0ms\n",
      "image 276/620 /Users/sreenadh/yolov8_env/satellite_dataset_1/test/images/347.jpg: 640x640 1 Cyclone, 108.2ms\n",
      "image 277/620 /Users/sreenadh/yolov8_env/satellite_dataset_1/test/images/348.jpg: 640x640 1 Cyclone, 106.5ms\n",
      "image 278/620 /Users/sreenadh/yolov8_env/satellite_dataset_1/test/images/349.jpg: 640x640 1 Cyclone, 107.6ms\n",
      "image 279/620 /Users/sreenadh/yolov8_env/satellite_dataset_1/test/images/35.jpg: 640x640 4 Wildfires, 108.6ms\n",
      "image 280/620 /Users/sreenadh/yolov8_env/satellite_dataset_1/test/images/350.jpg: 640x640 1 Cyclone, 108.8ms\n",
      "image 281/620 /Users/sreenadh/yolov8_env/satellite_dataset_1/test/images/351.jpg: 640x640 1 Cyclone, 107.5ms\n",
      "image 282/620 /Users/sreenadh/yolov8_env/satellite_dataset_1/test/images/352.jpg: 640x640 1 Cyclone, 110.4ms\n",
      "image 283/620 /Users/sreenadh/yolov8_env/satellite_dataset_1/test/images/353.jpg: 640x640 1 Cyclone, 109.9ms\n",
      "image 284/620 /Users/sreenadh/yolov8_env/satellite_dataset_1/test/images/354.jpg: 640x640 1 Cyclone, 107.5ms\n",
      "image 285/620 /Users/sreenadh/yolov8_env/satellite_dataset_1/test/images/355.jpg: 640x640 1 Cyclone, 111.3ms\n",
      "image 286/620 /Users/sreenadh/yolov8_env/satellite_dataset_1/test/images/356.jpg: 640x640 1 Cyclone, 111.1ms\n",
      "image 287/620 /Users/sreenadh/yolov8_env/satellite_dataset_1/test/images/357.jpg: 640x640 1 Cyclone, 106.8ms\n",
      "image 288/620 /Users/sreenadh/yolov8_env/satellite_dataset_1/test/images/358.jpg: 640x640 1 Cyclone, 109.1ms\n",
      "image 289/620 /Users/sreenadh/yolov8_env/satellite_dataset_1/test/images/359.jpg: 640x640 1 Cyclone, 107.2ms\n",
      "image 290/620 /Users/sreenadh/yolov8_env/satellite_dataset_1/test/images/36.jpg: 640x640 4 Wildfires, 107.2ms\n",
      "image 291/620 /Users/sreenadh/yolov8_env/satellite_dataset_1/test/images/360.jpg: 640x640 1 Cyclone, 110.7ms\n",
      "image 292/620 /Users/sreenadh/yolov8_env/satellite_dataset_1/test/images/361.jpg: 640x640 1 Cyclone, 112.8ms\n",
      "image 293/620 /Users/sreenadh/yolov8_env/satellite_dataset_1/test/images/362.jpg: 640x640 1 Cyclone, 108.7ms\n",
      "image 294/620 /Users/sreenadh/yolov8_env/satellite_dataset_1/test/images/363.jpg: 640x640 1 Cyclone, 106.0ms\n",
      "image 295/620 /Users/sreenadh/yolov8_env/satellite_dataset_1/test/images/364.jpg: 640x640 1 Cyclone, 109.9ms\n",
      "image 296/620 /Users/sreenadh/yolov8_env/satellite_dataset_1/test/images/365.jpg: 640x640 1 Cyclone, 104.5ms\n"
     ]
    },
    {
     "name": "stdout",
     "output_type": "stream",
     "text": [
      "image 297/620 /Users/sreenadh/yolov8_env/satellite_dataset_1/test/images/366.jpg: 640x640 1 Cyclone, 108.1ms\n",
      "image 298/620 /Users/sreenadh/yolov8_env/satellite_dataset_1/test/images/367.jpg: 640x640 1 Cyclone, 109.7ms\n",
      "image 299/620 /Users/sreenadh/yolov8_env/satellite_dataset_1/test/images/368.jpg: 640x640 1 Cyclone, 112.6ms\n",
      "image 300/620 /Users/sreenadh/yolov8_env/satellite_dataset_1/test/images/369.jpg: 640x640 1 Cyclone, 110.0ms\n",
      "image 301/620 /Users/sreenadh/yolov8_env/satellite_dataset_1/test/images/37.jpg: 640x640 (no detections), 105.3ms\n",
      "image 302/620 /Users/sreenadh/yolov8_env/satellite_dataset_1/test/images/370.jpg: 640x640 1 Cyclone, 108.3ms\n",
      "image 303/620 /Users/sreenadh/yolov8_env/satellite_dataset_1/test/images/371.jpg: 640x640 1 Cyclone, 108.7ms\n",
      "image 304/620 /Users/sreenadh/yolov8_env/satellite_dataset_1/test/images/372.jpg: 640x640 2 Cyclones, 109.2ms\n",
      "image 305/620 /Users/sreenadh/yolov8_env/satellite_dataset_1/test/images/373.jpg: 640x640 1 Cyclone, 108.8ms\n",
      "image 306/620 /Users/sreenadh/yolov8_env/satellite_dataset_1/test/images/374.jpg: 640x640 (no detections), 109.7ms\n",
      "image 307/620 /Users/sreenadh/yolov8_env/satellite_dataset_1/test/images/375.jpg: 640x640 (no detections), 107.4ms\n",
      "image 308/620 /Users/sreenadh/yolov8_env/satellite_dataset_1/test/images/376.jpg: 640x640 1 Cyclone, 106.9ms\n",
      "image 309/620 /Users/sreenadh/yolov8_env/satellite_dataset_1/test/images/377.jpg: 640x640 1 Cyclone, 108.4ms\n",
      "image 310/620 /Users/sreenadh/yolov8_env/satellite_dataset_1/test/images/378.jpg: 640x640 2 Cyclones, 110.8ms\n",
      "image 311/620 /Users/sreenadh/yolov8_env/satellite_dataset_1/test/images/379.jpg: 640x640 4 Cyclones, 108.2ms\n",
      "image 312/620 /Users/sreenadh/yolov8_env/satellite_dataset_1/test/images/38.jpg: 640x640 1 Wildfire, 110.7ms\n",
      "image 313/620 /Users/sreenadh/yolov8_env/satellite_dataset_1/test/images/380.jpg: 640x640 4 Cyclones, 108.4ms\n",
      "image 314/620 /Users/sreenadh/yolov8_env/satellite_dataset_1/test/images/381.jpg: 640x640 4 Cyclones, 107.0ms\n",
      "image 315/620 /Users/sreenadh/yolov8_env/satellite_dataset_1/test/images/382.jpg: 640x640 4 Cyclones, 112.5ms\n",
      "image 316/620 /Users/sreenadh/yolov8_env/satellite_dataset_1/test/images/383.jpg: 640x640 3 Cyclones, 106.7ms\n",
      "image 317/620 /Users/sreenadh/yolov8_env/satellite_dataset_1/test/images/384.jpg: 640x640 2 Cyclones, 108.3ms\n",
      "image 318/620 /Users/sreenadh/yolov8_env/satellite_dataset_1/test/images/385.jpg: 640x640 2 Cyclones, 106.0ms\n",
      "image 319/620 /Users/sreenadh/yolov8_env/satellite_dataset_1/test/images/386.jpg: 640x640 2 Cyclones, 108.3ms\n",
      "image 320/620 /Users/sreenadh/yolov8_env/satellite_dataset_1/test/images/387.jpg: 640x640 3 Cyclones, 134.2ms\n",
      "image 321/620 /Users/sreenadh/yolov8_env/satellite_dataset_1/test/images/388.jpg: 640x640 3 Cyclones, 107.2ms\n",
      "image 322/620 /Users/sreenadh/yolov8_env/satellite_dataset_1/test/images/389.jpg: 640x640 3 Cyclones, 111.2ms\n",
      "image 323/620 /Users/sreenadh/yolov8_env/satellite_dataset_1/test/images/39.jpg: 640x640 2 Wildfires, 111.6ms\n",
      "image 324/620 /Users/sreenadh/yolov8_env/satellite_dataset_1/test/images/390.jpg: 640x640 2 Cyclones, 112.0ms\n",
      "image 325/620 /Users/sreenadh/yolov8_env/satellite_dataset_1/test/images/391.jpg: 640x640 2 Cyclones, 108.4ms\n",
      "image 326/620 /Users/sreenadh/yolov8_env/satellite_dataset_1/test/images/392.jpg: 640x640 4 Cyclones, 109.7ms\n",
      "image 327/620 /Users/sreenadh/yolov8_env/satellite_dataset_1/test/images/393.jpg: 640x640 3 Cyclones, 107.1ms\n",
      "image 328/620 /Users/sreenadh/yolov8_env/satellite_dataset_1/test/images/394.jpg: 640x640 3 Cyclones, 112.3ms\n",
      "image 329/620 /Users/sreenadh/yolov8_env/satellite_dataset_1/test/images/395.jpg: 640x640 3 Cyclones, 109.6ms\n",
      "image 330/620 /Users/sreenadh/yolov8_env/satellite_dataset_1/test/images/396.jpg: 640x640 3 Cyclones, 110.0ms\n",
      "image 331/620 /Users/sreenadh/yolov8_env/satellite_dataset_1/test/images/397.jpg: 640x640 2 Cyclones, 105.3ms\n",
      "image 332/620 /Users/sreenadh/yolov8_env/satellite_dataset_1/test/images/398.jpg: 640x640 2 Cyclones, 105.9ms\n",
      "image 333/620 /Users/sreenadh/yolov8_env/satellite_dataset_1/test/images/399.jpg: 640x640 2 Cyclones, 110.4ms\n",
      "image 334/620 /Users/sreenadh/yolov8_env/satellite_dataset_1/test/images/4.jpg: 640x640 (no detections), 109.3ms\n",
      "image 335/620 /Users/sreenadh/yolov8_env/satellite_dataset_1/test/images/40.jpg: 640x640 1 Wildfire, 104.6ms\n",
      "image 336/620 /Users/sreenadh/yolov8_env/satellite_dataset_1/test/images/400.jpg: 640x640 3 Cyclones, 107.1ms\n",
      "image 337/620 /Users/sreenadh/yolov8_env/satellite_dataset_1/test/images/401.jpg: 640x640 3 Cyclones, 106.1ms\n",
      "image 338/620 /Users/sreenadh/yolov8_env/satellite_dataset_1/test/images/402.jpg: 640x640 2 Cyclones, 106.8ms\n",
      "image 339/620 /Users/sreenadh/yolov8_env/satellite_dataset_1/test/images/403.jpg: 640x640 2 Cyclones, 108.1ms\n",
      "image 340/620 /Users/sreenadh/yolov8_env/satellite_dataset_1/test/images/404.jpg: 640x640 2 Cyclones, 111.9ms\n",
      "image 341/620 /Users/sreenadh/yolov8_env/satellite_dataset_1/test/images/405.jpg: 640x640 3 Cyclones, 110.4ms\n",
      "image 342/620 /Users/sreenadh/yolov8_env/satellite_dataset_1/test/images/406.jpg: 640x640 2 Cyclones, 112.9ms\n",
      "image 343/620 /Users/sreenadh/yolov8_env/satellite_dataset_1/test/images/407.jpg: 640x640 2 Cyclones, 103.6ms\n",
      "image 344/620 /Users/sreenadh/yolov8_env/satellite_dataset_1/test/images/408.jpg: 640x640 1 Cyclone, 106.7ms\n",
      "image 345/620 /Users/sreenadh/yolov8_env/satellite_dataset_1/test/images/409.jpg: 640x640 1 Cyclone, 107.1ms\n",
      "image 346/620 /Users/sreenadh/yolov8_env/satellite_dataset_1/test/images/41.jpg: 640x640 2 Wildfires, 109.6ms\n",
      "image 347/620 /Users/sreenadh/yolov8_env/satellite_dataset_1/test/images/410.jpg: 640x640 2 Cyclones, 112.2ms\n",
      "image 348/620 /Users/sreenadh/yolov8_env/satellite_dataset_1/test/images/411.jpg: 640x640 2 Cyclones, 111.3ms\n",
      "image 349/620 /Users/sreenadh/yolov8_env/satellite_dataset_1/test/images/412.jpg: 640x640 2 Cyclones, 107.5ms\n",
      "image 350/620 /Users/sreenadh/yolov8_env/satellite_dataset_1/test/images/413.jpg: 640x640 2 Cyclones, 108.5ms\n",
      "image 351/620 /Users/sreenadh/yolov8_env/satellite_dataset_1/test/images/414.jpg: 640x640 2 Cyclones, 111.9ms\n",
      "image 352/620 /Users/sreenadh/yolov8_env/satellite_dataset_1/test/images/415.jpg: 640x640 2 Cyclones, 110.1ms\n",
      "image 353/620 /Users/sreenadh/yolov8_env/satellite_dataset_1/test/images/416.jpg: 640x640 2 Cyclones, 108.2ms\n",
      "image 354/620 /Users/sreenadh/yolov8_env/satellite_dataset_1/test/images/417.jpg: 640x640 1 Cyclone, 107.4ms\n",
      "image 355/620 /Users/sreenadh/yolov8_env/satellite_dataset_1/test/images/418.jpg: 640x640 1 Cyclone, 105.4ms\n",
      "image 356/620 /Users/sreenadh/yolov8_env/satellite_dataset_1/test/images/419.jpg: 640x640 1 Cyclone, 109.2ms\n",
      "image 357/620 /Users/sreenadh/yolov8_env/satellite_dataset_1/test/images/42.jpg: 640x640 2 Wildfires, 112.3ms\n",
      "image 358/620 /Users/sreenadh/yolov8_env/satellite_dataset_1/test/images/420.jpg: 640x640 1 Cyclone, 106.5ms\n",
      "image 359/620 /Users/sreenadh/yolov8_env/satellite_dataset_1/test/images/421.jpg: 640x640 1 Cyclone, 107.4ms\n",
      "image 360/620 /Users/sreenadh/yolov8_env/satellite_dataset_1/test/images/422.jpg: 640x640 1 Cyclone, 105.4ms\n",
      "image 361/620 /Users/sreenadh/yolov8_env/satellite_dataset_1/test/images/423.jpg: 640x640 1 Cyclone, 111.3ms\n",
      "image 362/620 /Users/sreenadh/yolov8_env/satellite_dataset_1/test/images/424.jpg: 640x640 (no detections), 108.2ms\n",
      "image 363/620 /Users/sreenadh/yolov8_env/satellite_dataset_1/test/images/425.jpg: 640x640 (no detections), 109.2ms\n",
      "image 364/620 /Users/sreenadh/yolov8_env/satellite_dataset_1/test/images/426.jpg: 640x640 1 Cyclone, 107.7ms\n",
      "image 365/620 /Users/sreenadh/yolov8_env/satellite_dataset_1/test/images/427.jpg: 640x640 1 Cyclone, 111.6ms\n",
      "image 366/620 /Users/sreenadh/yolov8_env/satellite_dataset_1/test/images/428.jpg: 640x640 1 Cyclone, 106.6ms\n",
      "image 367/620 /Users/sreenadh/yolov8_env/satellite_dataset_1/test/images/429.jpg: 640x640 3 Cyclones, 106.7ms\n",
      "image 368/620 /Users/sreenadh/yolov8_env/satellite_dataset_1/test/images/43.jpg: 640x640 1 Wildfire, 108.9ms\n",
      "image 369/620 /Users/sreenadh/yolov8_env/satellite_dataset_1/test/images/430.jpg: 640x640 1 Cyclone, 113.1ms\n",
      "image 370/620 /Users/sreenadh/yolov8_env/satellite_dataset_1/test/images/431.jpg: 640x640 1 Cyclone, 109.5ms\n",
      "image 371/620 /Users/sreenadh/yolov8_env/satellite_dataset_1/test/images/432.jpg: 640x640 2 Cyclones, 112.2ms\n"
     ]
    },
    {
     "name": "stdout",
     "output_type": "stream",
     "text": [
      "image 372/620 /Users/sreenadh/yolov8_env/satellite_dataset_1/test/images/433.jpg: 640x640 1 Cyclone, 108.0ms\n",
      "image 373/620 /Users/sreenadh/yolov8_env/satellite_dataset_1/test/images/434.jpg: 640x640 1 Cyclone, 110.0ms\n",
      "image 374/620 /Users/sreenadh/yolov8_env/satellite_dataset_1/test/images/435.jpg: 640x640 2 Cyclones, 108.0ms\n",
      "image 375/620 /Users/sreenadh/yolov8_env/satellite_dataset_1/test/images/436.jpg: 640x640 1 Cyclone, 107.6ms\n",
      "image 376/620 /Users/sreenadh/yolov8_env/satellite_dataset_1/test/images/437.jpg: 640x640 2 Cyclones, 109.7ms\n",
      "image 377/620 /Users/sreenadh/yolov8_env/satellite_dataset_1/test/images/438.jpg: 640x640 2 Cyclones, 104.6ms\n",
      "image 378/620 /Users/sreenadh/yolov8_env/satellite_dataset_1/test/images/439.jpg: 640x640 2 Cyclones, 108.9ms\n",
      "image 379/620 /Users/sreenadh/yolov8_env/satellite_dataset_1/test/images/44.jpg: 640x640 1 Wildfire, 109.0ms\n",
      "image 380/620 /Users/sreenadh/yolov8_env/satellite_dataset_1/test/images/440.jpg: 640x640 2 Cyclones, 107.6ms\n",
      "image 381/620 /Users/sreenadh/yolov8_env/satellite_dataset_1/test/images/441.jpg: 640x640 2 Cyclones, 110.3ms\n",
      "image 382/620 /Users/sreenadh/yolov8_env/satellite_dataset_1/test/images/442.jpg: 640x640 2 Cyclones, 110.0ms\n",
      "image 383/620 /Users/sreenadh/yolov8_env/satellite_dataset_1/test/images/443.jpg: 640x640 2 Cyclones, 106.4ms\n",
      "image 384/620 /Users/sreenadh/yolov8_env/satellite_dataset_1/test/images/444.jpg: 640x640 2 Cyclones, 106.7ms\n",
      "image 385/620 /Users/sreenadh/yolov8_env/satellite_dataset_1/test/images/445.jpg: 640x640 2 Cyclones, 106.9ms\n",
      "image 386/620 /Users/sreenadh/yolov8_env/satellite_dataset_1/test/images/446.jpg: 640x640 2 Cyclones, 107.7ms\n",
      "image 387/620 /Users/sreenadh/yolov8_env/satellite_dataset_1/test/images/447.jpg: 640x640 3 Cyclones, 107.9ms\n",
      "image 388/620 /Users/sreenadh/yolov8_env/satellite_dataset_1/test/images/448.jpg: 640x640 1 Cyclone, 106.2ms\n",
      "image 389/620 /Users/sreenadh/yolov8_env/satellite_dataset_1/test/images/449.jpg: 640x640 (no detections), 108.1ms\n",
      "image 390/620 /Users/sreenadh/yolov8_env/satellite_dataset_1/test/images/45.jpg: 640x640 1 Wildfire, 108.1ms\n",
      "image 391/620 /Users/sreenadh/yolov8_env/satellite_dataset_1/test/images/450.jpg: 640x640 1 Cyclone, 105.0ms\n",
      "image 392/620 /Users/sreenadh/yolov8_env/satellite_dataset_1/test/images/451.jpg: 640x640 1 Cyclone, 106.5ms\n",
      "image 393/620 /Users/sreenadh/yolov8_env/satellite_dataset_1/test/images/452.jpg: 640x640 2 Cyclones, 109.0ms\n",
      "image 394/620 /Users/sreenadh/yolov8_env/satellite_dataset_1/test/images/453.jpg: 640x640 2 Cyclones, 106.6ms\n",
      "image 395/620 /Users/sreenadh/yolov8_env/satellite_dataset_1/test/images/454.jpg: 640x640 2 Cyclones, 107.6ms\n",
      "image 396/620 /Users/sreenadh/yolov8_env/satellite_dataset_1/test/images/455.jpg: 640x640 2 Cyclones, 105.2ms\n",
      "image 397/620 /Users/sreenadh/yolov8_env/satellite_dataset_1/test/images/456.jpg: 640x640 2 Cyclones, 108.7ms\n",
      "image 398/620 /Users/sreenadh/yolov8_env/satellite_dataset_1/test/images/457.jpg: 640x640 2 Cyclones, 104.7ms\n",
      "image 399/620 /Users/sreenadh/yolov8_env/satellite_dataset_1/test/images/458.jpg: 640x640 1 Cyclone, 108.3ms\n",
      "image 400/620 /Users/sreenadh/yolov8_env/satellite_dataset_1/test/images/459.jpg: 640x640 2 Cyclones, 109.1ms\n",
      "image 401/620 /Users/sreenadh/yolov8_env/satellite_dataset_1/test/images/46.jpg: 640x640 (no detections), 107.3ms\n",
      "image 402/620 /Users/sreenadh/yolov8_env/satellite_dataset_1/test/images/460.jpg: 640x640 2 Cyclones, 106.5ms\n",
      "image 403/620 /Users/sreenadh/yolov8_env/satellite_dataset_1/test/images/461.jpg: 640x640 2 Cyclones, 107.6ms\n",
      "image 404/620 /Users/sreenadh/yolov8_env/satellite_dataset_1/test/images/462.jpg: 640x640 2 Cyclones, 108.8ms\n",
      "image 405/620 /Users/sreenadh/yolov8_env/satellite_dataset_1/test/images/463.jpg: 640x640 2 Cyclones, 107.7ms\n",
      "image 406/620 /Users/sreenadh/yolov8_env/satellite_dataset_1/test/images/464.jpg: 640x640 2 Cyclones, 108.0ms\n",
      "image 407/620 /Users/sreenadh/yolov8_env/satellite_dataset_1/test/images/465.jpg: 640x640 1 Cyclone, 113.4ms\n",
      "image 408/620 /Users/sreenadh/yolov8_env/satellite_dataset_1/test/images/466.jpg: 640x640 1 Cyclone, 107.6ms\n",
      "image 409/620 /Users/sreenadh/yolov8_env/satellite_dataset_1/test/images/467.jpg: 640x640 1 Cyclone, 106.1ms\n",
      "image 410/620 /Users/sreenadh/yolov8_env/satellite_dataset_1/test/images/468.jpg: 640x640 1 Cyclone, 108.4ms\n",
      "image 411/620 /Users/sreenadh/yolov8_env/satellite_dataset_1/test/images/469.jpg: 640x640 1 Cyclone, 108.9ms\n",
      "image 412/620 /Users/sreenadh/yolov8_env/satellite_dataset_1/test/images/47.jpg: 640x640 (no detections), 114.1ms\n",
      "image 413/620 /Users/sreenadh/yolov8_env/satellite_dataset_1/test/images/470.jpg: 640x640 1 Cyclone, 108.8ms\n",
      "image 414/620 /Users/sreenadh/yolov8_env/satellite_dataset_1/test/images/471.jpg: 640x640 1 Cyclone, 110.7ms\n",
      "image 415/620 /Users/sreenadh/yolov8_env/satellite_dataset_1/test/images/472.jpg: 640x640 1 Cyclone, 103.5ms\n",
      "image 416/620 /Users/sreenadh/yolov8_env/satellite_dataset_1/test/images/473.jpg: 640x640 1 Cyclone, 107.5ms\n",
      "image 417/620 /Users/sreenadh/yolov8_env/satellite_dataset_1/test/images/474.jpg: 640x640 1 Cyclone, 107.1ms\n",
      "image 418/620 /Users/sreenadh/yolov8_env/satellite_dataset_1/test/images/475.jpg: 640x640 1 Cyclone, 111.3ms\n",
      "image 419/620 /Users/sreenadh/yolov8_env/satellite_dataset_1/test/images/476.jpg: 640x640 1 Cyclone, 110.8ms\n",
      "image 420/620 /Users/sreenadh/yolov8_env/satellite_dataset_1/test/images/477.jpg: 640x640 1 Cyclone, 107.8ms\n",
      "image 421/620 /Users/sreenadh/yolov8_env/satellite_dataset_1/test/images/478.jpg: 640x640 (no detections), 105.1ms\n",
      "image 422/620 /Users/sreenadh/yolov8_env/satellite_dataset_1/test/images/479.jpg: 640x640 1 Cyclone, 105.9ms\n",
      "image 423/620 /Users/sreenadh/yolov8_env/satellite_dataset_1/test/images/48.jpg: 640x640 1 Wildfire, 107.6ms\n",
      "image 424/620 /Users/sreenadh/yolov8_env/satellite_dataset_1/test/images/480.jpg: 640x640 1 Cyclone, 110.4ms\n",
      "image 425/620 /Users/sreenadh/yolov8_env/satellite_dataset_1/test/images/481.jpg: 640x640 1 Cyclone, 110.8ms\n",
      "image 426/620 /Users/sreenadh/yolov8_env/satellite_dataset_1/test/images/482.jpg: 640x640 1 Cyclone, 110.4ms\n",
      "image 427/620 /Users/sreenadh/yolov8_env/satellite_dataset_1/test/images/483.jpg: 640x640 1 Cyclone, 109.3ms\n",
      "image 428/620 /Users/sreenadh/yolov8_env/satellite_dataset_1/test/images/484.jpg: 640x640 1 Cyclone, 110.0ms\n",
      "image 429/620 /Users/sreenadh/yolov8_env/satellite_dataset_1/test/images/485.jpg: 640x640 1 Cyclone, 110.1ms\n",
      "image 430/620 /Users/sreenadh/yolov8_env/satellite_dataset_1/test/images/486.jpg: 640x640 1 Cyclone, 105.6ms\n",
      "image 431/620 /Users/sreenadh/yolov8_env/satellite_dataset_1/test/images/487.jpg: 640x640 1 Cyclone, 108.8ms\n",
      "image 432/620 /Users/sreenadh/yolov8_env/satellite_dataset_1/test/images/488.jpg: 640x640 2 Cyclones, 107.2ms\n",
      "image 433/620 /Users/sreenadh/yolov8_env/satellite_dataset_1/test/images/489.jpg: 640x640 2 Cyclones, 106.8ms\n",
      "image 434/620 /Users/sreenadh/yolov8_env/satellite_dataset_1/test/images/49.jpg: 640x640 2 Wildfires, 109.6ms\n",
      "image 435/620 /Users/sreenadh/yolov8_env/satellite_dataset_1/test/images/490.jpg: 640x640 1 Cyclone, 114.2ms\n",
      "image 436/620 /Users/sreenadh/yolov8_env/satellite_dataset_1/test/images/491.jpg: 640x640 1 Cyclone, 109.7ms\n",
      "image 437/620 /Users/sreenadh/yolov8_env/satellite_dataset_1/test/images/492.jpg: 640x640 2 Cyclones, 106.2ms\n",
      "image 438/620 /Users/sreenadh/yolov8_env/satellite_dataset_1/test/images/493.jpg: 640x640 1 Cyclone, 107.5ms\n",
      "image 439/620 /Users/sreenadh/yolov8_env/satellite_dataset_1/test/images/494.jpg: 640x640 2 Cyclones, 112.2ms\n",
      "image 440/620 /Users/sreenadh/yolov8_env/satellite_dataset_1/test/images/495.jpg: 640x640 1 Cyclone, 111.3ms\n",
      "image 441/620 /Users/sreenadh/yolov8_env/satellite_dataset_1/test/images/496.jpg: 640x640 1 Cyclone, 108.2ms\n",
      "image 442/620 /Users/sreenadh/yolov8_env/satellite_dataset_1/test/images/497.jpg: 640x640 1 Cyclone, 108.7ms\n",
      "image 443/620 /Users/sreenadh/yolov8_env/satellite_dataset_1/test/images/498.jpg: 640x640 2 Cyclones, 108.2ms\n",
      "image 444/620 /Users/sreenadh/yolov8_env/satellite_dataset_1/test/images/499.jpg: 640x640 1 Cyclone, 108.3ms\n",
      "image 445/620 /Users/sreenadh/yolov8_env/satellite_dataset_1/test/images/5.jpg: 640x640 2 Wildfires, 111.3ms\n",
      "image 446/620 /Users/sreenadh/yolov8_env/satellite_dataset_1/test/images/50.jpg: 640x640 1 Wildfire, 109.7ms\n"
     ]
    },
    {
     "name": "stdout",
     "output_type": "stream",
     "text": [
      "image 447/620 /Users/sreenadh/yolov8_env/satellite_dataset_1/test/images/500.jpg: 640x640 1 Cyclone, 108.4ms\n",
      "image 448/620 /Users/sreenadh/yolov8_env/satellite_dataset_1/test/images/501.jpg: 640x640 1 Cyclone, 107.0ms\n",
      "image 449/620 /Users/sreenadh/yolov8_env/satellite_dataset_1/test/images/502.jpg: 640x640 1 Cyclone, 110.2ms\n",
      "image 450/620 /Users/sreenadh/yolov8_env/satellite_dataset_1/test/images/503.jpg: 640x640 1 Cyclone, 108.5ms\n",
      "image 451/620 /Users/sreenadh/yolov8_env/satellite_dataset_1/test/images/504.jpg: 640x640 1 Cyclone, 104.9ms\n",
      "image 452/620 /Users/sreenadh/yolov8_env/satellite_dataset_1/test/images/505.jpg: 640x640 1 Cyclone, 108.8ms\n",
      "image 453/620 /Users/sreenadh/yolov8_env/satellite_dataset_1/test/images/506.jpg: 640x640 1 Cyclone, 111.4ms\n",
      "image 454/620 /Users/sreenadh/yolov8_env/satellite_dataset_1/test/images/507.jpg: 640x640 1 Cyclone, 113.4ms\n",
      "image 455/620 /Users/sreenadh/yolov8_env/satellite_dataset_1/test/images/508.jpg: 640x640 2 Cyclones, 103.1ms\n",
      "image 456/620 /Users/sreenadh/yolov8_env/satellite_dataset_1/test/images/509.jpg: 640x640 2 Cyclones, 109.4ms\n",
      "image 457/620 /Users/sreenadh/yolov8_env/satellite_dataset_1/test/images/51.jpg: 640x640 2 Wildfires, 109.0ms\n",
      "image 458/620 /Users/sreenadh/yolov8_env/satellite_dataset_1/test/images/510.jpg: 640x640 (no detections), 112.2ms\n",
      "image 459/620 /Users/sreenadh/yolov8_env/satellite_dataset_1/test/images/511.jpg: 640x640 1 Cyclone, 111.2ms\n",
      "image 460/620 /Users/sreenadh/yolov8_env/satellite_dataset_1/test/images/512.jpg: 640x640 2 Cyclones, 108.4ms\n",
      "image 461/620 /Users/sreenadh/yolov8_env/satellite_dataset_1/test/images/513.jpg: 640x640 1 Cyclone, 104.8ms\n",
      "image 462/620 /Users/sreenadh/yolov8_env/satellite_dataset_1/test/images/514.jpg: 640x640 1 Cyclone, 108.0ms\n",
      "image 463/620 /Users/sreenadh/yolov8_env/satellite_dataset_1/test/images/515.jpg: 640x640 1 Cyclone, 110.3ms\n",
      "image 464/620 /Users/sreenadh/yolov8_env/satellite_dataset_1/test/images/516.jpg: 640x640 1 Cyclone, 105.5ms\n",
      "image 465/620 /Users/sreenadh/yolov8_env/satellite_dataset_1/test/images/517.jpg: 640x640 2 Cyclones, 107.4ms\n",
      "image 466/620 /Users/sreenadh/yolov8_env/satellite_dataset_1/test/images/518.jpg: 640x640 1 Cyclone, 108.9ms\n",
      "image 467/620 /Users/sreenadh/yolov8_env/satellite_dataset_1/test/images/519.jpg: 640x640 (no detections), 105.7ms\n",
      "image 468/620 /Users/sreenadh/yolov8_env/satellite_dataset_1/test/images/52.jpg: 640x640 3 Wildfires, 109.6ms\n",
      "image 469/620 /Users/sreenadh/yolov8_env/satellite_dataset_1/test/images/520.jpg: 640x640 (no detections), 106.3ms\n",
      "image 470/620 /Users/sreenadh/yolov8_env/satellite_dataset_1/test/images/521.jpg: 640x640 (no detections), 106.1ms\n",
      "image 471/620 /Users/sreenadh/yolov8_env/satellite_dataset_1/test/images/522.jpg: 640x640 1 Cyclone, 106.2ms\n",
      "image 472/620 /Users/sreenadh/yolov8_env/satellite_dataset_1/test/images/523.jpg: 640x640 1 Cyclone, 110.9ms\n",
      "image 473/620 /Users/sreenadh/yolov8_env/satellite_dataset_1/test/images/524.jpg: 640x640 1 Cyclone, 106.4ms\n",
      "image 474/620 /Users/sreenadh/yolov8_env/satellite_dataset_1/test/images/525.jpg: 640x640 (no detections), 113.7ms\n",
      "image 475/620 /Users/sreenadh/yolov8_env/satellite_dataset_1/test/images/526.jpg: 640x640 (no detections), 108.4ms\n",
      "image 476/620 /Users/sreenadh/yolov8_env/satellite_dataset_1/test/images/527.jpg: 640x640 1 Cyclone, 110.0ms\n",
      "image 477/620 /Users/sreenadh/yolov8_env/satellite_dataset_1/test/images/528.jpg: 640x640 (no detections), 110.2ms\n",
      "image 478/620 /Users/sreenadh/yolov8_env/satellite_dataset_1/test/images/529.jpg: 640x640 (no detections), 110.1ms\n",
      "image 479/620 /Users/sreenadh/yolov8_env/satellite_dataset_1/test/images/53.jpg: 640x640 2 Wildfires, 108.3ms\n",
      "image 480/620 /Users/sreenadh/yolov8_env/satellite_dataset_1/test/images/530.jpg: 640x640 1 Cyclone, 105.9ms\n",
      "image 481/620 /Users/sreenadh/yolov8_env/satellite_dataset_1/test/images/531.jpg: 640x640 1 Cyclone, 105.2ms\n",
      "image 482/620 /Users/sreenadh/yolov8_env/satellite_dataset_1/test/images/532.jpg: 640x640 1 Cyclone, 110.2ms\n",
      "image 483/620 /Users/sreenadh/yolov8_env/satellite_dataset_1/test/images/533.jpg: 640x640 (no detections), 112.3ms\n",
      "image 484/620 /Users/sreenadh/yolov8_env/satellite_dataset_1/test/images/534.jpg: 640x640 (no detections), 109.5ms\n",
      "image 485/620 /Users/sreenadh/yolov8_env/satellite_dataset_1/test/images/535.jpg: 640x640 (no detections), 108.3ms\n",
      "image 486/620 /Users/sreenadh/yolov8_env/satellite_dataset_1/test/images/536.jpg: 640x640 1 Cyclone, 107.4ms\n",
      "image 487/620 /Users/sreenadh/yolov8_env/satellite_dataset_1/test/images/537.jpg: 640x640 1 Cyclone, 109.1ms\n",
      "image 488/620 /Users/sreenadh/yolov8_env/satellite_dataset_1/test/images/538.jpg: 640x640 1 Cyclone, 109.8ms\n",
      "image 489/620 /Users/sreenadh/yolov8_env/satellite_dataset_1/test/images/539.jpg: 640x640 (no detections), 106.3ms\n",
      "image 490/620 /Users/sreenadh/yolov8_env/satellite_dataset_1/test/images/54.jpg: 640x640 1 Wildfire, 108.3ms\n",
      "image 491/620 /Users/sreenadh/yolov8_env/satellite_dataset_1/test/images/540.jpg: 640x640 1 Cyclone, 107.3ms\n",
      "image 492/620 /Users/sreenadh/yolov8_env/satellite_dataset_1/test/images/541.jpg: 640x640 1 Cyclone, 108.9ms\n",
      "image 493/620 /Users/sreenadh/yolov8_env/satellite_dataset_1/test/images/542.jpg: 640x640 (no detections), 106.7ms\n",
      "image 494/620 /Users/sreenadh/yolov8_env/satellite_dataset_1/test/images/543.jpg: 640x640 (no detections), 109.5ms\n",
      "image 495/620 /Users/sreenadh/yolov8_env/satellite_dataset_1/test/images/544.jpg: 640x640 (no detections), 108.6ms\n",
      "image 496/620 /Users/sreenadh/yolov8_env/satellite_dataset_1/test/images/545.jpg: 640x640 (no detections), 108.6ms\n",
      "image 497/620 /Users/sreenadh/yolov8_env/satellite_dataset_1/test/images/546.jpg: 640x640 1 Cyclone, 109.2ms\n",
      "image 498/620 /Users/sreenadh/yolov8_env/satellite_dataset_1/test/images/547.jpg: 640x640 1 Cyclone, 109.0ms\n",
      "image 499/620 /Users/sreenadh/yolov8_env/satellite_dataset_1/test/images/548.jpg: 640x640 1 Cyclone, 107.7ms\n",
      "image 500/620 /Users/sreenadh/yolov8_env/satellite_dataset_1/test/images/549.jpg: 640x640 1 Cyclone, 108.2ms\n",
      "image 501/620 /Users/sreenadh/yolov8_env/satellite_dataset_1/test/images/55.jpg: 640x640 1 Wildfire, 110.5ms\n",
      "image 502/620 /Users/sreenadh/yolov8_env/satellite_dataset_1/test/images/550.jpg: 640x640 1 Cyclone, 110.5ms\n",
      "image 503/620 /Users/sreenadh/yolov8_env/satellite_dataset_1/test/images/551.jpg: 640x640 1 Cyclone, 110.1ms\n",
      "image 504/620 /Users/sreenadh/yolov8_env/satellite_dataset_1/test/images/552.jpg: 640x640 (no detections), 110.9ms\n",
      "image 505/620 /Users/sreenadh/yolov8_env/satellite_dataset_1/test/images/553.jpg: 640x640 1 Cyclone, 109.8ms\n",
      "image 506/620 /Users/sreenadh/yolov8_env/satellite_dataset_1/test/images/554.jpg: 640x640 1 Cyclone, 110.8ms\n",
      "image 507/620 /Users/sreenadh/yolov8_env/satellite_dataset_1/test/images/555.jpg: 640x640 1 Cyclone, 113.2ms\n",
      "image 508/620 /Users/sreenadh/yolov8_env/satellite_dataset_1/test/images/556.jpg: 640x640 1 Cyclone, 110.5ms\n",
      "image 509/620 /Users/sreenadh/yolov8_env/satellite_dataset_1/test/images/557.jpg: 640x640 1 Cyclone, 102.6ms\n",
      "image 510/620 /Users/sreenadh/yolov8_env/satellite_dataset_1/test/images/558.jpg: 640x640 (no detections), 109.8ms\n",
      "image 511/620 /Users/sreenadh/yolov8_env/satellite_dataset_1/test/images/559.jpg: 640x640 2 Cyclones, 106.3ms\n",
      "image 512/620 /Users/sreenadh/yolov8_env/satellite_dataset_1/test/images/56.jpg: 640x640 1 Wildfire, 112.5ms\n",
      "image 513/620 /Users/sreenadh/yolov8_env/satellite_dataset_1/test/images/560.jpg: 640x640 3 Cyclones, 109.6ms\n",
      "image 514/620 /Users/sreenadh/yolov8_env/satellite_dataset_1/test/images/561.jpg: 640x640 1 Cyclone, 108.1ms\n",
      "image 515/620 /Users/sreenadh/yolov8_env/satellite_dataset_1/test/images/562.jpg: 640x640 2 Cyclones, 107.9ms\n",
      "image 516/620 /Users/sreenadh/yolov8_env/satellite_dataset_1/test/images/563.jpg: 640x640 1 Cyclone, 107.3ms\n",
      "image 517/620 /Users/sreenadh/yolov8_env/satellite_dataset_1/test/images/564.jpg: 640x640 2 Cyclones, 109.8ms\n",
      "image 518/620 /Users/sreenadh/yolov8_env/satellite_dataset_1/test/images/565.jpg: 640x640 1 Cyclone, 107.9ms\n",
      "image 519/620 /Users/sreenadh/yolov8_env/satellite_dataset_1/test/images/566.jpg: 640x640 1 Cyclone, 111.6ms\n",
      "image 520/620 /Users/sreenadh/yolov8_env/satellite_dataset_1/test/images/567.jpg: 640x640 1 Cyclone, 112.7ms\n",
      "image 521/620 /Users/sreenadh/yolov8_env/satellite_dataset_1/test/images/568.jpg: 640x640 1 Cyclone, 107.7ms\n"
     ]
    },
    {
     "name": "stdout",
     "output_type": "stream",
     "text": [
      "image 522/620 /Users/sreenadh/yolov8_env/satellite_dataset_1/test/images/569.jpg: 640x640 (no detections), 110.2ms\n",
      "image 523/620 /Users/sreenadh/yolov8_env/satellite_dataset_1/test/images/57.jpg: 640x640 2 Wildfires, 110.4ms\n",
      "image 524/620 /Users/sreenadh/yolov8_env/satellite_dataset_1/test/images/570.jpg: 640x640 (no detections), 110.6ms\n",
      "image 525/620 /Users/sreenadh/yolov8_env/satellite_dataset_1/test/images/571.jpg: 640x640 (no detections), 108.5ms\n",
      "image 526/620 /Users/sreenadh/yolov8_env/satellite_dataset_1/test/images/572.jpg: 640x640 1 Cyclone, 112.3ms\n",
      "image 527/620 /Users/sreenadh/yolov8_env/satellite_dataset_1/test/images/573.jpg: 640x640 1 Cyclone, 113.5ms\n",
      "image 528/620 /Users/sreenadh/yolov8_env/satellite_dataset_1/test/images/574.jpg: 640x640 1 Cyclone, 107.5ms\n",
      "image 529/620 /Users/sreenadh/yolov8_env/satellite_dataset_1/test/images/575.jpg: 640x640 3 Cyclones, 107.9ms\n",
      "image 530/620 /Users/sreenadh/yolov8_env/satellite_dataset_1/test/images/576.jpg: 640x640 1 Cyclone, 106.0ms\n",
      "image 531/620 /Users/sreenadh/yolov8_env/satellite_dataset_1/test/images/577.jpg: 640x640 1 Cyclone, 108.8ms\n",
      "image 532/620 /Users/sreenadh/yolov8_env/satellite_dataset_1/test/images/578.jpg: 640x640 1 Cyclone, 105.9ms\n",
      "image 533/620 /Users/sreenadh/yolov8_env/satellite_dataset_1/test/images/579.jpg: 640x640 1 Cyclone, 106.5ms\n",
      "image 534/620 /Users/sreenadh/yolov8_env/satellite_dataset_1/test/images/58.jpg: 640x640 1 Wildfire, 113.6ms\n",
      "image 535/620 /Users/sreenadh/yolov8_env/satellite_dataset_1/test/images/580.jpg: 640x640 1 Cyclone, 107.2ms\n",
      "image 536/620 /Users/sreenadh/yolov8_env/satellite_dataset_1/test/images/581.jpg: 640x640 2 Cyclones, 108.2ms\n",
      "image 537/620 /Users/sreenadh/yolov8_env/satellite_dataset_1/test/images/582.jpg: 640x640 1 Cyclone, 109.4ms\n",
      "image 538/620 /Users/sreenadh/yolov8_env/satellite_dataset_1/test/images/583.jpg: 640x640 1 Cyclone, 107.1ms\n",
      "image 539/620 /Users/sreenadh/yolov8_env/satellite_dataset_1/test/images/584.jpg: 640x640 2 Cyclones, 110.7ms\n",
      "image 540/620 /Users/sreenadh/yolov8_env/satellite_dataset_1/test/images/585.jpg: 640x640 2 Cyclones, 110.9ms\n",
      "image 541/620 /Users/sreenadh/yolov8_env/satellite_dataset_1/test/images/586.jpg: 640x640 3 Cyclones, 103.9ms\n",
      "image 542/620 /Users/sreenadh/yolov8_env/satellite_dataset_1/test/images/587.jpg: 640x640 2 Cyclones, 109.1ms\n",
      "image 543/620 /Users/sreenadh/yolov8_env/satellite_dataset_1/test/images/588.jpg: 640x640 1 Cyclone, 108.9ms\n",
      "image 544/620 /Users/sreenadh/yolov8_env/satellite_dataset_1/test/images/589.jpg: 640x640 2 Cyclones, 112.5ms\n",
      "image 545/620 /Users/sreenadh/yolov8_env/satellite_dataset_1/test/images/59.jpg: 640x640 2 Wildfires, 112.0ms\n",
      "image 546/620 /Users/sreenadh/yolov8_env/satellite_dataset_1/test/images/590.jpg: 640x640 1 Cyclone, 107.7ms\n",
      "image 547/620 /Users/sreenadh/yolov8_env/satellite_dataset_1/test/images/591.jpg: 640x640 1 Cyclone, 105.2ms\n",
      "image 548/620 /Users/sreenadh/yolov8_env/satellite_dataset_1/test/images/592.jpg: 640x640 1 Cyclone, 113.3ms\n",
      "image 549/620 /Users/sreenadh/yolov8_env/satellite_dataset_1/test/images/593.jpg: 640x640 1 Cyclone, 107.6ms\n",
      "image 550/620 /Users/sreenadh/yolov8_env/satellite_dataset_1/test/images/594.jpg: 640x640 1 Cyclone, 109.3ms\n",
      "image 551/620 /Users/sreenadh/yolov8_env/satellite_dataset_1/test/images/595.jpg: 640x640 2 Cyclones, 112.1ms\n",
      "image 552/620 /Users/sreenadh/yolov8_env/satellite_dataset_1/test/images/596.jpg: 640x640 1 Cyclone, 107.5ms\n",
      "image 553/620 /Users/sreenadh/yolov8_env/satellite_dataset_1/test/images/597.jpg: 640x640 2 Cyclones, 107.9ms\n",
      "image 554/620 /Users/sreenadh/yolov8_env/satellite_dataset_1/test/images/598.jpg: 640x640 2 Cyclones, 112.8ms\n",
      "image 555/620 /Users/sreenadh/yolov8_env/satellite_dataset_1/test/images/599.jpg: 640x640 2 Cyclones, 112.6ms\n",
      "image 556/620 /Users/sreenadh/yolov8_env/satellite_dataset_1/test/images/6.jpg: 640x640 (no detections), 109.2ms\n",
      "image 557/620 /Users/sreenadh/yolov8_env/satellite_dataset_1/test/images/60.jpg: 640x640 3 Wildfires, 105.9ms\n",
      "image 558/620 /Users/sreenadh/yolov8_env/satellite_dataset_1/test/images/600.jpg: 640x640 2 Cyclones, 109.2ms\n",
      "image 559/620 /Users/sreenadh/yolov8_env/satellite_dataset_1/test/images/601.jpg: 640x640 1 Cyclone, 107.7ms\n",
      "image 560/620 /Users/sreenadh/yolov8_env/satellite_dataset_1/test/images/602.jpg: 640x640 1 Cyclone, 106.6ms\n",
      "image 561/620 /Users/sreenadh/yolov8_env/satellite_dataset_1/test/images/603.jpg: 640x640 2 Cyclones, 107.6ms\n",
      "image 562/620 /Users/sreenadh/yolov8_env/satellite_dataset_1/test/images/604.jpg: 640x640 2 Cyclones, 108.5ms\n",
      "image 563/620 /Users/sreenadh/yolov8_env/satellite_dataset_1/test/images/605.jpg: 640x640 (no detections), 107.0ms\n",
      "image 564/620 /Users/sreenadh/yolov8_env/satellite_dataset_1/test/images/606.jpg: 640x640 1 Cyclone, 109.8ms\n",
      "image 565/620 /Users/sreenadh/yolov8_env/satellite_dataset_1/test/images/607.jpg: 640x640 2 Cyclones, 109.0ms\n",
      "image 566/620 /Users/sreenadh/yolov8_env/satellite_dataset_1/test/images/608.jpg: 640x640 1 Cyclone, 109.2ms\n",
      "image 567/620 /Users/sreenadh/yolov8_env/satellite_dataset_1/test/images/609.jpg: 640x640 1 Cyclone, 107.5ms\n",
      "image 568/620 /Users/sreenadh/yolov8_env/satellite_dataset_1/test/images/61.jpg: 640x640 7 Wildfires, 110.1ms\n",
      "image 569/620 /Users/sreenadh/yolov8_env/satellite_dataset_1/test/images/610.jpg: 640x640 2 Cyclones, 114.1ms\n",
      "image 570/620 /Users/sreenadh/yolov8_env/satellite_dataset_1/test/images/611.jpg: 640x640 3 Cyclones, 129.5ms\n",
      "image 571/620 /Users/sreenadh/yolov8_env/satellite_dataset_1/test/images/612.jpg: 640x640 4 Cyclones, 115.9ms\n",
      "image 572/620 /Users/sreenadh/yolov8_env/satellite_dataset_1/test/images/613.jpg: 640x640 3 Cyclones, 113.0ms\n",
      "image 573/620 /Users/sreenadh/yolov8_env/satellite_dataset_1/test/images/614.jpg: 640x640 2 Cyclones, 112.0ms\n",
      "image 574/620 /Users/sreenadh/yolov8_env/satellite_dataset_1/test/images/615.jpg: 640x640 3 Cyclones, 106.9ms\n",
      "image 575/620 /Users/sreenadh/yolov8_env/satellite_dataset_1/test/images/616.jpg: 640x640 2 Cyclones, 107.8ms\n",
      "image 576/620 /Users/sreenadh/yolov8_env/satellite_dataset_1/test/images/617.jpg: 640x640 (no detections), 103.6ms\n",
      "image 577/620 /Users/sreenadh/yolov8_env/satellite_dataset_1/test/images/618.jpg: 640x640 (no detections), 105.7ms\n",
      "image 578/620 /Users/sreenadh/yolov8_env/satellite_dataset_1/test/images/619.jpg: 640x640 (no detections), 109.2ms\n",
      "image 579/620 /Users/sreenadh/yolov8_env/satellite_dataset_1/test/images/62.jpg: 640x640 1 Wildfire, 113.6ms\n",
      "image 580/620 /Users/sreenadh/yolov8_env/satellite_dataset_1/test/images/620.jpg: 640x640 2 Cyclones, 111.8ms\n",
      "image 581/620 /Users/sreenadh/yolov8_env/satellite_dataset_1/test/images/63.jpg: 640x640 1 Wildfire, 107.9ms\n",
      "image 582/620 /Users/sreenadh/yolov8_env/satellite_dataset_1/test/images/64.jpg: 640x640 (no detections), 112.2ms\n",
      "image 583/620 /Users/sreenadh/yolov8_env/satellite_dataset_1/test/images/65.jpg: 640x640 1 Wildfire, 107.5ms\n",
      "image 584/620 /Users/sreenadh/yolov8_env/satellite_dataset_1/test/images/66.jpg: 640x640 1 Wildfire, 110.9ms\n",
      "image 585/620 /Users/sreenadh/yolov8_env/satellite_dataset_1/test/images/67.jpg: 640x640 (no detections), 110.4ms\n",
      "image 586/620 /Users/sreenadh/yolov8_env/satellite_dataset_1/test/images/68.jpg: 640x640 3 Wildfires, 114.5ms\n",
      "image 587/620 /Users/sreenadh/yolov8_env/satellite_dataset_1/test/images/69.jpg: 640x640 3 Wildfires, 108.6ms\n",
      "image 588/620 /Users/sreenadh/yolov8_env/satellite_dataset_1/test/images/7.jpg: 640x640 (no detections), 110.8ms\n",
      "image 589/620 /Users/sreenadh/yolov8_env/satellite_dataset_1/test/images/70.jpg: 640x640 2 Wildfires, 112.6ms\n",
      "image 590/620 /Users/sreenadh/yolov8_env/satellite_dataset_1/test/images/71.jpg: 640x640 (no detections), 108.4ms\n",
      "image 591/620 /Users/sreenadh/yolov8_env/satellite_dataset_1/test/images/72.jpg: 640x640 1 Wildfire, 111.8ms\n",
      "image 592/620 /Users/sreenadh/yolov8_env/satellite_dataset_1/test/images/73.jpg: 640x640 1 Wildfire, 117.3ms\n",
      "image 593/620 /Users/sreenadh/yolov8_env/satellite_dataset_1/test/images/74.jpg: 640x640 2 Wildfires, 108.7ms\n",
      "image 594/620 /Users/sreenadh/yolov8_env/satellite_dataset_1/test/images/75.jpg: 640x640 1 Wildfire, 112.0ms\n",
      "image 595/620 /Users/sreenadh/yolov8_env/satellite_dataset_1/test/images/76.jpg: 640x640 2 Wildfires, 109.4ms\n",
      "image 596/620 /Users/sreenadh/yolov8_env/satellite_dataset_1/test/images/77.jpg: 640x640 (no detections), 128.9ms\n"
     ]
    },
    {
     "name": "stdout",
     "output_type": "stream",
     "text": [
      "image 597/620 /Users/sreenadh/yolov8_env/satellite_dataset_1/test/images/78.jpg: 640x640 3 Wildfires, 138.4ms\n",
      "image 598/620 /Users/sreenadh/yolov8_env/satellite_dataset_1/test/images/79.jpg: 640x640 1 Wildfire, 131.7ms\n",
      "image 599/620 /Users/sreenadh/yolov8_env/satellite_dataset_1/test/images/8.jpg: 640x640 (no detections), 136.1ms\n",
      "image 600/620 /Users/sreenadh/yolov8_env/satellite_dataset_1/test/images/80.jpg: 640x640 1 Wildfire, 140.4ms\n",
      "image 601/620 /Users/sreenadh/yolov8_env/satellite_dataset_1/test/images/81.jpg: 640x640 1 Wildfire, 141.0ms\n",
      "image 602/620 /Users/sreenadh/yolov8_env/satellite_dataset_1/test/images/82.jpg: 640x640 1 Wildfire, 161.1ms\n",
      "image 603/620 /Users/sreenadh/yolov8_env/satellite_dataset_1/test/images/83.jpg: 640x640 1 Wildfire, 144.4ms\n",
      "image 604/620 /Users/sreenadh/yolov8_env/satellite_dataset_1/test/images/84.jpg: 640x640 2 Wildfires, 138.0ms\n",
      "image 605/620 /Users/sreenadh/yolov8_env/satellite_dataset_1/test/images/85.jpg: 640x640 1 Wildfire, 142.9ms\n",
      "image 606/620 /Users/sreenadh/yolov8_env/satellite_dataset_1/test/images/86.jpg: 640x640 (no detections), 135.0ms\n",
      "image 607/620 /Users/sreenadh/yolov8_env/satellite_dataset_1/test/images/87.jpg: 640x640 (no detections), 131.0ms\n",
      "image 608/620 /Users/sreenadh/yolov8_env/satellite_dataset_1/test/images/88.jpg: 640x640 4 Wildfires, 125.4ms\n",
      "image 609/620 /Users/sreenadh/yolov8_env/satellite_dataset_1/test/images/89.jpg: 640x640 (no detections), 116.1ms\n",
      "image 610/620 /Users/sreenadh/yolov8_env/satellite_dataset_1/test/images/9.jpg: 640x640 1 Wildfire, 117.9ms\n",
      "image 611/620 /Users/sreenadh/yolov8_env/satellite_dataset_1/test/images/90.jpg: 640x640 1 Wildfire, 122.6ms\n",
      "image 612/620 /Users/sreenadh/yolov8_env/satellite_dataset_1/test/images/91.jpg: 640x640 1 Wildfire, 111.5ms\n",
      "image 613/620 /Users/sreenadh/yolov8_env/satellite_dataset_1/test/images/92.jpg: 640x640 (no detections), 111.1ms\n",
      "image 614/620 /Users/sreenadh/yolov8_env/satellite_dataset_1/test/images/93.jpg: 640x640 1 Wildfire, 113.2ms\n",
      "image 615/620 /Users/sreenadh/yolov8_env/satellite_dataset_1/test/images/94.jpg: 640x640 2 Wildfires, 111.3ms\n",
      "image 616/620 /Users/sreenadh/yolov8_env/satellite_dataset_1/test/images/95.jpg: 640x640 2 Wildfires, 113.4ms\n",
      "image 617/620 /Users/sreenadh/yolov8_env/satellite_dataset_1/test/images/96.jpg: 640x640 1 Wildfire, 111.5ms\n",
      "image 618/620 /Users/sreenadh/yolov8_env/satellite_dataset_1/test/images/97.jpg: 640x640 (no detections), 110.5ms\n",
      "image 619/620 /Users/sreenadh/yolov8_env/satellite_dataset_1/test/images/98.jpg: 640x640 2 Wildfires, 111.3ms\n",
      "image 620/620 /Users/sreenadh/yolov8_env/satellite_dataset_1/test/images/99.jpg: 640x640 3 Wildfires, 111.0ms\n",
      "Speed: 2.2ms preprocess, 111.4ms inference, 0.8ms postprocess per image at shape (1, 3, 640, 640)\n",
      "Results saved to \u001b[1m/opt/homebrew/runs/detect/predict\u001b[0m\n",
      "💡 Learn more at https://docs.ultralytics.com/modes/predict\n"
     ]
    }
   ],
   "source": [
    "!yolo task=detect mode=predict model=/Users/sreenadh/weights/best.pt conf=0.25 source=/Users/sreenadh/yolov8_env/satellite_dataset_1/test/images"
   ]
  },
  {
   "cell_type": "code",
   "execution_count": null,
   "id": "1bd09c9c",
   "metadata": {},
   "outputs": [],
   "source": []
  }
 ],
 "metadata": {
  "kernelspec": {
   "display_name": "Python 3 (ipykernel)",
   "language": "python",
   "name": "python3"
  },
  "language_info": {
   "codemirror_mode": {
    "name": "ipython",
    "version": 3
   },
   "file_extension": ".py",
   "mimetype": "text/x-python",
   "name": "python",
   "nbconvert_exporter": "python",
   "pygments_lexer": "ipython3",
   "version": "3.10.12"
  }
 },
 "nbformat": 4,
 "nbformat_minor": 5
}
